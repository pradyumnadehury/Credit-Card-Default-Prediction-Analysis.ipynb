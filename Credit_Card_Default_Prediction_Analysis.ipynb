{
  "cells": [
    {
      "cell_type": "markdown",
      "metadata": {
        "id": "view-in-github",
        "colab_type": "text"
      },
      "source": [
        "<a href=\"https://colab.research.google.com/github/pradyumnadehury/Credit-Card-Default-Prediction-Analysis.ipynb/blob/main/Credit_Card_Default_Prediction_Analysis.ipynb\" target=\"_parent\"><img src=\"https://colab.research.google.com/assets/colab-badge.svg\" alt=\"Open In Colab\"/></a>"
      ]
    },
    {
      "cell_type": "markdown",
      "metadata": {
        "id": "I_RhE42kXRfH"
      },
      "source": [
        "# **Project Title:Predicting whether a customer will default on his/her credit card**"
      ]
    },
    {
      "cell_type": "markdown",
      "metadata": {
        "id": "-8xN5uRiXrZV"
      },
      "source": [
        "**problem Description**\n",
        "\n",
        "This project is aimed at predicted the case of customers default payment in Taiwan.From the perspective of risk manegement,the result of predictive accuracy of the estimated probability of default will be more valuable than the binary result of classification-credible or not credible clients.We can use the K-S chart to evaluate which customers will default on their credit card payments.\n",
        "\n",
        "**Data Description**\n",
        "\n",
        "Attribute Information:\n",
        "\n",
        "This research employed a binary variable,default payment(yes=1,No=0),as the response variable.this study reviewed the literature and used the following 23 variables as explanatory variables.\n",
        "\n",
        "* X1:Amount of the given credit(NT dollar):it includes both the individual consumer and his/her family(supplementary)credit.\n",
        "\n",
        "* X2:Gender(1=male,2=female)\n",
        "\n",
        "* X3:Education(1=gradute school,2=university,3=high school,4=others)\n",
        "\n",
        "* X4:Marital status(1=married;2=single;3=others)\n",
        "\n",
        "* X5:Age(year)\n",
        "\n",
        "* X6-X11:History of the past.we tracked the past monthly payment records(from april to september,2005)as follows\n",
        "* X6: the repayment status in september,2005\n",
        "\n",
        "* X7: the repayment status in August, 2005;......;X11 = the repayment status in April 2005.\n",
        "* The measurement scale for the repayment status is:-1 = pay duly ;1= payment delay for the one month;2=payment delay for two month;......;8=payment delay for eight months;9 = payment delay for nine months and above.\n",
        "\n",
        "* X12-X17: Amount of bill statement(NT dollar)\n",
        "\n",
        "* X12 = Amount of bill statement in septemeber,2005\n",
        "\n",
        "* X13 = Amount of bill statement in August,2005.......;X17 = Amount of bill statement in April ,2005\n",
        "* X18-X23: Amount of the previous payment(NT dollar).\n",
        "* X18 = Amount paid in september ,2005.\n",
        "* X19 = Amount paid in August,2005;....;X23 = Amount paid in April,2005\n",
        "\n"
      ]
    },
    {
      "cell_type": "markdown",
      "metadata": {
        "id": "paHPcHKRPP-k"
      },
      "source": [
        "# **Business Objective:**"
      ]
    },
    {
      "cell_type": "markdown",
      "metadata": {
        "id": "44w86G8XPaYy"
      },
      "source": [
        "The objective of the this project is to predict which customer might default in coming months.First,lets understand what do we actually mean by Credit card Default.\n",
        "\n",
        "A credit card is a thin rectangular piece of plastic or metal issued by a bank or finalcial services company,that allows cardholders to borrow fund with to pay for goods and services with merchants that accept card for payment.\n",
        "\n",
        "Default usually happens after six month in a row of making at least the minimum payment due,which means the person's credit card is seriously delinquent.During that time the person will be contacted by the creditor and they will want to know what the person is going to do about it.if they are not satisfied with the person response ,the account will be closed and after 180 days with no payment.reported as charged off to the credit bureaus.\n",
        "\n",
        "The research aims at developing a mechanism to predict the credit card default beforehand and to identify the potential customer base that can be offerd various credit instrument so as to invite minmum default."
      ]
    },
    {
      "cell_type": "markdown",
      "metadata": {
        "id": "QnusyAMEZsEX"
      },
      "source": [
        "# **Importing Libraries**"
      ]
    },
    {
      "cell_type": "markdown",
      "metadata": {
        "id": "VIiEDmHMYtmS"
      },
      "source": [
        "importing necessary libraries for EDA,Data visualization,Data Preprocessing and for various machine learning algorithm and its evaluations"
      ]
    },
    {
      "cell_type": "code",
      "execution_count": 112,
      "metadata": {
        "id": "QDkb0XK8qrVC"
      },
      "outputs": [],
      "source": [
        "import pandas as pd\n",
        "import numpy as np\n",
        "import matplotlib.pyplot as plt\n",
        "import seaborn as sns\n",
        "import sys\n",
        "import plotly.graph_objs as go\n",
        "import plotly.express as px\n",
        "import plotly.figure_factory as ff\n",
        "%matplotlib inline\n",
        "\n",
        "import gc\n",
        "from scipy import stats\n",
        "from scipy.stats import chisquare\n",
        "from scipy.stats import chi2_contingency\n",
        "from scipy.stats import ttest_ind_from_stats\n",
        "\n",
        "from datetime import datetime\n",
        "from sklearn.model_selection import KFold,GridSearchCV,RandomizedSearchCV,train_test_split\n",
        "from sklearn.preprocessing import StandardScaler\n",
        "from sklearn.pipeline import Pipeline\n",
        "from sklearn.metrics import roc_auc_score\n",
        "from sklearn.utils import resample\n",
        "from imblearn.over_sampling import SMOTE\n",
        "from sklearn.feature_selection import RFE,SelectFromModel\n",
        "from sklearn.linear_model import LogisticRegression\n",
        "from sklearn.ensemble import RandomForestClassifier ,ExtraTreesClassifier, AdaBoostClassifier,GradientBoostingClassifier\n",
        "from sklearn.naive_bayes import GaussianNB\n",
        "from scipy.stats import randint as sp_randint\n",
        "from plotly.subplots import make_subplots\n",
        "import lightgbm as lgb\n",
        "import xgboost as xgb\n",
        "from xgboost import XGBClassifier\n",
        "from sklearn.svm import SVC\n",
        "from sklearn.neighbors import KNeighborsClassifier\n",
        "from sklearn.tree import DecisionTreeClassifier\n",
        "from sklearn.model_selection import cross_val_score\n",
        "from sklearn.metrics import classification_report,confusion_matrix,f1_score,roc_auc_score,roc_curve,accuracy_score, recall_score\n",
        "import warnings\n",
        "warnings.filterwarnings(\"ignore\")\n",
        "\n",
        "pd.set_option('display.precision', 2 )\n",
        "pd.set_option('display.max_columns', 50)"
      ]
    },
    {
      "cell_type": "markdown",
      "metadata": {
        "id": "BiNHMrtkrn8m"
      },
      "source": [
        "# **Loading Dataset**"
      ]
    },
    {
      "cell_type": "code",
      "execution_count": 113,
      "metadata": {
        "colab": {
          "base_uri": "https://localhost:8080/"
        },
        "id": "HSx4Y9Z8rlNW",
        "outputId": "94195b1a-668e-496f-b6cb-e508029944d4"
      },
      "outputs": [
        {
          "output_type": "stream",
          "name": "stdout",
          "text": [
            "Drive already mounted at /content/drive; to attempt to forcibly remount, call drive.mount(\"/content/drive\", force_remount=True).\n"
          ]
        }
      ],
      "source": [
        "#Mounted the google drive\n",
        "from google.colab import drive\n",
        "drive.mount('/content/drive')"
      ]
    },
    {
      "cell_type": "code",
      "execution_count": 114,
      "metadata": {
        "id": "gh0CrAkPuehn"
      },
      "outputs": [],
      "source": [
        "from pathlib import Path\n",
        "src_file=Path.cwd()/'/content/drive/MyDrive/Data/default of credit card clients.xls'\n",
        "cred_df=pd.read_excel(src_file,header=1)"
      ]
    },
    {
      "cell_type": "markdown",
      "metadata": {
        "id": "6gNRuLhhvdUr"
      },
      "source": [
        "# **# Understanding the Dataset**"
      ]
    },
    {
      "cell_type": "code",
      "execution_count": 115,
      "metadata": {
        "colab": {
          "base_uri": "https://localhost:8080/",
          "height": 278
        },
        "id": "pPQ1PIe0vZfX",
        "outputId": "d19ed753-a0cb-484d-f56b-58b1d470760e"
      },
      "outputs": [
        {
          "output_type": "execute_result",
          "data": {
            "text/plain": [
              "   ID  LIMIT_BAL  SEX  EDUCATION  MARRIAGE  AGE  PAY_0  PAY_2  PAY_3  PAY_4  \\\n",
              "0   1      20000    2          2         1   24      2      2     -1     -1   \n",
              "1   2     120000    2          2         2   26     -1      2      0      0   \n",
              "2   3      90000    2          2         2   34      0      0      0      0   \n",
              "3   4      50000    2          2         1   37      0      0      0      0   \n",
              "4   5      50000    1          2         1   57     -1      0     -1      0   \n",
              "\n",
              "   PAY_5  PAY_6  BILL_AMT1  BILL_AMT2  BILL_AMT3  BILL_AMT4  BILL_AMT5  \\\n",
              "0     -2     -2       3913       3102        689          0          0   \n",
              "1      0      2       2682       1725       2682       3272       3455   \n",
              "2      0      0      29239      14027      13559      14331      14948   \n",
              "3      0      0      46990      48233      49291      28314      28959   \n",
              "4      0      0       8617       5670      35835      20940      19146   \n",
              "\n",
              "   BILL_AMT6  PAY_AMT1  PAY_AMT2  PAY_AMT3  PAY_AMT4  PAY_AMT5  PAY_AMT6  \\\n",
              "0          0         0       689         0         0         0         0   \n",
              "1       3261         0      1000      1000      1000         0      2000   \n",
              "2      15549      1518      1500      1000      1000      1000      5000   \n",
              "3      29547      2000      2019      1200      1100      1069      1000   \n",
              "4      19131      2000     36681     10000      9000       689       679   \n",
              "\n",
              "   default payment next month  \n",
              "0                           1  \n",
              "1                           1  \n",
              "2                           0  \n",
              "3                           0  \n",
              "4                           0  "
            ],
            "text/html": [
              "\n",
              "  <div id=\"df-d60a6009-94b1-42bd-ad4c-981e0e1b5b39\" class=\"colab-df-container\">\n",
              "    <div>\n",
              "<style scoped>\n",
              "    .dataframe tbody tr th:only-of-type {\n",
              "        vertical-align: middle;\n",
              "    }\n",
              "\n",
              "    .dataframe tbody tr th {\n",
              "        vertical-align: top;\n",
              "    }\n",
              "\n",
              "    .dataframe thead th {\n",
              "        text-align: right;\n",
              "    }\n",
              "</style>\n",
              "<table border=\"1\" class=\"dataframe\">\n",
              "  <thead>\n",
              "    <tr style=\"text-align: right;\">\n",
              "      <th></th>\n",
              "      <th>ID</th>\n",
              "      <th>LIMIT_BAL</th>\n",
              "      <th>SEX</th>\n",
              "      <th>EDUCATION</th>\n",
              "      <th>MARRIAGE</th>\n",
              "      <th>AGE</th>\n",
              "      <th>PAY_0</th>\n",
              "      <th>PAY_2</th>\n",
              "      <th>PAY_3</th>\n",
              "      <th>PAY_4</th>\n",
              "      <th>PAY_5</th>\n",
              "      <th>PAY_6</th>\n",
              "      <th>BILL_AMT1</th>\n",
              "      <th>BILL_AMT2</th>\n",
              "      <th>BILL_AMT3</th>\n",
              "      <th>BILL_AMT4</th>\n",
              "      <th>BILL_AMT5</th>\n",
              "      <th>BILL_AMT6</th>\n",
              "      <th>PAY_AMT1</th>\n",
              "      <th>PAY_AMT2</th>\n",
              "      <th>PAY_AMT3</th>\n",
              "      <th>PAY_AMT4</th>\n",
              "      <th>PAY_AMT5</th>\n",
              "      <th>PAY_AMT6</th>\n",
              "      <th>default payment next month</th>\n",
              "    </tr>\n",
              "  </thead>\n",
              "  <tbody>\n",
              "    <tr>\n",
              "      <th>0</th>\n",
              "      <td>1</td>\n",
              "      <td>20000</td>\n",
              "      <td>2</td>\n",
              "      <td>2</td>\n",
              "      <td>1</td>\n",
              "      <td>24</td>\n",
              "      <td>2</td>\n",
              "      <td>2</td>\n",
              "      <td>-1</td>\n",
              "      <td>-1</td>\n",
              "      <td>-2</td>\n",
              "      <td>-2</td>\n",
              "      <td>3913</td>\n",
              "      <td>3102</td>\n",
              "      <td>689</td>\n",
              "      <td>0</td>\n",
              "      <td>0</td>\n",
              "      <td>0</td>\n",
              "      <td>0</td>\n",
              "      <td>689</td>\n",
              "      <td>0</td>\n",
              "      <td>0</td>\n",
              "      <td>0</td>\n",
              "      <td>0</td>\n",
              "      <td>1</td>\n",
              "    </tr>\n",
              "    <tr>\n",
              "      <th>1</th>\n",
              "      <td>2</td>\n",
              "      <td>120000</td>\n",
              "      <td>2</td>\n",
              "      <td>2</td>\n",
              "      <td>2</td>\n",
              "      <td>26</td>\n",
              "      <td>-1</td>\n",
              "      <td>2</td>\n",
              "      <td>0</td>\n",
              "      <td>0</td>\n",
              "      <td>0</td>\n",
              "      <td>2</td>\n",
              "      <td>2682</td>\n",
              "      <td>1725</td>\n",
              "      <td>2682</td>\n",
              "      <td>3272</td>\n",
              "      <td>3455</td>\n",
              "      <td>3261</td>\n",
              "      <td>0</td>\n",
              "      <td>1000</td>\n",
              "      <td>1000</td>\n",
              "      <td>1000</td>\n",
              "      <td>0</td>\n",
              "      <td>2000</td>\n",
              "      <td>1</td>\n",
              "    </tr>\n",
              "    <tr>\n",
              "      <th>2</th>\n",
              "      <td>3</td>\n",
              "      <td>90000</td>\n",
              "      <td>2</td>\n",
              "      <td>2</td>\n",
              "      <td>2</td>\n",
              "      <td>34</td>\n",
              "      <td>0</td>\n",
              "      <td>0</td>\n",
              "      <td>0</td>\n",
              "      <td>0</td>\n",
              "      <td>0</td>\n",
              "      <td>0</td>\n",
              "      <td>29239</td>\n",
              "      <td>14027</td>\n",
              "      <td>13559</td>\n",
              "      <td>14331</td>\n",
              "      <td>14948</td>\n",
              "      <td>15549</td>\n",
              "      <td>1518</td>\n",
              "      <td>1500</td>\n",
              "      <td>1000</td>\n",
              "      <td>1000</td>\n",
              "      <td>1000</td>\n",
              "      <td>5000</td>\n",
              "      <td>0</td>\n",
              "    </tr>\n",
              "    <tr>\n",
              "      <th>3</th>\n",
              "      <td>4</td>\n",
              "      <td>50000</td>\n",
              "      <td>2</td>\n",
              "      <td>2</td>\n",
              "      <td>1</td>\n",
              "      <td>37</td>\n",
              "      <td>0</td>\n",
              "      <td>0</td>\n",
              "      <td>0</td>\n",
              "      <td>0</td>\n",
              "      <td>0</td>\n",
              "      <td>0</td>\n",
              "      <td>46990</td>\n",
              "      <td>48233</td>\n",
              "      <td>49291</td>\n",
              "      <td>28314</td>\n",
              "      <td>28959</td>\n",
              "      <td>29547</td>\n",
              "      <td>2000</td>\n",
              "      <td>2019</td>\n",
              "      <td>1200</td>\n",
              "      <td>1100</td>\n",
              "      <td>1069</td>\n",
              "      <td>1000</td>\n",
              "      <td>0</td>\n",
              "    </tr>\n",
              "    <tr>\n",
              "      <th>4</th>\n",
              "      <td>5</td>\n",
              "      <td>50000</td>\n",
              "      <td>1</td>\n",
              "      <td>2</td>\n",
              "      <td>1</td>\n",
              "      <td>57</td>\n",
              "      <td>-1</td>\n",
              "      <td>0</td>\n",
              "      <td>-1</td>\n",
              "      <td>0</td>\n",
              "      <td>0</td>\n",
              "      <td>0</td>\n",
              "      <td>8617</td>\n",
              "      <td>5670</td>\n",
              "      <td>35835</td>\n",
              "      <td>20940</td>\n",
              "      <td>19146</td>\n",
              "      <td>19131</td>\n",
              "      <td>2000</td>\n",
              "      <td>36681</td>\n",
              "      <td>10000</td>\n",
              "      <td>9000</td>\n",
              "      <td>689</td>\n",
              "      <td>679</td>\n",
              "      <td>0</td>\n",
              "    </tr>\n",
              "  </tbody>\n",
              "</table>\n",
              "</div>\n",
              "    <div class=\"colab-df-buttons\">\n",
              "\n",
              "  <div class=\"colab-df-container\">\n",
              "    <button class=\"colab-df-convert\" onclick=\"convertToInteractive('df-d60a6009-94b1-42bd-ad4c-981e0e1b5b39')\"\n",
              "            title=\"Convert this dataframe to an interactive table.\"\n",
              "            style=\"display:none;\">\n",
              "\n",
              "  <svg xmlns=\"http://www.w3.org/2000/svg\" height=\"24px\" viewBox=\"0 -960 960 960\">\n",
              "    <path d=\"M120-120v-720h720v720H120Zm60-500h600v-160H180v160Zm220 220h160v-160H400v160Zm0 220h160v-160H400v160ZM180-400h160v-160H180v160Zm440 0h160v-160H620v160ZM180-180h160v-160H180v160Zm440 0h160v-160H620v160Z\"/>\n",
              "  </svg>\n",
              "    </button>\n",
              "\n",
              "  <style>\n",
              "    .colab-df-container {\n",
              "      display:flex;\n",
              "      gap: 12px;\n",
              "    }\n",
              "\n",
              "    .colab-df-convert {\n",
              "      background-color: #E8F0FE;\n",
              "      border: none;\n",
              "      border-radius: 50%;\n",
              "      cursor: pointer;\n",
              "      display: none;\n",
              "      fill: #1967D2;\n",
              "      height: 32px;\n",
              "      padding: 0 0 0 0;\n",
              "      width: 32px;\n",
              "    }\n",
              "\n",
              "    .colab-df-convert:hover {\n",
              "      background-color: #E2EBFA;\n",
              "      box-shadow: 0px 1px 2px rgba(60, 64, 67, 0.3), 0px 1px 3px 1px rgba(60, 64, 67, 0.15);\n",
              "      fill: #174EA6;\n",
              "    }\n",
              "\n",
              "    .colab-df-buttons div {\n",
              "      margin-bottom: 4px;\n",
              "    }\n",
              "\n",
              "    [theme=dark] .colab-df-convert {\n",
              "      background-color: #3B4455;\n",
              "      fill: #D2E3FC;\n",
              "    }\n",
              "\n",
              "    [theme=dark] .colab-df-convert:hover {\n",
              "      background-color: #434B5C;\n",
              "      box-shadow: 0px 1px 3px 1px rgba(0, 0, 0, 0.15);\n",
              "      filter: drop-shadow(0px 1px 2px rgba(0, 0, 0, 0.3));\n",
              "      fill: #FFFFFF;\n",
              "    }\n",
              "  </style>\n",
              "\n",
              "    <script>\n",
              "      const buttonEl =\n",
              "        document.querySelector('#df-d60a6009-94b1-42bd-ad4c-981e0e1b5b39 button.colab-df-convert');\n",
              "      buttonEl.style.display =\n",
              "        google.colab.kernel.accessAllowed ? 'block' : 'none';\n",
              "\n",
              "      async function convertToInteractive(key) {\n",
              "        const element = document.querySelector('#df-d60a6009-94b1-42bd-ad4c-981e0e1b5b39');\n",
              "        const dataTable =\n",
              "          await google.colab.kernel.invokeFunction('convertToInteractive',\n",
              "                                                    [key], {});\n",
              "        if (!dataTable) return;\n",
              "\n",
              "        const docLinkHtml = 'Like what you see? Visit the ' +\n",
              "          '<a target=\"_blank\" href=https://colab.research.google.com/notebooks/data_table.ipynb>data table notebook</a>'\n",
              "          + ' to learn more about interactive tables.';\n",
              "        element.innerHTML = '';\n",
              "        dataTable['output_type'] = 'display_data';\n",
              "        await google.colab.output.renderOutput(dataTable, element);\n",
              "        const docLink = document.createElement('div');\n",
              "        docLink.innerHTML = docLinkHtml;\n",
              "        element.appendChild(docLink);\n",
              "      }\n",
              "    </script>\n",
              "  </div>\n",
              "\n",
              "\n",
              "<div id=\"df-1706b5ec-a1d2-4e19-a826-00a476df16d3\">\n",
              "  <button class=\"colab-df-quickchart\" onclick=\"quickchart('df-1706b5ec-a1d2-4e19-a826-00a476df16d3')\"\n",
              "            title=\"Suggest charts\"\n",
              "            style=\"display:none;\">\n",
              "\n",
              "<svg xmlns=\"http://www.w3.org/2000/svg\" height=\"24px\"viewBox=\"0 0 24 24\"\n",
              "     width=\"24px\">\n",
              "    <g>\n",
              "        <path d=\"M19 3H5c-1.1 0-2 .9-2 2v14c0 1.1.9 2 2 2h14c1.1 0 2-.9 2-2V5c0-1.1-.9-2-2-2zM9 17H7v-7h2v7zm4 0h-2V7h2v10zm4 0h-2v-4h2v4z\"/>\n",
              "    </g>\n",
              "</svg>\n",
              "  </button>\n",
              "\n",
              "<style>\n",
              "  .colab-df-quickchart {\n",
              "      --bg-color: #E8F0FE;\n",
              "      --fill-color: #1967D2;\n",
              "      --hover-bg-color: #E2EBFA;\n",
              "      --hover-fill-color: #174EA6;\n",
              "      --disabled-fill-color: #AAA;\n",
              "      --disabled-bg-color: #DDD;\n",
              "  }\n",
              "\n",
              "  [theme=dark] .colab-df-quickchart {\n",
              "      --bg-color: #3B4455;\n",
              "      --fill-color: #D2E3FC;\n",
              "      --hover-bg-color: #434B5C;\n",
              "      --hover-fill-color: #FFFFFF;\n",
              "      --disabled-bg-color: #3B4455;\n",
              "      --disabled-fill-color: #666;\n",
              "  }\n",
              "\n",
              "  .colab-df-quickchart {\n",
              "    background-color: var(--bg-color);\n",
              "    border: none;\n",
              "    border-radius: 50%;\n",
              "    cursor: pointer;\n",
              "    display: none;\n",
              "    fill: var(--fill-color);\n",
              "    height: 32px;\n",
              "    padding: 0;\n",
              "    width: 32px;\n",
              "  }\n",
              "\n",
              "  .colab-df-quickchart:hover {\n",
              "    background-color: var(--hover-bg-color);\n",
              "    box-shadow: 0 1px 2px rgba(60, 64, 67, 0.3), 0 1px 3px 1px rgba(60, 64, 67, 0.15);\n",
              "    fill: var(--button-hover-fill-color);\n",
              "  }\n",
              "\n",
              "  .colab-df-quickchart-complete:disabled,\n",
              "  .colab-df-quickchart-complete:disabled:hover {\n",
              "    background-color: var(--disabled-bg-color);\n",
              "    fill: var(--disabled-fill-color);\n",
              "    box-shadow: none;\n",
              "  }\n",
              "\n",
              "  .colab-df-spinner {\n",
              "    border: 2px solid var(--fill-color);\n",
              "    border-color: transparent;\n",
              "    border-bottom-color: var(--fill-color);\n",
              "    animation:\n",
              "      spin 1s steps(1) infinite;\n",
              "  }\n",
              "\n",
              "  @keyframes spin {\n",
              "    0% {\n",
              "      border-color: transparent;\n",
              "      border-bottom-color: var(--fill-color);\n",
              "      border-left-color: var(--fill-color);\n",
              "    }\n",
              "    20% {\n",
              "      border-color: transparent;\n",
              "      border-left-color: var(--fill-color);\n",
              "      border-top-color: var(--fill-color);\n",
              "    }\n",
              "    30% {\n",
              "      border-color: transparent;\n",
              "      border-left-color: var(--fill-color);\n",
              "      border-top-color: var(--fill-color);\n",
              "      border-right-color: var(--fill-color);\n",
              "    }\n",
              "    40% {\n",
              "      border-color: transparent;\n",
              "      border-right-color: var(--fill-color);\n",
              "      border-top-color: var(--fill-color);\n",
              "    }\n",
              "    60% {\n",
              "      border-color: transparent;\n",
              "      border-right-color: var(--fill-color);\n",
              "    }\n",
              "    80% {\n",
              "      border-color: transparent;\n",
              "      border-right-color: var(--fill-color);\n",
              "      border-bottom-color: var(--fill-color);\n",
              "    }\n",
              "    90% {\n",
              "      border-color: transparent;\n",
              "      border-bottom-color: var(--fill-color);\n",
              "    }\n",
              "  }\n",
              "</style>\n",
              "\n",
              "  <script>\n",
              "    async function quickchart(key) {\n",
              "      const quickchartButtonEl =\n",
              "        document.querySelector('#' + key + ' button');\n",
              "      quickchartButtonEl.disabled = true;  // To prevent multiple clicks.\n",
              "      quickchartButtonEl.classList.add('colab-df-spinner');\n",
              "      try {\n",
              "        const charts = await google.colab.kernel.invokeFunction(\n",
              "            'suggestCharts', [key], {});\n",
              "      } catch (error) {\n",
              "        console.error('Error during call to suggestCharts:', error);\n",
              "      }\n",
              "      quickchartButtonEl.classList.remove('colab-df-spinner');\n",
              "      quickchartButtonEl.classList.add('colab-df-quickchart-complete');\n",
              "    }\n",
              "    (() => {\n",
              "      let quickchartButtonEl =\n",
              "        document.querySelector('#df-1706b5ec-a1d2-4e19-a826-00a476df16d3 button');\n",
              "      quickchartButtonEl.style.display =\n",
              "        google.colab.kernel.accessAllowed ? 'block' : 'none';\n",
              "    })();\n",
              "  </script>\n",
              "</div>\n",
              "\n",
              "    </div>\n",
              "  </div>\n"
            ],
            "application/vnd.google.colaboratory.intrinsic+json": {
              "type": "dataframe",
              "variable_name": "cred_df"
            }
          },
          "metadata": {},
          "execution_count": 115
        }
      ],
      "source": [
        "#Glancing through top 5 rows\n",
        "cred_df.head()"
      ]
    },
    {
      "cell_type": "code",
      "execution_count": 116,
      "metadata": {
        "colab": {
          "base_uri": "https://localhost:8080/",
          "height": 278
        },
        "id": "N86067NtwFBD",
        "outputId": "523d3b70-5dfc-4971-bb34-4f632923688e"
      },
      "outputs": [
        {
          "output_type": "execute_result",
          "data": {
            "text/plain": [
              "          ID  LIMIT_BAL  SEX  EDUCATION  MARRIAGE  AGE  PAY_0  PAY_2  PAY_3  \\\n",
              "29995  29996     220000    1          3         1   39      0      0      0   \n",
              "29996  29997     150000    1          3         2   43     -1     -1     -1   \n",
              "29997  29998      30000    1          2         2   37      4      3      2   \n",
              "29998  29999      80000    1          3         1   41      1     -1      0   \n",
              "29999  30000      50000    1          2         1   46      0      0      0   \n",
              "\n",
              "       PAY_4  PAY_5  PAY_6  BILL_AMT1  BILL_AMT2  BILL_AMT3  BILL_AMT4  \\\n",
              "29995      0      0      0     188948     192815     208365      88004   \n",
              "29996     -1      0      0       1683       1828       3502       8979   \n",
              "29997     -1      0      0       3565       3356       2758      20878   \n",
              "29998      0      0     -1      -1645      78379      76304      52774   \n",
              "29999      0      0      0      47929      48905      49764      36535   \n",
              "\n",
              "       BILL_AMT5  BILL_AMT6  PAY_AMT1  PAY_AMT2  PAY_AMT3  PAY_AMT4  PAY_AMT5  \\\n",
              "29995      31237      15980      8500     20000      5003      3047      5000   \n",
              "29996       5190          0      1837      3526      8998       129         0   \n",
              "29997      20582      19357         0         0     22000      4200      2000   \n",
              "29998      11855      48944     85900      3409      1178      1926     52964   \n",
              "29999      32428      15313      2078      1800      1430      1000      1000   \n",
              "\n",
              "       PAY_AMT6  default payment next month  \n",
              "29995      1000                           0  \n",
              "29996         0                           0  \n",
              "29997      3100                           1  \n",
              "29998      1804                           1  \n",
              "29999      1000                           1  "
            ],
            "text/html": [
              "\n",
              "  <div id=\"df-c75bd77e-a203-46be-ae65-eddede980642\" class=\"colab-df-container\">\n",
              "    <div>\n",
              "<style scoped>\n",
              "    .dataframe tbody tr th:only-of-type {\n",
              "        vertical-align: middle;\n",
              "    }\n",
              "\n",
              "    .dataframe tbody tr th {\n",
              "        vertical-align: top;\n",
              "    }\n",
              "\n",
              "    .dataframe thead th {\n",
              "        text-align: right;\n",
              "    }\n",
              "</style>\n",
              "<table border=\"1\" class=\"dataframe\">\n",
              "  <thead>\n",
              "    <tr style=\"text-align: right;\">\n",
              "      <th></th>\n",
              "      <th>ID</th>\n",
              "      <th>LIMIT_BAL</th>\n",
              "      <th>SEX</th>\n",
              "      <th>EDUCATION</th>\n",
              "      <th>MARRIAGE</th>\n",
              "      <th>AGE</th>\n",
              "      <th>PAY_0</th>\n",
              "      <th>PAY_2</th>\n",
              "      <th>PAY_3</th>\n",
              "      <th>PAY_4</th>\n",
              "      <th>PAY_5</th>\n",
              "      <th>PAY_6</th>\n",
              "      <th>BILL_AMT1</th>\n",
              "      <th>BILL_AMT2</th>\n",
              "      <th>BILL_AMT3</th>\n",
              "      <th>BILL_AMT4</th>\n",
              "      <th>BILL_AMT5</th>\n",
              "      <th>BILL_AMT6</th>\n",
              "      <th>PAY_AMT1</th>\n",
              "      <th>PAY_AMT2</th>\n",
              "      <th>PAY_AMT3</th>\n",
              "      <th>PAY_AMT4</th>\n",
              "      <th>PAY_AMT5</th>\n",
              "      <th>PAY_AMT6</th>\n",
              "      <th>default payment next month</th>\n",
              "    </tr>\n",
              "  </thead>\n",
              "  <tbody>\n",
              "    <tr>\n",
              "      <th>29995</th>\n",
              "      <td>29996</td>\n",
              "      <td>220000</td>\n",
              "      <td>1</td>\n",
              "      <td>3</td>\n",
              "      <td>1</td>\n",
              "      <td>39</td>\n",
              "      <td>0</td>\n",
              "      <td>0</td>\n",
              "      <td>0</td>\n",
              "      <td>0</td>\n",
              "      <td>0</td>\n",
              "      <td>0</td>\n",
              "      <td>188948</td>\n",
              "      <td>192815</td>\n",
              "      <td>208365</td>\n",
              "      <td>88004</td>\n",
              "      <td>31237</td>\n",
              "      <td>15980</td>\n",
              "      <td>8500</td>\n",
              "      <td>20000</td>\n",
              "      <td>5003</td>\n",
              "      <td>3047</td>\n",
              "      <td>5000</td>\n",
              "      <td>1000</td>\n",
              "      <td>0</td>\n",
              "    </tr>\n",
              "    <tr>\n",
              "      <th>29996</th>\n",
              "      <td>29997</td>\n",
              "      <td>150000</td>\n",
              "      <td>1</td>\n",
              "      <td>3</td>\n",
              "      <td>2</td>\n",
              "      <td>43</td>\n",
              "      <td>-1</td>\n",
              "      <td>-1</td>\n",
              "      <td>-1</td>\n",
              "      <td>-1</td>\n",
              "      <td>0</td>\n",
              "      <td>0</td>\n",
              "      <td>1683</td>\n",
              "      <td>1828</td>\n",
              "      <td>3502</td>\n",
              "      <td>8979</td>\n",
              "      <td>5190</td>\n",
              "      <td>0</td>\n",
              "      <td>1837</td>\n",
              "      <td>3526</td>\n",
              "      <td>8998</td>\n",
              "      <td>129</td>\n",
              "      <td>0</td>\n",
              "      <td>0</td>\n",
              "      <td>0</td>\n",
              "    </tr>\n",
              "    <tr>\n",
              "      <th>29997</th>\n",
              "      <td>29998</td>\n",
              "      <td>30000</td>\n",
              "      <td>1</td>\n",
              "      <td>2</td>\n",
              "      <td>2</td>\n",
              "      <td>37</td>\n",
              "      <td>4</td>\n",
              "      <td>3</td>\n",
              "      <td>2</td>\n",
              "      <td>-1</td>\n",
              "      <td>0</td>\n",
              "      <td>0</td>\n",
              "      <td>3565</td>\n",
              "      <td>3356</td>\n",
              "      <td>2758</td>\n",
              "      <td>20878</td>\n",
              "      <td>20582</td>\n",
              "      <td>19357</td>\n",
              "      <td>0</td>\n",
              "      <td>0</td>\n",
              "      <td>22000</td>\n",
              "      <td>4200</td>\n",
              "      <td>2000</td>\n",
              "      <td>3100</td>\n",
              "      <td>1</td>\n",
              "    </tr>\n",
              "    <tr>\n",
              "      <th>29998</th>\n",
              "      <td>29999</td>\n",
              "      <td>80000</td>\n",
              "      <td>1</td>\n",
              "      <td>3</td>\n",
              "      <td>1</td>\n",
              "      <td>41</td>\n",
              "      <td>1</td>\n",
              "      <td>-1</td>\n",
              "      <td>0</td>\n",
              "      <td>0</td>\n",
              "      <td>0</td>\n",
              "      <td>-1</td>\n",
              "      <td>-1645</td>\n",
              "      <td>78379</td>\n",
              "      <td>76304</td>\n",
              "      <td>52774</td>\n",
              "      <td>11855</td>\n",
              "      <td>48944</td>\n",
              "      <td>85900</td>\n",
              "      <td>3409</td>\n",
              "      <td>1178</td>\n",
              "      <td>1926</td>\n",
              "      <td>52964</td>\n",
              "      <td>1804</td>\n",
              "      <td>1</td>\n",
              "    </tr>\n",
              "    <tr>\n",
              "      <th>29999</th>\n",
              "      <td>30000</td>\n",
              "      <td>50000</td>\n",
              "      <td>1</td>\n",
              "      <td>2</td>\n",
              "      <td>1</td>\n",
              "      <td>46</td>\n",
              "      <td>0</td>\n",
              "      <td>0</td>\n",
              "      <td>0</td>\n",
              "      <td>0</td>\n",
              "      <td>0</td>\n",
              "      <td>0</td>\n",
              "      <td>47929</td>\n",
              "      <td>48905</td>\n",
              "      <td>49764</td>\n",
              "      <td>36535</td>\n",
              "      <td>32428</td>\n",
              "      <td>15313</td>\n",
              "      <td>2078</td>\n",
              "      <td>1800</td>\n",
              "      <td>1430</td>\n",
              "      <td>1000</td>\n",
              "      <td>1000</td>\n",
              "      <td>1000</td>\n",
              "      <td>1</td>\n",
              "    </tr>\n",
              "  </tbody>\n",
              "</table>\n",
              "</div>\n",
              "    <div class=\"colab-df-buttons\">\n",
              "\n",
              "  <div class=\"colab-df-container\">\n",
              "    <button class=\"colab-df-convert\" onclick=\"convertToInteractive('df-c75bd77e-a203-46be-ae65-eddede980642')\"\n",
              "            title=\"Convert this dataframe to an interactive table.\"\n",
              "            style=\"display:none;\">\n",
              "\n",
              "  <svg xmlns=\"http://www.w3.org/2000/svg\" height=\"24px\" viewBox=\"0 -960 960 960\">\n",
              "    <path d=\"M120-120v-720h720v720H120Zm60-500h600v-160H180v160Zm220 220h160v-160H400v160Zm0 220h160v-160H400v160ZM180-400h160v-160H180v160Zm440 0h160v-160H620v160ZM180-180h160v-160H180v160Zm440 0h160v-160H620v160Z\"/>\n",
              "  </svg>\n",
              "    </button>\n",
              "\n",
              "  <style>\n",
              "    .colab-df-container {\n",
              "      display:flex;\n",
              "      gap: 12px;\n",
              "    }\n",
              "\n",
              "    .colab-df-convert {\n",
              "      background-color: #E8F0FE;\n",
              "      border: none;\n",
              "      border-radius: 50%;\n",
              "      cursor: pointer;\n",
              "      display: none;\n",
              "      fill: #1967D2;\n",
              "      height: 32px;\n",
              "      padding: 0 0 0 0;\n",
              "      width: 32px;\n",
              "    }\n",
              "\n",
              "    .colab-df-convert:hover {\n",
              "      background-color: #E2EBFA;\n",
              "      box-shadow: 0px 1px 2px rgba(60, 64, 67, 0.3), 0px 1px 3px 1px rgba(60, 64, 67, 0.15);\n",
              "      fill: #174EA6;\n",
              "    }\n",
              "\n",
              "    .colab-df-buttons div {\n",
              "      margin-bottom: 4px;\n",
              "    }\n",
              "\n",
              "    [theme=dark] .colab-df-convert {\n",
              "      background-color: #3B4455;\n",
              "      fill: #D2E3FC;\n",
              "    }\n",
              "\n",
              "    [theme=dark] .colab-df-convert:hover {\n",
              "      background-color: #434B5C;\n",
              "      box-shadow: 0px 1px 3px 1px rgba(0, 0, 0, 0.15);\n",
              "      filter: drop-shadow(0px 1px 2px rgba(0, 0, 0, 0.3));\n",
              "      fill: #FFFFFF;\n",
              "    }\n",
              "  </style>\n",
              "\n",
              "    <script>\n",
              "      const buttonEl =\n",
              "        document.querySelector('#df-c75bd77e-a203-46be-ae65-eddede980642 button.colab-df-convert');\n",
              "      buttonEl.style.display =\n",
              "        google.colab.kernel.accessAllowed ? 'block' : 'none';\n",
              "\n",
              "      async function convertToInteractive(key) {\n",
              "        const element = document.querySelector('#df-c75bd77e-a203-46be-ae65-eddede980642');\n",
              "        const dataTable =\n",
              "          await google.colab.kernel.invokeFunction('convertToInteractive',\n",
              "                                                    [key], {});\n",
              "        if (!dataTable) return;\n",
              "\n",
              "        const docLinkHtml = 'Like what you see? Visit the ' +\n",
              "          '<a target=\"_blank\" href=https://colab.research.google.com/notebooks/data_table.ipynb>data table notebook</a>'\n",
              "          + ' to learn more about interactive tables.';\n",
              "        element.innerHTML = '';\n",
              "        dataTable['output_type'] = 'display_data';\n",
              "        await google.colab.output.renderOutput(dataTable, element);\n",
              "        const docLink = document.createElement('div');\n",
              "        docLink.innerHTML = docLinkHtml;\n",
              "        element.appendChild(docLink);\n",
              "      }\n",
              "    </script>\n",
              "  </div>\n",
              "\n",
              "\n",
              "<div id=\"df-2f471cc4-3385-4979-95f6-2d568942d507\">\n",
              "  <button class=\"colab-df-quickchart\" onclick=\"quickchart('df-2f471cc4-3385-4979-95f6-2d568942d507')\"\n",
              "            title=\"Suggest charts\"\n",
              "            style=\"display:none;\">\n",
              "\n",
              "<svg xmlns=\"http://www.w3.org/2000/svg\" height=\"24px\"viewBox=\"0 0 24 24\"\n",
              "     width=\"24px\">\n",
              "    <g>\n",
              "        <path d=\"M19 3H5c-1.1 0-2 .9-2 2v14c0 1.1.9 2 2 2h14c1.1 0 2-.9 2-2V5c0-1.1-.9-2-2-2zM9 17H7v-7h2v7zm4 0h-2V7h2v10zm4 0h-2v-4h2v4z\"/>\n",
              "    </g>\n",
              "</svg>\n",
              "  </button>\n",
              "\n",
              "<style>\n",
              "  .colab-df-quickchart {\n",
              "      --bg-color: #E8F0FE;\n",
              "      --fill-color: #1967D2;\n",
              "      --hover-bg-color: #E2EBFA;\n",
              "      --hover-fill-color: #174EA6;\n",
              "      --disabled-fill-color: #AAA;\n",
              "      --disabled-bg-color: #DDD;\n",
              "  }\n",
              "\n",
              "  [theme=dark] .colab-df-quickchart {\n",
              "      --bg-color: #3B4455;\n",
              "      --fill-color: #D2E3FC;\n",
              "      --hover-bg-color: #434B5C;\n",
              "      --hover-fill-color: #FFFFFF;\n",
              "      --disabled-bg-color: #3B4455;\n",
              "      --disabled-fill-color: #666;\n",
              "  }\n",
              "\n",
              "  .colab-df-quickchart {\n",
              "    background-color: var(--bg-color);\n",
              "    border: none;\n",
              "    border-radius: 50%;\n",
              "    cursor: pointer;\n",
              "    display: none;\n",
              "    fill: var(--fill-color);\n",
              "    height: 32px;\n",
              "    padding: 0;\n",
              "    width: 32px;\n",
              "  }\n",
              "\n",
              "  .colab-df-quickchart:hover {\n",
              "    background-color: var(--hover-bg-color);\n",
              "    box-shadow: 0 1px 2px rgba(60, 64, 67, 0.3), 0 1px 3px 1px rgba(60, 64, 67, 0.15);\n",
              "    fill: var(--button-hover-fill-color);\n",
              "  }\n",
              "\n",
              "  .colab-df-quickchart-complete:disabled,\n",
              "  .colab-df-quickchart-complete:disabled:hover {\n",
              "    background-color: var(--disabled-bg-color);\n",
              "    fill: var(--disabled-fill-color);\n",
              "    box-shadow: none;\n",
              "  }\n",
              "\n",
              "  .colab-df-spinner {\n",
              "    border: 2px solid var(--fill-color);\n",
              "    border-color: transparent;\n",
              "    border-bottom-color: var(--fill-color);\n",
              "    animation:\n",
              "      spin 1s steps(1) infinite;\n",
              "  }\n",
              "\n",
              "  @keyframes spin {\n",
              "    0% {\n",
              "      border-color: transparent;\n",
              "      border-bottom-color: var(--fill-color);\n",
              "      border-left-color: var(--fill-color);\n",
              "    }\n",
              "    20% {\n",
              "      border-color: transparent;\n",
              "      border-left-color: var(--fill-color);\n",
              "      border-top-color: var(--fill-color);\n",
              "    }\n",
              "    30% {\n",
              "      border-color: transparent;\n",
              "      border-left-color: var(--fill-color);\n",
              "      border-top-color: var(--fill-color);\n",
              "      border-right-color: var(--fill-color);\n",
              "    }\n",
              "    40% {\n",
              "      border-color: transparent;\n",
              "      border-right-color: var(--fill-color);\n",
              "      border-top-color: var(--fill-color);\n",
              "    }\n",
              "    60% {\n",
              "      border-color: transparent;\n",
              "      border-right-color: var(--fill-color);\n",
              "    }\n",
              "    80% {\n",
              "      border-color: transparent;\n",
              "      border-right-color: var(--fill-color);\n",
              "      border-bottom-color: var(--fill-color);\n",
              "    }\n",
              "    90% {\n",
              "      border-color: transparent;\n",
              "      border-bottom-color: var(--fill-color);\n",
              "    }\n",
              "  }\n",
              "</style>\n",
              "\n",
              "  <script>\n",
              "    async function quickchart(key) {\n",
              "      const quickchartButtonEl =\n",
              "        document.querySelector('#' + key + ' button');\n",
              "      quickchartButtonEl.disabled = true;  // To prevent multiple clicks.\n",
              "      quickchartButtonEl.classList.add('colab-df-spinner');\n",
              "      try {\n",
              "        const charts = await google.colab.kernel.invokeFunction(\n",
              "            'suggestCharts', [key], {});\n",
              "      } catch (error) {\n",
              "        console.error('Error during call to suggestCharts:', error);\n",
              "      }\n",
              "      quickchartButtonEl.classList.remove('colab-df-spinner');\n",
              "      quickchartButtonEl.classList.add('colab-df-quickchart-complete');\n",
              "    }\n",
              "    (() => {\n",
              "      let quickchartButtonEl =\n",
              "        document.querySelector('#df-2f471cc4-3385-4979-95f6-2d568942d507 button');\n",
              "      quickchartButtonEl.style.display =\n",
              "        google.colab.kernel.accessAllowed ? 'block' : 'none';\n",
              "    })();\n",
              "  </script>\n",
              "</div>\n",
              "\n",
              "    </div>\n",
              "  </div>\n"
            ],
            "application/vnd.google.colaboratory.intrinsic+json": {
              "type": "dataframe"
            }
          },
          "metadata": {},
          "execution_count": 116
        }
      ],
      "source": [
        "#Glancing through bottom 5 rows of the data\n",
        "cred_df.tail()"
      ]
    },
    {
      "cell_type": "code",
      "execution_count": 117,
      "metadata": {
        "colab": {
          "base_uri": "https://localhost:8080/"
        },
        "id": "FWErs8wUwYNZ",
        "outputId": "2baa49a5-894e-4b4d-e8d6-572abab9c816"
      },
      "outputs": [
        {
          "output_type": "stream",
          "name": "stdout",
          "text": [
            "There are 30000 record and 25 features in the dataset\n"
          ]
        }
      ],
      "source": [
        "#getting the shape of rows and columns present in our dataset.\n",
        "print(f'There are {cred_df.shape[0]} record and {cred_df.shape[1]} features in the dataset')"
      ]
    },
    {
      "cell_type": "code",
      "execution_count": 118,
      "metadata": {
        "colab": {
          "base_uri": "https://localhost:8080/"
        },
        "id": "kKoTEaE1w-2J",
        "outputId": "77e2899c-b318-4a55-cdef-077df9ab9cc7"
      },
      "outputs": [
        {
          "output_type": "stream",
          "name": "stdout",
          "text": [
            "Feature in the dataset\n"
          ]
        },
        {
          "output_type": "execute_result",
          "data": {
            "text/plain": [
              "Index(['ID', 'LIMIT_BAL', 'SEX', 'EDUCATION', 'MARRIAGE', 'AGE', 'PAY_0',\n",
              "       'PAY_2', 'PAY_3', 'PAY_4', 'PAY_5', 'PAY_6', 'BILL_AMT1', 'BILL_AMT2',\n",
              "       'BILL_AMT3', 'BILL_AMT4', 'BILL_AMT5', 'BILL_AMT6', 'PAY_AMT1',\n",
              "       'PAY_AMT2', 'PAY_AMT3', 'PAY_AMT4', 'PAY_AMT5', 'PAY_AMT6',\n",
              "       'default payment next month'],\n",
              "      dtype='object')"
            ]
          },
          "metadata": {},
          "execution_count": 118
        }
      ],
      "source": [
        "#Getting all the feature names\n",
        "print('Feature in the dataset')\n",
        "cred_df.columns"
      ]
    },
    {
      "cell_type": "code",
      "execution_count": 119,
      "metadata": {
        "colab": {
          "base_uri": "https://localhost:8080/"
        },
        "id": "EOYN83mAzFj4",
        "outputId": "7c0fb2a9-b1c5-42ea-ce7d-f48fcb69fbb1"
      },
      "outputs": [
        {
          "output_type": "stream",
          "name": "stdout",
          "text": [
            "<class 'pandas.core.frame.DataFrame'>\n",
            "RangeIndex: 30000 entries, 0 to 29999\n",
            "Data columns (total 25 columns):\n",
            " #   Column                      Non-Null Count  Dtype\n",
            "---  ------                      --------------  -----\n",
            " 0   ID                          30000 non-null  int64\n",
            " 1   LIMIT_BAL                   30000 non-null  int64\n",
            " 2   SEX                         30000 non-null  int64\n",
            " 3   EDUCATION                   30000 non-null  int64\n",
            " 4   MARRIAGE                    30000 non-null  int64\n",
            " 5   AGE                         30000 non-null  int64\n",
            " 6   PAY_0                       30000 non-null  int64\n",
            " 7   PAY_2                       30000 non-null  int64\n",
            " 8   PAY_3                       30000 non-null  int64\n",
            " 9   PAY_4                       30000 non-null  int64\n",
            " 10  PAY_5                       30000 non-null  int64\n",
            " 11  PAY_6                       30000 non-null  int64\n",
            " 12  BILL_AMT1                   30000 non-null  int64\n",
            " 13  BILL_AMT2                   30000 non-null  int64\n",
            " 14  BILL_AMT3                   30000 non-null  int64\n",
            " 15  BILL_AMT4                   30000 non-null  int64\n",
            " 16  BILL_AMT5                   30000 non-null  int64\n",
            " 17  BILL_AMT6                   30000 non-null  int64\n",
            " 18  PAY_AMT1                    30000 non-null  int64\n",
            " 19  PAY_AMT2                    30000 non-null  int64\n",
            " 20  PAY_AMT3                    30000 non-null  int64\n",
            " 21  PAY_AMT4                    30000 non-null  int64\n",
            " 22  PAY_AMT5                    30000 non-null  int64\n",
            " 23  PAY_AMT6                    30000 non-null  int64\n",
            " 24  default payment next month  30000 non-null  int64\n",
            "dtypes: int64(25)\n",
            "memory usage: 5.7 MB\n"
          ]
        }
      ],
      "source": [
        "# checking the basic struture of the dataset\n",
        "cred_df.info()"
      ]
    },
    {
      "cell_type": "code",
      "execution_count": 120,
      "metadata": {
        "colab": {
          "base_uri": "https://localhost:8080/",
          "height": 868
        },
        "id": "vLJn0CAUzTPY",
        "outputId": "a0cab168-ddf5-40af-bace-87917d98365a"
      },
      "outputs": [
        {
          "output_type": "execute_result",
          "data": {
            "text/plain": [
              "ID                            30000\n",
              "LIMIT_BAL                        81\n",
              "SEX                               2\n",
              "EDUCATION                         7\n",
              "MARRIAGE                          4\n",
              "AGE                              56\n",
              "PAY_0                            11\n",
              "PAY_2                            11\n",
              "PAY_3                            11\n",
              "PAY_4                            11\n",
              "PAY_5                            10\n",
              "PAY_6                            10\n",
              "BILL_AMT1                     22723\n",
              "BILL_AMT2                     22346\n",
              "BILL_AMT3                     22026\n",
              "BILL_AMT4                     21548\n",
              "BILL_AMT5                     21010\n",
              "BILL_AMT6                     20604\n",
              "PAY_AMT1                       7943\n",
              "PAY_AMT2                       7899\n",
              "PAY_AMT3                       7518\n",
              "PAY_AMT4                       6937\n",
              "PAY_AMT5                       6897\n",
              "PAY_AMT6                       6939\n",
              "default payment next month        2\n",
              "dtype: int64"
            ],
            "text/html": [
              "<div>\n",
              "<style scoped>\n",
              "    .dataframe tbody tr th:only-of-type {\n",
              "        vertical-align: middle;\n",
              "    }\n",
              "\n",
              "    .dataframe tbody tr th {\n",
              "        vertical-align: top;\n",
              "    }\n",
              "\n",
              "    .dataframe thead th {\n",
              "        text-align: right;\n",
              "    }\n",
              "</style>\n",
              "<table border=\"1\" class=\"dataframe\">\n",
              "  <thead>\n",
              "    <tr style=\"text-align: right;\">\n",
              "      <th></th>\n",
              "      <th>0</th>\n",
              "    </tr>\n",
              "  </thead>\n",
              "  <tbody>\n",
              "    <tr>\n",
              "      <th>ID</th>\n",
              "      <td>30000</td>\n",
              "    </tr>\n",
              "    <tr>\n",
              "      <th>LIMIT_BAL</th>\n",
              "      <td>81</td>\n",
              "    </tr>\n",
              "    <tr>\n",
              "      <th>SEX</th>\n",
              "      <td>2</td>\n",
              "    </tr>\n",
              "    <tr>\n",
              "      <th>EDUCATION</th>\n",
              "      <td>7</td>\n",
              "    </tr>\n",
              "    <tr>\n",
              "      <th>MARRIAGE</th>\n",
              "      <td>4</td>\n",
              "    </tr>\n",
              "    <tr>\n",
              "      <th>AGE</th>\n",
              "      <td>56</td>\n",
              "    </tr>\n",
              "    <tr>\n",
              "      <th>PAY_0</th>\n",
              "      <td>11</td>\n",
              "    </tr>\n",
              "    <tr>\n",
              "      <th>PAY_2</th>\n",
              "      <td>11</td>\n",
              "    </tr>\n",
              "    <tr>\n",
              "      <th>PAY_3</th>\n",
              "      <td>11</td>\n",
              "    </tr>\n",
              "    <tr>\n",
              "      <th>PAY_4</th>\n",
              "      <td>11</td>\n",
              "    </tr>\n",
              "    <tr>\n",
              "      <th>PAY_5</th>\n",
              "      <td>10</td>\n",
              "    </tr>\n",
              "    <tr>\n",
              "      <th>PAY_6</th>\n",
              "      <td>10</td>\n",
              "    </tr>\n",
              "    <tr>\n",
              "      <th>BILL_AMT1</th>\n",
              "      <td>22723</td>\n",
              "    </tr>\n",
              "    <tr>\n",
              "      <th>BILL_AMT2</th>\n",
              "      <td>22346</td>\n",
              "    </tr>\n",
              "    <tr>\n",
              "      <th>BILL_AMT3</th>\n",
              "      <td>22026</td>\n",
              "    </tr>\n",
              "    <tr>\n",
              "      <th>BILL_AMT4</th>\n",
              "      <td>21548</td>\n",
              "    </tr>\n",
              "    <tr>\n",
              "      <th>BILL_AMT5</th>\n",
              "      <td>21010</td>\n",
              "    </tr>\n",
              "    <tr>\n",
              "      <th>BILL_AMT6</th>\n",
              "      <td>20604</td>\n",
              "    </tr>\n",
              "    <tr>\n",
              "      <th>PAY_AMT1</th>\n",
              "      <td>7943</td>\n",
              "    </tr>\n",
              "    <tr>\n",
              "      <th>PAY_AMT2</th>\n",
              "      <td>7899</td>\n",
              "    </tr>\n",
              "    <tr>\n",
              "      <th>PAY_AMT3</th>\n",
              "      <td>7518</td>\n",
              "    </tr>\n",
              "    <tr>\n",
              "      <th>PAY_AMT4</th>\n",
              "      <td>6937</td>\n",
              "    </tr>\n",
              "    <tr>\n",
              "      <th>PAY_AMT5</th>\n",
              "      <td>6897</td>\n",
              "    </tr>\n",
              "    <tr>\n",
              "      <th>PAY_AMT6</th>\n",
              "      <td>6939</td>\n",
              "    </tr>\n",
              "    <tr>\n",
              "      <th>default payment next month</th>\n",
              "      <td>2</td>\n",
              "    </tr>\n",
              "  </tbody>\n",
              "</table>\n",
              "</div><br><label><b>dtype:</b> int64</label>"
            ]
          },
          "metadata": {},
          "execution_count": 120
        }
      ],
      "source": [
        "#Getting the unique value count of each feature\n",
        "cred_df.nunique()"
      ]
    },
    {
      "cell_type": "code",
      "execution_count": 121,
      "metadata": {
        "colab": {
          "base_uri": "https://localhost:8080/",
          "height": 833
        },
        "id": "XYX8WQtTzlHl",
        "outputId": "4c10b357-bb2c-46a3-f104-815468aa7191"
      },
      "outputs": [
        {
          "output_type": "execute_result",
          "data": {
            "text/plain": [
              "                              count       mean        std       min       25%  \\\n",
              "ID                          30000.0   15000.50    8660.40       1.0   7500.75   \n",
              "LIMIT_BAL                   30000.0  167484.32  129747.66   10000.0  50000.00   \n",
              "SEX                         30000.0       1.60       0.49       1.0      1.00   \n",
              "EDUCATION                   30000.0       1.85       0.79       0.0      1.00   \n",
              "MARRIAGE                    30000.0       1.55       0.52       0.0      1.00   \n",
              "AGE                         30000.0      35.49       9.22      21.0     28.00   \n",
              "PAY_0                       30000.0      -0.02       1.12      -2.0     -1.00   \n",
              "PAY_2                       30000.0      -0.13       1.20      -2.0     -1.00   \n",
              "PAY_3                       30000.0      -0.17       1.20      -2.0     -1.00   \n",
              "PAY_4                       30000.0      -0.22       1.17      -2.0     -1.00   \n",
              "PAY_5                       30000.0      -0.27       1.13      -2.0     -1.00   \n",
              "PAY_6                       30000.0      -0.29       1.15      -2.0     -1.00   \n",
              "BILL_AMT1                   30000.0   51223.33   73635.86 -165580.0   3558.75   \n",
              "BILL_AMT2                   30000.0   49179.08   71173.77  -69777.0   2984.75   \n",
              "BILL_AMT3                   30000.0   47013.15   69349.39 -157264.0   2666.25   \n",
              "BILL_AMT4                   30000.0   43262.95   64332.86 -170000.0   2326.75   \n",
              "BILL_AMT5                   30000.0   40311.40   60797.16  -81334.0   1763.00   \n",
              "BILL_AMT6                   30000.0   38871.76   59554.11 -339603.0   1256.00   \n",
              "PAY_AMT1                    30000.0    5663.58   16563.28       0.0   1000.00   \n",
              "PAY_AMT2                    30000.0    5921.16   23040.87       0.0    833.00   \n",
              "PAY_AMT3                    30000.0    5225.68   17606.96       0.0    390.00   \n",
              "PAY_AMT4                    30000.0    4826.08   15666.16       0.0    296.00   \n",
              "PAY_AMT5                    30000.0    4799.39   15278.31       0.0    252.50   \n",
              "PAY_AMT6                    30000.0    5215.50   17777.47       0.0    117.75   \n",
              "default payment next month  30000.0       0.22       0.42       0.0      0.00   \n",
              "\n",
              "                                 50%        75%       max  \n",
              "ID                           15000.5   22500.25  3.00e+04  \n",
              "LIMIT_BAL                   140000.0  240000.00  1.00e+06  \n",
              "SEX                              2.0       2.00  2.00e+00  \n",
              "EDUCATION                        2.0       2.00  6.00e+00  \n",
              "MARRIAGE                         2.0       2.00  3.00e+00  \n",
              "AGE                             34.0      41.00  7.90e+01  \n",
              "PAY_0                            0.0       0.00  8.00e+00  \n",
              "PAY_2                            0.0       0.00  8.00e+00  \n",
              "PAY_3                            0.0       0.00  8.00e+00  \n",
              "PAY_4                            0.0       0.00  8.00e+00  \n",
              "PAY_5                            0.0       0.00  8.00e+00  \n",
              "PAY_6                            0.0       0.00  8.00e+00  \n",
              "BILL_AMT1                    22381.5   67091.00  9.65e+05  \n",
              "BILL_AMT2                    21200.0   64006.25  9.84e+05  \n",
              "BILL_AMT3                    20088.5   60164.75  1.66e+06  \n",
              "BILL_AMT4                    19052.0   54506.00  8.92e+05  \n",
              "BILL_AMT5                    18104.5   50190.50  9.27e+05  \n",
              "BILL_AMT6                    17071.0   49198.25  9.62e+05  \n",
              "PAY_AMT1                      2100.0    5006.00  8.74e+05  \n",
              "PAY_AMT2                      2009.0    5000.00  1.68e+06  \n",
              "PAY_AMT3                      1800.0    4505.00  8.96e+05  \n",
              "PAY_AMT4                      1500.0    4013.25  6.21e+05  \n",
              "PAY_AMT5                      1500.0    4031.50  4.27e+05  \n",
              "PAY_AMT6                      1500.0    4000.00  5.29e+05  \n",
              "default payment next month       0.0       0.00  1.00e+00  "
            ],
            "text/html": [
              "\n",
              "  <div id=\"df-816f15a5-a4e0-4714-88c6-abd614de5d50\" class=\"colab-df-container\">\n",
              "    <div>\n",
              "<style scoped>\n",
              "    .dataframe tbody tr th:only-of-type {\n",
              "        vertical-align: middle;\n",
              "    }\n",
              "\n",
              "    .dataframe tbody tr th {\n",
              "        vertical-align: top;\n",
              "    }\n",
              "\n",
              "    .dataframe thead th {\n",
              "        text-align: right;\n",
              "    }\n",
              "</style>\n",
              "<table border=\"1\" class=\"dataframe\">\n",
              "  <thead>\n",
              "    <tr style=\"text-align: right;\">\n",
              "      <th></th>\n",
              "      <th>count</th>\n",
              "      <th>mean</th>\n",
              "      <th>std</th>\n",
              "      <th>min</th>\n",
              "      <th>25%</th>\n",
              "      <th>50%</th>\n",
              "      <th>75%</th>\n",
              "      <th>max</th>\n",
              "    </tr>\n",
              "  </thead>\n",
              "  <tbody>\n",
              "    <tr>\n",
              "      <th>ID</th>\n",
              "      <td>30000.0</td>\n",
              "      <td>15000.50</td>\n",
              "      <td>8660.40</td>\n",
              "      <td>1.0</td>\n",
              "      <td>7500.75</td>\n",
              "      <td>15000.5</td>\n",
              "      <td>22500.25</td>\n",
              "      <td>3.00e+04</td>\n",
              "    </tr>\n",
              "    <tr>\n",
              "      <th>LIMIT_BAL</th>\n",
              "      <td>30000.0</td>\n",
              "      <td>167484.32</td>\n",
              "      <td>129747.66</td>\n",
              "      <td>10000.0</td>\n",
              "      <td>50000.00</td>\n",
              "      <td>140000.0</td>\n",
              "      <td>240000.00</td>\n",
              "      <td>1.00e+06</td>\n",
              "    </tr>\n",
              "    <tr>\n",
              "      <th>SEX</th>\n",
              "      <td>30000.0</td>\n",
              "      <td>1.60</td>\n",
              "      <td>0.49</td>\n",
              "      <td>1.0</td>\n",
              "      <td>1.00</td>\n",
              "      <td>2.0</td>\n",
              "      <td>2.00</td>\n",
              "      <td>2.00e+00</td>\n",
              "    </tr>\n",
              "    <tr>\n",
              "      <th>EDUCATION</th>\n",
              "      <td>30000.0</td>\n",
              "      <td>1.85</td>\n",
              "      <td>0.79</td>\n",
              "      <td>0.0</td>\n",
              "      <td>1.00</td>\n",
              "      <td>2.0</td>\n",
              "      <td>2.00</td>\n",
              "      <td>6.00e+00</td>\n",
              "    </tr>\n",
              "    <tr>\n",
              "      <th>MARRIAGE</th>\n",
              "      <td>30000.0</td>\n",
              "      <td>1.55</td>\n",
              "      <td>0.52</td>\n",
              "      <td>0.0</td>\n",
              "      <td>1.00</td>\n",
              "      <td>2.0</td>\n",
              "      <td>2.00</td>\n",
              "      <td>3.00e+00</td>\n",
              "    </tr>\n",
              "    <tr>\n",
              "      <th>AGE</th>\n",
              "      <td>30000.0</td>\n",
              "      <td>35.49</td>\n",
              "      <td>9.22</td>\n",
              "      <td>21.0</td>\n",
              "      <td>28.00</td>\n",
              "      <td>34.0</td>\n",
              "      <td>41.00</td>\n",
              "      <td>7.90e+01</td>\n",
              "    </tr>\n",
              "    <tr>\n",
              "      <th>PAY_0</th>\n",
              "      <td>30000.0</td>\n",
              "      <td>-0.02</td>\n",
              "      <td>1.12</td>\n",
              "      <td>-2.0</td>\n",
              "      <td>-1.00</td>\n",
              "      <td>0.0</td>\n",
              "      <td>0.00</td>\n",
              "      <td>8.00e+00</td>\n",
              "    </tr>\n",
              "    <tr>\n",
              "      <th>PAY_2</th>\n",
              "      <td>30000.0</td>\n",
              "      <td>-0.13</td>\n",
              "      <td>1.20</td>\n",
              "      <td>-2.0</td>\n",
              "      <td>-1.00</td>\n",
              "      <td>0.0</td>\n",
              "      <td>0.00</td>\n",
              "      <td>8.00e+00</td>\n",
              "    </tr>\n",
              "    <tr>\n",
              "      <th>PAY_3</th>\n",
              "      <td>30000.0</td>\n",
              "      <td>-0.17</td>\n",
              "      <td>1.20</td>\n",
              "      <td>-2.0</td>\n",
              "      <td>-1.00</td>\n",
              "      <td>0.0</td>\n",
              "      <td>0.00</td>\n",
              "      <td>8.00e+00</td>\n",
              "    </tr>\n",
              "    <tr>\n",
              "      <th>PAY_4</th>\n",
              "      <td>30000.0</td>\n",
              "      <td>-0.22</td>\n",
              "      <td>1.17</td>\n",
              "      <td>-2.0</td>\n",
              "      <td>-1.00</td>\n",
              "      <td>0.0</td>\n",
              "      <td>0.00</td>\n",
              "      <td>8.00e+00</td>\n",
              "    </tr>\n",
              "    <tr>\n",
              "      <th>PAY_5</th>\n",
              "      <td>30000.0</td>\n",
              "      <td>-0.27</td>\n",
              "      <td>1.13</td>\n",
              "      <td>-2.0</td>\n",
              "      <td>-1.00</td>\n",
              "      <td>0.0</td>\n",
              "      <td>0.00</td>\n",
              "      <td>8.00e+00</td>\n",
              "    </tr>\n",
              "    <tr>\n",
              "      <th>PAY_6</th>\n",
              "      <td>30000.0</td>\n",
              "      <td>-0.29</td>\n",
              "      <td>1.15</td>\n",
              "      <td>-2.0</td>\n",
              "      <td>-1.00</td>\n",
              "      <td>0.0</td>\n",
              "      <td>0.00</td>\n",
              "      <td>8.00e+00</td>\n",
              "    </tr>\n",
              "    <tr>\n",
              "      <th>BILL_AMT1</th>\n",
              "      <td>30000.0</td>\n",
              "      <td>51223.33</td>\n",
              "      <td>73635.86</td>\n",
              "      <td>-165580.0</td>\n",
              "      <td>3558.75</td>\n",
              "      <td>22381.5</td>\n",
              "      <td>67091.00</td>\n",
              "      <td>9.65e+05</td>\n",
              "    </tr>\n",
              "    <tr>\n",
              "      <th>BILL_AMT2</th>\n",
              "      <td>30000.0</td>\n",
              "      <td>49179.08</td>\n",
              "      <td>71173.77</td>\n",
              "      <td>-69777.0</td>\n",
              "      <td>2984.75</td>\n",
              "      <td>21200.0</td>\n",
              "      <td>64006.25</td>\n",
              "      <td>9.84e+05</td>\n",
              "    </tr>\n",
              "    <tr>\n",
              "      <th>BILL_AMT3</th>\n",
              "      <td>30000.0</td>\n",
              "      <td>47013.15</td>\n",
              "      <td>69349.39</td>\n",
              "      <td>-157264.0</td>\n",
              "      <td>2666.25</td>\n",
              "      <td>20088.5</td>\n",
              "      <td>60164.75</td>\n",
              "      <td>1.66e+06</td>\n",
              "    </tr>\n",
              "    <tr>\n",
              "      <th>BILL_AMT4</th>\n",
              "      <td>30000.0</td>\n",
              "      <td>43262.95</td>\n",
              "      <td>64332.86</td>\n",
              "      <td>-170000.0</td>\n",
              "      <td>2326.75</td>\n",
              "      <td>19052.0</td>\n",
              "      <td>54506.00</td>\n",
              "      <td>8.92e+05</td>\n",
              "    </tr>\n",
              "    <tr>\n",
              "      <th>BILL_AMT5</th>\n",
              "      <td>30000.0</td>\n",
              "      <td>40311.40</td>\n",
              "      <td>60797.16</td>\n",
              "      <td>-81334.0</td>\n",
              "      <td>1763.00</td>\n",
              "      <td>18104.5</td>\n",
              "      <td>50190.50</td>\n",
              "      <td>9.27e+05</td>\n",
              "    </tr>\n",
              "    <tr>\n",
              "      <th>BILL_AMT6</th>\n",
              "      <td>30000.0</td>\n",
              "      <td>38871.76</td>\n",
              "      <td>59554.11</td>\n",
              "      <td>-339603.0</td>\n",
              "      <td>1256.00</td>\n",
              "      <td>17071.0</td>\n",
              "      <td>49198.25</td>\n",
              "      <td>9.62e+05</td>\n",
              "    </tr>\n",
              "    <tr>\n",
              "      <th>PAY_AMT1</th>\n",
              "      <td>30000.0</td>\n",
              "      <td>5663.58</td>\n",
              "      <td>16563.28</td>\n",
              "      <td>0.0</td>\n",
              "      <td>1000.00</td>\n",
              "      <td>2100.0</td>\n",
              "      <td>5006.00</td>\n",
              "      <td>8.74e+05</td>\n",
              "    </tr>\n",
              "    <tr>\n",
              "      <th>PAY_AMT2</th>\n",
              "      <td>30000.0</td>\n",
              "      <td>5921.16</td>\n",
              "      <td>23040.87</td>\n",
              "      <td>0.0</td>\n",
              "      <td>833.00</td>\n",
              "      <td>2009.0</td>\n",
              "      <td>5000.00</td>\n",
              "      <td>1.68e+06</td>\n",
              "    </tr>\n",
              "    <tr>\n",
              "      <th>PAY_AMT3</th>\n",
              "      <td>30000.0</td>\n",
              "      <td>5225.68</td>\n",
              "      <td>17606.96</td>\n",
              "      <td>0.0</td>\n",
              "      <td>390.00</td>\n",
              "      <td>1800.0</td>\n",
              "      <td>4505.00</td>\n",
              "      <td>8.96e+05</td>\n",
              "    </tr>\n",
              "    <tr>\n",
              "      <th>PAY_AMT4</th>\n",
              "      <td>30000.0</td>\n",
              "      <td>4826.08</td>\n",
              "      <td>15666.16</td>\n",
              "      <td>0.0</td>\n",
              "      <td>296.00</td>\n",
              "      <td>1500.0</td>\n",
              "      <td>4013.25</td>\n",
              "      <td>6.21e+05</td>\n",
              "    </tr>\n",
              "    <tr>\n",
              "      <th>PAY_AMT5</th>\n",
              "      <td>30000.0</td>\n",
              "      <td>4799.39</td>\n",
              "      <td>15278.31</td>\n",
              "      <td>0.0</td>\n",
              "      <td>252.50</td>\n",
              "      <td>1500.0</td>\n",
              "      <td>4031.50</td>\n",
              "      <td>4.27e+05</td>\n",
              "    </tr>\n",
              "    <tr>\n",
              "      <th>PAY_AMT6</th>\n",
              "      <td>30000.0</td>\n",
              "      <td>5215.50</td>\n",
              "      <td>17777.47</td>\n",
              "      <td>0.0</td>\n",
              "      <td>117.75</td>\n",
              "      <td>1500.0</td>\n",
              "      <td>4000.00</td>\n",
              "      <td>5.29e+05</td>\n",
              "    </tr>\n",
              "    <tr>\n",
              "      <th>default payment next month</th>\n",
              "      <td>30000.0</td>\n",
              "      <td>0.22</td>\n",
              "      <td>0.42</td>\n",
              "      <td>0.0</td>\n",
              "      <td>0.00</td>\n",
              "      <td>0.0</td>\n",
              "      <td>0.00</td>\n",
              "      <td>1.00e+00</td>\n",
              "    </tr>\n",
              "  </tbody>\n",
              "</table>\n",
              "</div>\n",
              "    <div class=\"colab-df-buttons\">\n",
              "\n",
              "  <div class=\"colab-df-container\">\n",
              "    <button class=\"colab-df-convert\" onclick=\"convertToInteractive('df-816f15a5-a4e0-4714-88c6-abd614de5d50')\"\n",
              "            title=\"Convert this dataframe to an interactive table.\"\n",
              "            style=\"display:none;\">\n",
              "\n",
              "  <svg xmlns=\"http://www.w3.org/2000/svg\" height=\"24px\" viewBox=\"0 -960 960 960\">\n",
              "    <path d=\"M120-120v-720h720v720H120Zm60-500h600v-160H180v160Zm220 220h160v-160H400v160Zm0 220h160v-160H400v160ZM180-400h160v-160H180v160Zm440 0h160v-160H620v160ZM180-180h160v-160H180v160Zm440 0h160v-160H620v160Z\"/>\n",
              "  </svg>\n",
              "    </button>\n",
              "\n",
              "  <style>\n",
              "    .colab-df-container {\n",
              "      display:flex;\n",
              "      gap: 12px;\n",
              "    }\n",
              "\n",
              "    .colab-df-convert {\n",
              "      background-color: #E8F0FE;\n",
              "      border: none;\n",
              "      border-radius: 50%;\n",
              "      cursor: pointer;\n",
              "      display: none;\n",
              "      fill: #1967D2;\n",
              "      height: 32px;\n",
              "      padding: 0 0 0 0;\n",
              "      width: 32px;\n",
              "    }\n",
              "\n",
              "    .colab-df-convert:hover {\n",
              "      background-color: #E2EBFA;\n",
              "      box-shadow: 0px 1px 2px rgba(60, 64, 67, 0.3), 0px 1px 3px 1px rgba(60, 64, 67, 0.15);\n",
              "      fill: #174EA6;\n",
              "    }\n",
              "\n",
              "    .colab-df-buttons div {\n",
              "      margin-bottom: 4px;\n",
              "    }\n",
              "\n",
              "    [theme=dark] .colab-df-convert {\n",
              "      background-color: #3B4455;\n",
              "      fill: #D2E3FC;\n",
              "    }\n",
              "\n",
              "    [theme=dark] .colab-df-convert:hover {\n",
              "      background-color: #434B5C;\n",
              "      box-shadow: 0px 1px 3px 1px rgba(0, 0, 0, 0.15);\n",
              "      filter: drop-shadow(0px 1px 2px rgba(0, 0, 0, 0.3));\n",
              "      fill: #FFFFFF;\n",
              "    }\n",
              "  </style>\n",
              "\n",
              "    <script>\n",
              "      const buttonEl =\n",
              "        document.querySelector('#df-816f15a5-a4e0-4714-88c6-abd614de5d50 button.colab-df-convert');\n",
              "      buttonEl.style.display =\n",
              "        google.colab.kernel.accessAllowed ? 'block' : 'none';\n",
              "\n",
              "      async function convertToInteractive(key) {\n",
              "        const element = document.querySelector('#df-816f15a5-a4e0-4714-88c6-abd614de5d50');\n",
              "        const dataTable =\n",
              "          await google.colab.kernel.invokeFunction('convertToInteractive',\n",
              "                                                    [key], {});\n",
              "        if (!dataTable) return;\n",
              "\n",
              "        const docLinkHtml = 'Like what you see? Visit the ' +\n",
              "          '<a target=\"_blank\" href=https://colab.research.google.com/notebooks/data_table.ipynb>data table notebook</a>'\n",
              "          + ' to learn more about interactive tables.';\n",
              "        element.innerHTML = '';\n",
              "        dataTable['output_type'] = 'display_data';\n",
              "        await google.colab.output.renderOutput(dataTable, element);\n",
              "        const docLink = document.createElement('div');\n",
              "        docLink.innerHTML = docLinkHtml;\n",
              "        element.appendChild(docLink);\n",
              "      }\n",
              "    </script>\n",
              "  </div>\n",
              "\n",
              "\n",
              "<div id=\"df-4520fda1-1104-4b07-8bec-001849207566\">\n",
              "  <button class=\"colab-df-quickchart\" onclick=\"quickchart('df-4520fda1-1104-4b07-8bec-001849207566')\"\n",
              "            title=\"Suggest charts\"\n",
              "            style=\"display:none;\">\n",
              "\n",
              "<svg xmlns=\"http://www.w3.org/2000/svg\" height=\"24px\"viewBox=\"0 0 24 24\"\n",
              "     width=\"24px\">\n",
              "    <g>\n",
              "        <path d=\"M19 3H5c-1.1 0-2 .9-2 2v14c0 1.1.9 2 2 2h14c1.1 0 2-.9 2-2V5c0-1.1-.9-2-2-2zM9 17H7v-7h2v7zm4 0h-2V7h2v10zm4 0h-2v-4h2v4z\"/>\n",
              "    </g>\n",
              "</svg>\n",
              "  </button>\n",
              "\n",
              "<style>\n",
              "  .colab-df-quickchart {\n",
              "      --bg-color: #E8F0FE;\n",
              "      --fill-color: #1967D2;\n",
              "      --hover-bg-color: #E2EBFA;\n",
              "      --hover-fill-color: #174EA6;\n",
              "      --disabled-fill-color: #AAA;\n",
              "      --disabled-bg-color: #DDD;\n",
              "  }\n",
              "\n",
              "  [theme=dark] .colab-df-quickchart {\n",
              "      --bg-color: #3B4455;\n",
              "      --fill-color: #D2E3FC;\n",
              "      --hover-bg-color: #434B5C;\n",
              "      --hover-fill-color: #FFFFFF;\n",
              "      --disabled-bg-color: #3B4455;\n",
              "      --disabled-fill-color: #666;\n",
              "  }\n",
              "\n",
              "  .colab-df-quickchart {\n",
              "    background-color: var(--bg-color);\n",
              "    border: none;\n",
              "    border-radius: 50%;\n",
              "    cursor: pointer;\n",
              "    display: none;\n",
              "    fill: var(--fill-color);\n",
              "    height: 32px;\n",
              "    padding: 0;\n",
              "    width: 32px;\n",
              "  }\n",
              "\n",
              "  .colab-df-quickchart:hover {\n",
              "    background-color: var(--hover-bg-color);\n",
              "    box-shadow: 0 1px 2px rgba(60, 64, 67, 0.3), 0 1px 3px 1px rgba(60, 64, 67, 0.15);\n",
              "    fill: var(--button-hover-fill-color);\n",
              "  }\n",
              "\n",
              "  .colab-df-quickchart-complete:disabled,\n",
              "  .colab-df-quickchart-complete:disabled:hover {\n",
              "    background-color: var(--disabled-bg-color);\n",
              "    fill: var(--disabled-fill-color);\n",
              "    box-shadow: none;\n",
              "  }\n",
              "\n",
              "  .colab-df-spinner {\n",
              "    border: 2px solid var(--fill-color);\n",
              "    border-color: transparent;\n",
              "    border-bottom-color: var(--fill-color);\n",
              "    animation:\n",
              "      spin 1s steps(1) infinite;\n",
              "  }\n",
              "\n",
              "  @keyframes spin {\n",
              "    0% {\n",
              "      border-color: transparent;\n",
              "      border-bottom-color: var(--fill-color);\n",
              "      border-left-color: var(--fill-color);\n",
              "    }\n",
              "    20% {\n",
              "      border-color: transparent;\n",
              "      border-left-color: var(--fill-color);\n",
              "      border-top-color: var(--fill-color);\n",
              "    }\n",
              "    30% {\n",
              "      border-color: transparent;\n",
              "      border-left-color: var(--fill-color);\n",
              "      border-top-color: var(--fill-color);\n",
              "      border-right-color: var(--fill-color);\n",
              "    }\n",
              "    40% {\n",
              "      border-color: transparent;\n",
              "      border-right-color: var(--fill-color);\n",
              "      border-top-color: var(--fill-color);\n",
              "    }\n",
              "    60% {\n",
              "      border-color: transparent;\n",
              "      border-right-color: var(--fill-color);\n",
              "    }\n",
              "    80% {\n",
              "      border-color: transparent;\n",
              "      border-right-color: var(--fill-color);\n",
              "      border-bottom-color: var(--fill-color);\n",
              "    }\n",
              "    90% {\n",
              "      border-color: transparent;\n",
              "      border-bottom-color: var(--fill-color);\n",
              "    }\n",
              "  }\n",
              "</style>\n",
              "\n",
              "  <script>\n",
              "    async function quickchart(key) {\n",
              "      const quickchartButtonEl =\n",
              "        document.querySelector('#' + key + ' button');\n",
              "      quickchartButtonEl.disabled = true;  // To prevent multiple clicks.\n",
              "      quickchartButtonEl.classList.add('colab-df-spinner');\n",
              "      try {\n",
              "        const charts = await google.colab.kernel.invokeFunction(\n",
              "            'suggestCharts', [key], {});\n",
              "      } catch (error) {\n",
              "        console.error('Error during call to suggestCharts:', error);\n",
              "      }\n",
              "      quickchartButtonEl.classList.remove('colab-df-spinner');\n",
              "      quickchartButtonEl.classList.add('colab-df-quickchart-complete');\n",
              "    }\n",
              "    (() => {\n",
              "      let quickchartButtonEl =\n",
              "        document.querySelector('#df-4520fda1-1104-4b07-8bec-001849207566 button');\n",
              "      quickchartButtonEl.style.display =\n",
              "        google.colab.kernel.accessAllowed ? 'block' : 'none';\n",
              "    })();\n",
              "  </script>\n",
              "</div>\n",
              "\n",
              "    </div>\n",
              "  </div>\n"
            ],
            "application/vnd.google.colaboratory.intrinsic+json": {
              "type": "dataframe",
              "summary": "{\n  \"name\": \"cred_df\",\n  \"rows\": 25,\n  \"fields\": [\n    {\n      \"column\": \"count\",\n      \"properties\": {\n        \"dtype\": \"number\",\n        \"std\": 0.0,\n        \"min\": 30000.0,\n        \"max\": 30000.0,\n        \"num_unique_values\": 1,\n        \"samples\": [\n          30000.0\n        ],\n        \"semantic_type\": \"\",\n        \"description\": \"\"\n      }\n    },\n    {\n      \"column\": \"mean\",\n      \"properties\": {\n        \"dtype\": \"number\",\n        \"std\": 36132.076175894224,\n        \"min\": -0.2911,\n        \"max\": 167484.32266666667,\n        \"num_unique_values\": 25,\n        \"samples\": [\n          -0.1662\n        ],\n        \"semantic_type\": \"\",\n        \"description\": \"\"\n      }\n    },\n    {\n      \"column\": \"std\",\n      \"properties\": {\n        \"dtype\": \"number\",\n        \"std\": 34731.21810434085,\n        \"min\": 0.41506180569093337,\n        \"max\": 129747.66156720239,\n        \"num_unique_values\": 25,\n        \"samples\": [\n          1.1968675684465735\n        ],\n        \"semantic_type\": \"\",\n        \"description\": \"\"\n      }\n    },\n    {\n      \"column\": \"min\",\n      \"properties\": {\n        \"dtype\": \"number\",\n        \"std\": 84175.21384208061,\n        \"min\": -339603.0,\n        \"max\": 10000.0,\n        \"num_unique_values\": 11,\n        \"samples\": [\n          -165580.0\n        ],\n        \"semantic_type\": \"\",\n        \"description\": \"\"\n      }\n    },\n    {\n      \"column\": \"25%\",\n      \"properties\": {\n        \"dtype\": \"number\",\n        \"std\": 9941.9817541889,\n        \"min\": -1.0,\n        \"max\": 50000.0,\n        \"num_unique_values\": 18,\n        \"samples\": [\n          7500.75\n        ],\n        \"semantic_type\": \"\",\n        \"description\": \"\"\n      }\n    },\n    {\n      \"column\": \"50%\",\n      \"properties\": {\n        \"dtype\": \"number\",\n        \"std\": 28112.9577127701,\n        \"min\": 0.0,\n        \"max\": 140000.0,\n        \"num_unique_values\": 15,\n        \"samples\": [\n          18104.5\n        ],\n        \"semantic_type\": \"\",\n        \"description\": \"\"\n      }\n    },\n    {\n      \"column\": \"75%\",\n      \"properties\": {\n        \"dtype\": \"number\",\n        \"std\": 50933.70590982703,\n        \"min\": 0.0,\n        \"max\": 240000.0,\n        \"num_unique_values\": 17,\n        \"samples\": [\n          22500.25\n        ],\n        \"semantic_type\": \"\",\n        \"description\": \"\"\n      }\n    },\n    {\n      \"column\": \"max\",\n      \"properties\": {\n        \"dtype\": \"number\",\n        \"std\": 551301.61266929,\n        \"min\": 1.0,\n        \"max\": 1684259.0,\n        \"num_unique_values\": 20,\n        \"samples\": [\n          30000.0\n        ],\n        \"semantic_type\": \"\",\n        \"description\": \"\"\n      }\n    }\n  ]\n}"
            }
          },
          "metadata": {},
          "execution_count": 121
        }
      ],
      "source": [
        "# checking the descriptive statistics of the feature of the dataset\n",
        "cred_df.describe().T"
      ]
    },
    {
      "cell_type": "markdown",
      "metadata": {
        "id": "4EWKspiJ0HLO"
      },
      "source": [
        "As we can see:there is large difference in mean and median for bill paid and bill generated features indicating skemed distribution of data.We will plot them to understand the distribution and outliers if present any.The 'default payment next month' is the target variable.\n",
        "    \n",
        "The average value for the amount of credit card limit is 167484.the standard deviation is usally large,max value being 1000000.\n",
        "\n",
        "Since the averge of education is 1.85 we can say that education is mostly gradute school and university.\n",
        "\n",
        "Average age is 35.5 years,with a standard deviation of 9.2\n",
        "\n",
        "As the value 0 for default payment means 'not default' and value 1 means 'default',the mean of 0.22 means that there are 22% of credit card contract that will default next month(will verify this in the next sections of this analysis)"
      ]
    },
    {
      "cell_type": "markdown",
      "metadata": {
        "id": "8dZF0iEl3yHL"
      },
      "source": [
        "# **Feature Description**\n",
        "\n",
        "following is the description of our features:\n",
        "\n",
        "ID:ID of each client\n",
        "\n",
        "LIMIT_BAL:Amount of the given credit in NT dollors\n",
        "\n",
        "SEX:Gender(1=male,2=female)\n",
        "\n",
        "EDUCATION:(1=gradute school,2=university,3=high school,0,4,5,6=others)\n",
        "\n",
        "MARRIAGE:Marital status(0=others,1=married,2=single,3=others)\n",
        "\n",
        "AGE: age in years\n",
        "\n",
        "Scale for PAY_0 and PAY_6:\n",
        "\n",
        "(-2,-1,0 = paid duly, 1 = payment delay for one month,2 = payment delay for two months,.......8 = payment delay for eight months,9 = payment delay for nine month and above)\n",
        "\n",
        "PAY_0:Repayment status in september,2005(scale same as above)\n",
        "\n",
        "PAY_2:Repayment status in August,2005(scale same as above)\n",
        "\n",
        "PAY_3:Repayment status in july,2005(scale same as above)\n",
        "\n",
        "PAY_4:Repayment status in June,2005(scale same as above)\n",
        "\n",
        "PAY_5:Repayment status in May,2005(scale same as above)\n",
        "\n",
        "PAY_6:Repayment status in April,2005(scale same as above)\n",
        "\n",
        "BILL_AMT1:Amount of bill statement in september,2005(NT dollar)\n",
        "\n",
        "BILL_AMT2:Amount of bill statement in August,2005(NT dollar)\n",
        "\n",
        "BILL_AMT3:Amount of bill statement in JULY,2005(NT dollar)\n",
        "\n",
        "BILL_AMT4:Amount of bill statement in June,2005(NT dollar)\n",
        "\n",
        "BILL_AMT5:Amount of bill statement in May,2005(NT dollar)\n",
        "\n",
        "BILL_AMT6:Amount of bill statement in April,2005(NT dollar)\n",
        "\n",
        "PAY_AMT1:Amount of previous payment in September,2005(NT dollar)\n",
        "\n",
        "PAY_AMT2:Amount of previous payment in August,2005(NT dollar)\n",
        "\n",
        "PAY_AMT3:Amount of previous payment in July,2005(NT dollar)\n",
        "\n",
        "PAY_AMT4:Amount of previous payment in June,2005(NT dollar)\n",
        "\n",
        "PAY_AMT5:Amount of previous payment in May,2005(NT dollar)\n",
        "\n",
        "PAY_AMT6:Amount of previous payment in April,2005(NT dollar)\n",
        "\n",
        "default.payment.next.month:Default payment,our target variable(1=yes,0=no)\n",
        "\n",
        "In our dataset we got customer credit card transaction history for past 6 months,On basis of which we have to predict if customer will default or not.\n",
        "\n",
        "\n",
        "\n",
        "\n",
        "\n"
      ]
    },
    {
      "cell_type": "markdown",
      "metadata": {
        "id": "wGaqev4SC-BT"
      },
      "source": [
        "# **Data Preparation:Cleancing and Preprocessing**"
      ]
    },
    {
      "cell_type": "markdown",
      "metadata": {
        "id": "gAHA1-NqDOOT"
      },
      "source": [
        "In data preparation ,we treat the raw data to enhance its quality and reliability,In order to do so ,we perform follows checks:\n",
        "\n",
        "\n",
        "  1.Handling Missing Values\n",
        "\n",
        "  2.Handling duplicates\n",
        "\n",
        "  3.Improper struture structure and formats\n",
        "\n",
        "  4.Handling outliers"
      ]
    },
    {
      "cell_type": "markdown",
      "metadata": {
        "id": "xPHSV4azELfv"
      },
      "source": [
        "# **Missing value Check**"
      ]
    },
    {
      "cell_type": "markdown",
      "metadata": {
        "id": "C44_DL8JEUTc"
      },
      "source": [
        "Why do we need to handle missing values?"
      ]
    },
    {
      "cell_type": "markdown",
      "metadata": {
        "id": "Op9s8SkgEgRG"
      },
      "source": [
        "Missing values could be a result of data corruptions or failure to record data in real world data.During preprocessing ,it is one of very initial and important\n",
        "step since many machine learning algorithm throws errors for missing values.They\n",
        "should be handled carefully as per the problem statement else,it might lead to errorous data and deviated insighted.it is very important to understand how missing values should be treated."
      ]
    },
    {
      "cell_type": "code",
      "execution_count": 122,
      "metadata": {
        "colab": {
          "base_uri": "https://localhost:8080/",
          "height": 886
        },
        "id": "9mRPXSWD3xIx",
        "outputId": "ae911010-9cc9-4d19-c2d7-e3923f2182dd"
      },
      "outputs": [
        {
          "output_type": "stream",
          "name": "stdout",
          "text": [
            "Total null values are :0\n"
          ]
        },
        {
          "output_type": "execute_result",
          "data": {
            "text/plain": [
              "ID                            0\n",
              "LIMIT_BAL                     0\n",
              "SEX                           0\n",
              "EDUCATION                     0\n",
              "MARRIAGE                      0\n",
              "AGE                           0\n",
              "PAY_0                         0\n",
              "PAY_2                         0\n",
              "PAY_3                         0\n",
              "PAY_4                         0\n",
              "PAY_5                         0\n",
              "PAY_6                         0\n",
              "BILL_AMT1                     0\n",
              "BILL_AMT2                     0\n",
              "BILL_AMT3                     0\n",
              "BILL_AMT4                     0\n",
              "BILL_AMT5                     0\n",
              "BILL_AMT6                     0\n",
              "PAY_AMT1                      0\n",
              "PAY_AMT2                      0\n",
              "PAY_AMT3                      0\n",
              "PAY_AMT4                      0\n",
              "PAY_AMT5                      0\n",
              "PAY_AMT6                      0\n",
              "default payment next month    0\n",
              "dtype: int64"
            ],
            "text/html": [
              "<div>\n",
              "<style scoped>\n",
              "    .dataframe tbody tr th:only-of-type {\n",
              "        vertical-align: middle;\n",
              "    }\n",
              "\n",
              "    .dataframe tbody tr th {\n",
              "        vertical-align: top;\n",
              "    }\n",
              "\n",
              "    .dataframe thead th {\n",
              "        text-align: right;\n",
              "    }\n",
              "</style>\n",
              "<table border=\"1\" class=\"dataframe\">\n",
              "  <thead>\n",
              "    <tr style=\"text-align: right;\">\n",
              "      <th></th>\n",
              "      <th>0</th>\n",
              "    </tr>\n",
              "  </thead>\n",
              "  <tbody>\n",
              "    <tr>\n",
              "      <th>ID</th>\n",
              "      <td>0</td>\n",
              "    </tr>\n",
              "    <tr>\n",
              "      <th>LIMIT_BAL</th>\n",
              "      <td>0</td>\n",
              "    </tr>\n",
              "    <tr>\n",
              "      <th>SEX</th>\n",
              "      <td>0</td>\n",
              "    </tr>\n",
              "    <tr>\n",
              "      <th>EDUCATION</th>\n",
              "      <td>0</td>\n",
              "    </tr>\n",
              "    <tr>\n",
              "      <th>MARRIAGE</th>\n",
              "      <td>0</td>\n",
              "    </tr>\n",
              "    <tr>\n",
              "      <th>AGE</th>\n",
              "      <td>0</td>\n",
              "    </tr>\n",
              "    <tr>\n",
              "      <th>PAY_0</th>\n",
              "      <td>0</td>\n",
              "    </tr>\n",
              "    <tr>\n",
              "      <th>PAY_2</th>\n",
              "      <td>0</td>\n",
              "    </tr>\n",
              "    <tr>\n",
              "      <th>PAY_3</th>\n",
              "      <td>0</td>\n",
              "    </tr>\n",
              "    <tr>\n",
              "      <th>PAY_4</th>\n",
              "      <td>0</td>\n",
              "    </tr>\n",
              "    <tr>\n",
              "      <th>PAY_5</th>\n",
              "      <td>0</td>\n",
              "    </tr>\n",
              "    <tr>\n",
              "      <th>PAY_6</th>\n",
              "      <td>0</td>\n",
              "    </tr>\n",
              "    <tr>\n",
              "      <th>BILL_AMT1</th>\n",
              "      <td>0</td>\n",
              "    </tr>\n",
              "    <tr>\n",
              "      <th>BILL_AMT2</th>\n",
              "      <td>0</td>\n",
              "    </tr>\n",
              "    <tr>\n",
              "      <th>BILL_AMT3</th>\n",
              "      <td>0</td>\n",
              "    </tr>\n",
              "    <tr>\n",
              "      <th>BILL_AMT4</th>\n",
              "      <td>0</td>\n",
              "    </tr>\n",
              "    <tr>\n",
              "      <th>BILL_AMT5</th>\n",
              "      <td>0</td>\n",
              "    </tr>\n",
              "    <tr>\n",
              "      <th>BILL_AMT6</th>\n",
              "      <td>0</td>\n",
              "    </tr>\n",
              "    <tr>\n",
              "      <th>PAY_AMT1</th>\n",
              "      <td>0</td>\n",
              "    </tr>\n",
              "    <tr>\n",
              "      <th>PAY_AMT2</th>\n",
              "      <td>0</td>\n",
              "    </tr>\n",
              "    <tr>\n",
              "      <th>PAY_AMT3</th>\n",
              "      <td>0</td>\n",
              "    </tr>\n",
              "    <tr>\n",
              "      <th>PAY_AMT4</th>\n",
              "      <td>0</td>\n",
              "    </tr>\n",
              "    <tr>\n",
              "      <th>PAY_AMT5</th>\n",
              "      <td>0</td>\n",
              "    </tr>\n",
              "    <tr>\n",
              "      <th>PAY_AMT6</th>\n",
              "      <td>0</td>\n",
              "    </tr>\n",
              "    <tr>\n",
              "      <th>default payment next month</th>\n",
              "      <td>0</td>\n",
              "    </tr>\n",
              "  </tbody>\n",
              "</table>\n",
              "</div><br><label><b>dtype:</b> int64</label>"
            ]
          },
          "metadata": {},
          "execution_count": 122
        }
      ],
      "source": [
        "#Checking for count of missing values in each column\n",
        "#printing the sum of total missing values in the dataset.\n",
        "\n",
        "print(f'Total null values are :{cred_df.isnull().sum().sum()}')\n",
        "\n",
        "# checking missing values for every individual feature\n",
        "\n",
        "cred_df.isnull().sum()"
      ]
    },
    {
      "cell_type": "code",
      "execution_count": 123,
      "metadata": {
        "colab": {
          "base_uri": "https://localhost:8080/",
          "height": 691
        },
        "id": "SCXaFVVEz_Ly",
        "outputId": "91aec966-6c86-4d2d-9e49-14143b19aae3"
      },
      "outputs": [
        {
          "output_type": "display_data",
          "data": {
            "text/plain": [
              "<Figure size 1300x600 with 1 Axes>"
            ],
            "image/png": "[encoded data removed]"
          },
          "metadata": {}
        }
      ],
      "source": [
        "#plot the graph to check the missing values in the dataset\n",
        "\n",
        "missing= pd.DataFrame((cred_df.isnull().sum())*100/cred_df.shape[0]).reset_index()\n",
        "plt.figure(figsize=(13,6))\n",
        "ax=sns.pointplot(x='index',y=0,data=missing)\n",
        "plt.xticks(rotation=90,fontsize=7)\n",
        "plt.title('Percentage of Missing values')\n",
        "plt.ylabel(\"Percentage\")\n",
        "plt.show()"
      ]
    },
    {
      "cell_type": "markdown",
      "metadata": {
        "id": "PTMhq_hLhR8C"
      },
      "source": [
        "**As we can see from above plot,luckily we don't have any missing values in the dataset.**"
      ]
    },
    {
      "cell_type": "markdown",
      "metadata": {
        "id": "BWVwZt1Ahn7q"
      },
      "source": [
        "# **Duplicate Value Check**"
      ]
    },
    {
      "cell_type": "markdown",
      "metadata": {
        "id": "c0gfftMEh2Bw"
      },
      "source": [
        "**Why is it important to remove duplicate records from data?**"
      ]
    },
    {
      "cell_type": "markdown",
      "metadata": {
        "id": "xgqqBr7_iI6X"
      },
      "source": [
        "Duplication means redundant duplicate records in the dataset.This could be possibly due to the data entry errors or data collection method.\n",
        "\n",
        "Removing duplicates from our data set could save investment as it may increase the size of data unnecessary.Also it could increase the complexity of data while analysis"
      ]
    },
    {
      "cell_type": "code",
      "execution_count": 124,
      "metadata": {
        "colab": {
          "base_uri": "https://localhost:8080/"
        },
        "id": "O9moFkWtg3IM",
        "outputId": "ca4e2aff-ec63-42d8-f057-170411900054"
      },
      "outputs": [
        {
          "output_type": "stream",
          "name": "stdout",
          "text": [
            "Total duplicate values in the dataset 0        False\n",
            "1        False\n",
            "2        False\n",
            "3        False\n",
            "4        False\n",
            "         ...  \n",
            "29995    False\n",
            "29996    False\n",
            "29997    False\n",
            "29998    False\n",
            "29999    False\n",
            "Length: 30000, dtype: bool\n"
          ]
        }
      ],
      "source": [
        "# Checking the duplicate values\n",
        "duplicate_value = cred_df.duplicated()\n",
        "#storing the total duplicated values in the dataset in a variable\n",
        "print('Total duplicate values in the dataset',duplicate_value)"
      ]
    },
    {
      "cell_type": "markdown",
      "metadata": {
        "id": "I6XJkpHCkbrj"
      },
      "source": [
        "**There are no missing values as well as there are no duplicate records in the dataset.**"
      ]
    },
    {
      "cell_type": "markdown",
      "metadata": {
        "id": "gMpkXOEhkvLS"
      },
      "source": [
        "# **Improper struture and formats**"
      ]
    },
    {
      "cell_type": "markdown",
      "metadata": {
        "id": "OzEaO9DfluI3"
      },
      "source": [
        "Improper struture of data is crucial step from analysis perspective.We should look into the fact the datatype assigned is actually correct pertaining to the data or not.Our goal is to make the dataset more readible and clean so we can perform EDA with effective approach."
      ]
    },
    {
      "cell_type": "code",
      "execution_count": 125,
      "metadata": {
        "id": "YAXdr5SBmzMG"
      },
      "outputs": [],
      "source": [
        "#Rename the columns\n",
        "cred_df.rename(columns={'LIMIT_BAL':\"credit_limit\",'SEX':'gender','EDUCATION':'education','MARRIAGE':'marital_status',\n",
        "                        'AGE':'age','PAY_0':'payment_status_sept','PAY_2':'payment_status_aug','PAY_3':'payment_status_jul',\n",
        "                        'PAY_4':'payment_status_jun','PAY_5':'payment_status_may',\"PAY_6\":'payment_status_apr','BILL_AMT1':'bill_sept',\n",
        "                        'BILL_AMT2':'bill_aug','BILL_AMT3':'bill_jul','BILL_AMT4':'bill_jun','BILL_AMT5':'bill_may','BILL_AMT6':'bill_apr',\n",
        "                        'PAY_AMT1':'payment_amount_sept','PAY_AMT2':'payment_amount_aug','PAY_AMT3':'payment_amount_jul','PAY_AMT4':'payment_amount_jun',\n",
        "                        'PAY_AMT5':'payment_amount_may','PAY_AMT6':'payment_amount_apr','dpnm':'default_payment','default payment next month':'IsDefault'\n",
        "                        },inplace=True)"
      ]
    },
    {
      "cell_type": "code",
      "execution_count": 126,
      "metadata": {
        "colab": {
          "base_uri": "https://localhost:8080/"
        },
        "id": "LrWBIKIP9xxL",
        "outputId": "3b17cb15-a0e7-4033-cc80-e744c7d896f8"
      },
      "outputs": [
        {
          "output_type": "stream",
          "name": "stdout",
          "text": [
            "<class 'pandas.core.frame.DataFrame'>\n",
            "RangeIndex: 30000 entries, 0 to 29999\n",
            "Data columns (total 25 columns):\n",
            " #   Column               Non-Null Count  Dtype \n",
            "---  ------               --------------  ----- \n",
            " 0   ID                   30000 non-null  int64 \n",
            " 1   credit_limit         30000 non-null  int64 \n",
            " 2   gender               30000 non-null  object\n",
            " 3   education            30000 non-null  object\n",
            " 4   marital_status       30000 non-null  object\n",
            " 5   age                  30000 non-null  int64 \n",
            " 6   payment_status_sept  30000 non-null  object\n",
            " 7   payment_status_aug   30000 non-null  object\n",
            " 8   payment_status_jul   30000 non-null  object\n",
            " 9   payment_status_jun   30000 non-null  object\n",
            " 10  payment_status_may   30000 non-null  object\n",
            " 11  payment_status_apr   30000 non-null  object\n",
            " 12  bill_sept            30000 non-null  int64 \n",
            " 13  bill_aug             30000 non-null  int64 \n",
            " 14  bill_jul             30000 non-null  int64 \n",
            " 15  bill_jun             30000 non-null  int64 \n",
            " 16  bill_may             30000 non-null  int64 \n",
            " 17  bill_apr             30000 non-null  int64 \n",
            " 18  payment_amount_sept  30000 non-null  int64 \n",
            " 19  payment_amount_aug   30000 non-null  int64 \n",
            " 20  payment_amount_jul   30000 non-null  int64 \n",
            " 21  payment_amount_jun   30000 non-null  int64 \n",
            " 22  payment_amount_may   30000 non-null  int64 \n",
            " 23  payment_amount_apr   30000 non-null  int64 \n",
            " 24  IsDefault            30000 non-null  int64 \n",
            "dtypes: int64(16), object(9)\n",
            "memory usage: 5.7+ MB\n"
          ]
        }
      ],
      "source": [
        "#converting the catagorical features into object datatype\n",
        "cred_df[['gender','education','marital_status','payment_status_sept','payment_status_aug','payment_status_jul','payment_status_jun','payment_status_may',\n",
        "         'payment_status_apr']]=cred_df[['gender','education','marital_status','payment_status_sept','payment_status_aug','payment_status_jul','payment_status_jun','payment_status_may',\n",
        "         'payment_status_apr']].apply(lambda x:x.astype('object'))\n",
        "\n",
        "cred_df.info()#checking whether the datatype has updated"
      ]
    },
    {
      "cell_type": "code",
      "execution_count": 127,
      "metadata": {
        "colab": {
          "base_uri": "https://localhost:8080/",
          "height": 475
        },
        "id": "1LRj3jcT_v19",
        "outputId": "7c381754-fb91-4679-e28b-6f156e4c4dd4"
      },
      "outputs": [
        {
          "output_type": "execute_result",
          "data": {
            "text/plain": [
              "       credit_limit gender education marital_status  age payment_status_sept  \\\n",
              "ID                                                                             \n",
              "1             20000      2         2              1   24                   2   \n",
              "2            120000      2         2              2   26                  -1   \n",
              "3             90000      2         2              2   34                   0   \n",
              "4             50000      2         2              1   37                   0   \n",
              "5             50000      1         2              1   57                  -1   \n",
              "...             ...    ...       ...            ...  ...                 ...   \n",
              "29996        220000      1         3              1   39                   0   \n",
              "29997        150000      1         3              2   43                  -1   \n",
              "29998         30000      1         2              2   37                   4   \n",
              "29999         80000      1         3              1   41                   1   \n",
              "30000         50000      1         2              1   46                   0   \n",
              "\n",
              "      payment_status_aug payment_status_jul payment_status_jun  \\\n",
              "ID                                                               \n",
              "1                      2                 -1                 -1   \n",
              "2                      2                  0                  0   \n",
              "3                      0                  0                  0   \n",
              "4                      0                  0                  0   \n",
              "5                      0                 -1                  0   \n",
              "...                  ...                ...                ...   \n",
              "29996                  0                  0                  0   \n",
              "29997                 -1                 -1                 -1   \n",
              "29998                  3                  2                 -1   \n",
              "29999                 -1                  0                  0   \n",
              "30000                  0                  0                  0   \n",
              "\n",
              "      payment_status_may payment_status_apr  bill_sept  bill_aug  bill_jul  \\\n",
              "ID                                                                           \n",
              "1                     -2                 -2       3913      3102       689   \n",
              "2                      0                  2       2682      1725      2682   \n",
              "3                      0                  0      29239     14027     13559   \n",
              "4                      0                  0      46990     48233     49291   \n",
              "5                      0                  0       8617      5670     35835   \n",
              "...                  ...                ...        ...       ...       ...   \n",
              "29996                  0                  0     188948    192815    208365   \n",
              "29997                  0                  0       1683      1828      3502   \n",
              "29998                  0                  0       3565      3356      2758   \n",
              "29999                  0                 -1      -1645     78379     76304   \n",
              "30000                  0                  0      47929     48905     49764   \n",
              "\n",
              "       bill_jun  bill_may  bill_apr  payment_amount_sept  payment_amount_aug  \\\n",
              "ID                                                                             \n",
              "1             0         0         0                    0                 689   \n",
              "2          3272      3455      3261                    0                1000   \n",
              "3         14331     14948     15549                 1518                1500   \n",
              "4         28314     28959     29547                 2000                2019   \n",
              "5         20940     19146     19131                 2000               36681   \n",
              "...         ...       ...       ...                  ...                 ...   \n",
              "29996     88004     31237     15980                 8500               20000   \n",
              "29997      8979      5190         0                 1837                3526   \n",
              "29998     20878     20582     19357                    0                   0   \n",
              "29999     52774     11855     48944                85900                3409   \n",
              "30000     36535     32428     15313                 2078                1800   \n",
              "\n",
              "       payment_amount_jul  payment_amount_jun  payment_amount_may  \\\n",
              "ID                                                                  \n",
              "1                       0                   0                   0   \n",
              "2                    1000                1000                   0   \n",
              "3                    1000                1000                1000   \n",
              "4                    1200                1100                1069   \n",
              "5                   10000                9000                 689   \n",
              "...                   ...                 ...                 ...   \n",
              "29996                5003                3047                5000   \n",
              "29997                8998                 129                   0   \n",
              "29998               22000                4200                2000   \n",
              "29999                1178                1926               52964   \n",
              "30000                1430                1000                1000   \n",
              "\n",
              "       payment_amount_apr  IsDefault  \n",
              "ID                                    \n",
              "1                       0          1  \n",
              "2                    2000          1  \n",
              "3                    5000          0  \n",
              "4                    1000          0  \n",
              "5                     679          0  \n",
              "...                   ...        ...  \n",
              "29996                1000          0  \n",
              "29997                   0          0  \n",
              "29998                3100          1  \n",
              "29999                1804          1  \n",
              "30000                1000          1  \n",
              "\n",
              "[30000 rows x 24 columns]"
            ],
            "text/html": [
              "\n",
              "  <div id=\"df-ecaba61b-0381-4196-9215-9fea88c946f7\" class=\"colab-df-container\">\n",
              "    <div>\n",
              "<style scoped>\n",
              "    .dataframe tbody tr th:only-of-type {\n",
              "        vertical-align: middle;\n",
              "    }\n",
              "\n",
              "    .dataframe tbody tr th {\n",
              "        vertical-align: top;\n",
              "    }\n",
              "\n",
              "    .dataframe thead th {\n",
              "        text-align: right;\n",
              "    }\n",
              "</style>\n",
              "<table border=\"1\" class=\"dataframe\">\n",
              "  <thead>\n",
              "    <tr style=\"text-align: right;\">\n",
              "      <th></th>\n",
              "      <th>credit_limit</th>\n",
              "      <th>gender</th>\n",
              "      <th>education</th>\n",
              "      <th>marital_status</th>\n",
              "      <th>age</th>\n",
              "      <th>payment_status_sept</th>\n",
              "      <th>payment_status_aug</th>\n",
              "      <th>payment_status_jul</th>\n",
              "      <th>payment_status_jun</th>\n",
              "      <th>payment_status_may</th>\n",
              "      <th>payment_status_apr</th>\n",
              "      <th>bill_sept</th>\n",
              "      <th>bill_aug</th>\n",
              "      <th>bill_jul</th>\n",
              "      <th>bill_jun</th>\n",
              "      <th>bill_may</th>\n",
              "      <th>bill_apr</th>\n",
              "      <th>payment_amount_sept</th>\n",
              "      <th>payment_amount_aug</th>\n",
              "      <th>payment_amount_jul</th>\n",
              "      <th>payment_amount_jun</th>\n",
              "      <th>payment_amount_may</th>\n",
              "      <th>payment_amount_apr</th>\n",
              "      <th>IsDefault</th>\n",
              "    </tr>\n",
              "    <tr>\n",
              "      <th>ID</th>\n",
              "      <th></th>\n",
              "      <th></th>\n",
              "      <th></th>\n",
              "      <th></th>\n",
              "      <th></th>\n",
              "      <th></th>\n",
              "      <th></th>\n",
              "      <th></th>\n",
              "      <th></th>\n",
              "      <th></th>\n",
              "      <th></th>\n",
              "      <th></th>\n",
              "      <th></th>\n",
              "      <th></th>\n",
              "      <th></th>\n",
              "      <th></th>\n",
              "      <th></th>\n",
              "      <th></th>\n",
              "      <th></th>\n",
              "      <th></th>\n",
              "      <th></th>\n",
              "      <th></th>\n",
              "      <th></th>\n",
              "      <th></th>\n",
              "    </tr>\n",
              "  </thead>\n",
              "  <tbody>\n",
              "    <tr>\n",
              "      <th>1</th>\n",
              "      <td>20000</td>\n",
              "      <td>2</td>\n",
              "      <td>2</td>\n",
              "      <td>1</td>\n",
              "      <td>24</td>\n",
              "      <td>2</td>\n",
              "      <td>2</td>\n",
              "      <td>-1</td>\n",
              "      <td>-1</td>\n",
              "      <td>-2</td>\n",
              "      <td>-2</td>\n",
              "      <td>3913</td>\n",
              "      <td>3102</td>\n",
              "      <td>689</td>\n",
              "      <td>0</td>\n",
              "      <td>0</td>\n",
              "      <td>0</td>\n",
              "      <td>0</td>\n",
              "      <td>689</td>\n",
              "      <td>0</td>\n",
              "      <td>0</td>\n",
              "      <td>0</td>\n",
              "      <td>0</td>\n",
              "      <td>1</td>\n",
              "    </tr>\n",
              "    <tr>\n",
              "      <th>2</th>\n",
              "      <td>120000</td>\n",
              "      <td>2</td>\n",
              "      <td>2</td>\n",
              "      <td>2</td>\n",
              "      <td>26</td>\n",
              "      <td>-1</td>\n",
              "      <td>2</td>\n",
              "      <td>0</td>\n",
              "      <td>0</td>\n",
              "      <td>0</td>\n",
              "      <td>2</td>\n",
              "      <td>2682</td>\n",
              "      <td>1725</td>\n",
              "      <td>2682</td>\n",
              "      <td>3272</td>\n",
              "      <td>3455</td>\n",
              "      <td>3261</td>\n",
              "      <td>0</td>\n",
              "      <td>1000</td>\n",
              "      <td>1000</td>\n",
              "      <td>1000</td>\n",
              "      <td>0</td>\n",
              "      <td>2000</td>\n",
              "      <td>1</td>\n",
              "    </tr>\n",
              "    <tr>\n",
              "      <th>3</th>\n",
              "      <td>90000</td>\n",
              "      <td>2</td>\n",
              "      <td>2</td>\n",
              "      <td>2</td>\n",
              "      <td>34</td>\n",
              "      <td>0</td>\n",
              "      <td>0</td>\n",
              "      <td>0</td>\n",
              "      <td>0</td>\n",
              "      <td>0</td>\n",
              "      <td>0</td>\n",
              "      <td>29239</td>\n",
              "      <td>14027</td>\n",
              "      <td>13559</td>\n",
              "      <td>14331</td>\n",
              "      <td>14948</td>\n",
              "      <td>15549</td>\n",
              "      <td>1518</td>\n",
              "      <td>1500</td>\n",
              "      <td>1000</td>\n",
              "      <td>1000</td>\n",
              "      <td>1000</td>\n",
              "      <td>5000</td>\n",
              "      <td>0</td>\n",
              "    </tr>\n",
              "    <tr>\n",
              "      <th>4</th>\n",
              "      <td>50000</td>\n",
              "      <td>2</td>\n",
              "      <td>2</td>\n",
              "      <td>1</td>\n",
              "      <td>37</td>\n",
              "      <td>0</td>\n",
              "      <td>0</td>\n",
              "      <td>0</td>\n",
              "      <td>0</td>\n",
              "      <td>0</td>\n",
              "      <td>0</td>\n",
              "      <td>46990</td>\n",
              "      <td>48233</td>\n",
              "      <td>49291</td>\n",
              "      <td>28314</td>\n",
              "      <td>28959</td>\n",
              "      <td>29547</td>\n",
              "      <td>2000</td>\n",
              "      <td>2019</td>\n",
              "      <td>1200</td>\n",
              "      <td>1100</td>\n",
              "      <td>1069</td>\n",
              "      <td>1000</td>\n",
              "      <td>0</td>\n",
              "    </tr>\n",
              "    <tr>\n",
              "      <th>5</th>\n",
              "      <td>50000</td>\n",
              "      <td>1</td>\n",
              "      <td>2</td>\n",
              "      <td>1</td>\n",
              "      <td>57</td>\n",
              "      <td>-1</td>\n",
              "      <td>0</td>\n",
              "      <td>-1</td>\n",
              "      <td>0</td>\n",
              "      <td>0</td>\n",
              "      <td>0</td>\n",
              "      <td>8617</td>\n",
              "      <td>5670</td>\n",
              "      <td>35835</td>\n",
              "      <td>20940</td>\n",
              "      <td>19146</td>\n",
              "      <td>19131</td>\n",
              "      <td>2000</td>\n",
              "      <td>36681</td>\n",
              "      <td>10000</td>\n",
              "      <td>9000</td>\n",
              "      <td>689</td>\n",
              "      <td>679</td>\n",
              "      <td>0</td>\n",
              "    </tr>\n",
              "    <tr>\n",
              "      <th>...</th>\n",
              "      <td>...</td>\n",
              "      <td>...</td>\n",
              "      <td>...</td>\n",
              "      <td>...</td>\n",
              "      <td>...</td>\n",
              "      <td>...</td>\n",
              "      <td>...</td>\n",
              "      <td>...</td>\n",
              "      <td>...</td>\n",
              "      <td>...</td>\n",
              "      <td>...</td>\n",
              "      <td>...</td>\n",
              "      <td>...</td>\n",
              "      <td>...</td>\n",
              "      <td>...</td>\n",
              "      <td>...</td>\n",
              "      <td>...</td>\n",
              "      <td>...</td>\n",
              "      <td>...</td>\n",
              "      <td>...</td>\n",
              "      <td>...</td>\n",
              "      <td>...</td>\n",
              "      <td>...</td>\n",
              "      <td>...</td>\n",
              "    </tr>\n",
              "    <tr>\n",
              "      <th>29996</th>\n",
              "      <td>220000</td>\n",
              "      <td>1</td>\n",
              "      <td>3</td>\n",
              "      <td>1</td>\n",
              "      <td>39</td>\n",
              "      <td>0</td>\n",
              "      <td>0</td>\n",
              "      <td>0</td>\n",
              "      <td>0</td>\n",
              "      <td>0</td>\n",
              "      <td>0</td>\n",
              "      <td>188948</td>\n",
              "      <td>192815</td>\n",
              "      <td>208365</td>\n",
              "      <td>88004</td>\n",
              "      <td>31237</td>\n",
              "      <td>15980</td>\n",
              "      <td>8500</td>\n",
              "      <td>20000</td>\n",
              "      <td>5003</td>\n",
              "      <td>3047</td>\n",
              "      <td>5000</td>\n",
              "      <td>1000</td>\n",
              "      <td>0</td>\n",
              "    </tr>\n",
              "    <tr>\n",
              "      <th>29997</th>\n",
              "      <td>150000</td>\n",
              "      <td>1</td>\n",
              "      <td>3</td>\n",
              "      <td>2</td>\n",
              "      <td>43</td>\n",
              "      <td>-1</td>\n",
              "      <td>-1</td>\n",
              "      <td>-1</td>\n",
              "      <td>-1</td>\n",
              "      <td>0</td>\n",
              "      <td>0</td>\n",
              "      <td>1683</td>\n",
              "      <td>1828</td>\n",
              "      <td>3502</td>\n",
              "      <td>8979</td>\n",
              "      <td>5190</td>\n",
              "      <td>0</td>\n",
              "      <td>1837</td>\n",
              "      <td>3526</td>\n",
              "      <td>8998</td>\n",
              "      <td>129</td>\n",
              "      <td>0</td>\n",
              "      <td>0</td>\n",
              "      <td>0</td>\n",
              "    </tr>\n",
              "    <tr>\n",
              "      <th>29998</th>\n",
              "      <td>30000</td>\n",
              "      <td>1</td>\n",
              "      <td>2</td>\n",
              "      <td>2</td>\n",
              "      <td>37</td>\n",
              "      <td>4</td>\n",
              "      <td>3</td>\n",
              "      <td>2</td>\n",
              "      <td>-1</td>\n",
              "      <td>0</td>\n",
              "      <td>0</td>\n",
              "      <td>3565</td>\n",
              "      <td>3356</td>\n",
              "      <td>2758</td>\n",
              "      <td>20878</td>\n",
              "      <td>20582</td>\n",
              "      <td>19357</td>\n",
              "      <td>0</td>\n",
              "      <td>0</td>\n",
              "      <td>22000</td>\n",
              "      <td>4200</td>\n",
              "      <td>2000</td>\n",
              "      <td>3100</td>\n",
              "      <td>1</td>\n",
              "    </tr>\n",
              "    <tr>\n",
              "      <th>29999</th>\n",
              "      <td>80000</td>\n",
              "      <td>1</td>\n",
              "      <td>3</td>\n",
              "      <td>1</td>\n",
              "      <td>41</td>\n",
              "      <td>1</td>\n",
              "      <td>-1</td>\n",
              "      <td>0</td>\n",
              "      <td>0</td>\n",
              "      <td>0</td>\n",
              "      <td>-1</td>\n",
              "      <td>-1645</td>\n",
              "      <td>78379</td>\n",
              "      <td>76304</td>\n",
              "      <td>52774</td>\n",
              "      <td>11855</td>\n",
              "      <td>48944</td>\n",
              "      <td>85900</td>\n",
              "      <td>3409</td>\n",
              "      <td>1178</td>\n",
              "      <td>1926</td>\n",
              "      <td>52964</td>\n",
              "      <td>1804</td>\n",
              "      <td>1</td>\n",
              "    </tr>\n",
              "    <tr>\n",
              "      <th>30000</th>\n",
              "      <td>50000</td>\n",
              "      <td>1</td>\n",
              "      <td>2</td>\n",
              "      <td>1</td>\n",
              "      <td>46</td>\n",
              "      <td>0</td>\n",
              "      <td>0</td>\n",
              "      <td>0</td>\n",
              "      <td>0</td>\n",
              "      <td>0</td>\n",
              "      <td>0</td>\n",
              "      <td>47929</td>\n",
              "      <td>48905</td>\n",
              "      <td>49764</td>\n",
              "      <td>36535</td>\n",
              "      <td>32428</td>\n",
              "      <td>15313</td>\n",
              "      <td>2078</td>\n",
              "      <td>1800</td>\n",
              "      <td>1430</td>\n",
              "      <td>1000</td>\n",
              "      <td>1000</td>\n",
              "      <td>1000</td>\n",
              "      <td>1</td>\n",
              "    </tr>\n",
              "  </tbody>\n",
              "</table>\n",
              "<p>30000 rows × 24 columns</p>\n",
              "</div>\n",
              "    <div class=\"colab-df-buttons\">\n",
              "\n",
              "  <div class=\"colab-df-container\">\n",
              "    <button class=\"colab-df-convert\" onclick=\"convertToInteractive('df-ecaba61b-0381-4196-9215-9fea88c946f7')\"\n",
              "            title=\"Convert this dataframe to an interactive table.\"\n",
              "            style=\"display:none;\">\n",
              "\n",
              "  <svg xmlns=\"http://www.w3.org/2000/svg\" height=\"24px\" viewBox=\"0 -960 960 960\">\n",
              "    <path d=\"M120-120v-720h720v720H120Zm60-500h600v-160H180v160Zm220 220h160v-160H400v160Zm0 220h160v-160H400v160ZM180-400h160v-160H180v160Zm440 0h160v-160H620v160ZM180-180h160v-160H180v160Zm440 0h160v-160H620v160Z\"/>\n",
              "  </svg>\n",
              "    </button>\n",
              "\n",
              "  <style>\n",
              "    .colab-df-container {\n",
              "      display:flex;\n",
              "      gap: 12px;\n",
              "    }\n",
              "\n",
              "    .colab-df-convert {\n",
              "      background-color: #E8F0FE;\n",
              "      border: none;\n",
              "      border-radius: 50%;\n",
              "      cursor: pointer;\n",
              "      display: none;\n",
              "      fill: #1967D2;\n",
              "      height: 32px;\n",
              "      padding: 0 0 0 0;\n",
              "      width: 32px;\n",
              "    }\n",
              "\n",
              "    .colab-df-convert:hover {\n",
              "      background-color: #E2EBFA;\n",
              "      box-shadow: 0px 1px 2px rgba(60, 64, 67, 0.3), 0px 1px 3px 1px rgba(60, 64, 67, 0.15);\n",
              "      fill: #174EA6;\n",
              "    }\n",
              "\n",
              "    .colab-df-buttons div {\n",
              "      margin-bottom: 4px;\n",
              "    }\n",
              "\n",
              "    [theme=dark] .colab-df-convert {\n",
              "      background-color: #3B4455;\n",
              "      fill: #D2E3FC;\n",
              "    }\n",
              "\n",
              "    [theme=dark] .colab-df-convert:hover {\n",
              "      background-color: #434B5C;\n",
              "      box-shadow: 0px 1px 3px 1px rgba(0, 0, 0, 0.15);\n",
              "      filter: drop-shadow(0px 1px 2px rgba(0, 0, 0, 0.3));\n",
              "      fill: #FFFFFF;\n",
              "    }\n",
              "  </style>\n",
              "\n",
              "    <script>\n",
              "      const buttonEl =\n",
              "        document.querySelector('#df-ecaba61b-0381-4196-9215-9fea88c946f7 button.colab-df-convert');\n",
              "      buttonEl.style.display =\n",
              "        google.colab.kernel.accessAllowed ? 'block' : 'none';\n",
              "\n",
              "      async function convertToInteractive(key) {\n",
              "        const element = document.querySelector('#df-ecaba61b-0381-4196-9215-9fea88c946f7');\n",
              "        const dataTable =\n",
              "          await google.colab.kernel.invokeFunction('convertToInteractive',\n",
              "                                                    [key], {});\n",
              "        if (!dataTable) return;\n",
              "\n",
              "        const docLinkHtml = 'Like what you see? Visit the ' +\n",
              "          '<a target=\"_blank\" href=https://colab.research.google.com/notebooks/data_table.ipynb>data table notebook</a>'\n",
              "          + ' to learn more about interactive tables.';\n",
              "        element.innerHTML = '';\n",
              "        dataTable['output_type'] = 'display_data';\n",
              "        await google.colab.output.renderOutput(dataTable, element);\n",
              "        const docLink = document.createElement('div');\n",
              "        docLink.innerHTML = docLinkHtml;\n",
              "        element.appendChild(docLink);\n",
              "      }\n",
              "    </script>\n",
              "  </div>\n",
              "\n",
              "\n",
              "<div id=\"df-d76d926e-fce4-4131-b106-d0c054c8780f\">\n",
              "  <button class=\"colab-df-quickchart\" onclick=\"quickchart('df-d76d926e-fce4-4131-b106-d0c054c8780f')\"\n",
              "            title=\"Suggest charts\"\n",
              "            style=\"display:none;\">\n",
              "\n",
              "<svg xmlns=\"http://www.w3.org/2000/svg\" height=\"24px\"viewBox=\"0 0 24 24\"\n",
              "     width=\"24px\">\n",
              "    <g>\n",
              "        <path d=\"M19 3H5c-1.1 0-2 .9-2 2v14c0 1.1.9 2 2 2h14c1.1 0 2-.9 2-2V5c0-1.1-.9-2-2-2zM9 17H7v-7h2v7zm4 0h-2V7h2v10zm4 0h-2v-4h2v4z\"/>\n",
              "    </g>\n",
              "</svg>\n",
              "  </button>\n",
              "\n",
              "<style>\n",
              "  .colab-df-quickchart {\n",
              "      --bg-color: #E8F0FE;\n",
              "      --fill-color: #1967D2;\n",
              "      --hover-bg-color: #E2EBFA;\n",
              "      --hover-fill-color: #174EA6;\n",
              "      --disabled-fill-color: #AAA;\n",
              "      --disabled-bg-color: #DDD;\n",
              "  }\n",
              "\n",
              "  [theme=dark] .colab-df-quickchart {\n",
              "      --bg-color: #3B4455;\n",
              "      --fill-color: #D2E3FC;\n",
              "      --hover-bg-color: #434B5C;\n",
              "      --hover-fill-color: #FFFFFF;\n",
              "      --disabled-bg-color: #3B4455;\n",
              "      --disabled-fill-color: #666;\n",
              "  }\n",
              "\n",
              "  .colab-df-quickchart {\n",
              "    background-color: var(--bg-color);\n",
              "    border: none;\n",
              "    border-radius: 50%;\n",
              "    cursor: pointer;\n",
              "    display: none;\n",
              "    fill: var(--fill-color);\n",
              "    height: 32px;\n",
              "    padding: 0;\n",
              "    width: 32px;\n",
              "  }\n",
              "\n",
              "  .colab-df-quickchart:hover {\n",
              "    background-color: var(--hover-bg-color);\n",
              "    box-shadow: 0 1px 2px rgba(60, 64, 67, 0.3), 0 1px 3px 1px rgba(60, 64, 67, 0.15);\n",
              "    fill: var(--button-hover-fill-color);\n",
              "  }\n",
              "\n",
              "  .colab-df-quickchart-complete:disabled,\n",
              "  .colab-df-quickchart-complete:disabled:hover {\n",
              "    background-color: var(--disabled-bg-color);\n",
              "    fill: var(--disabled-fill-color);\n",
              "    box-shadow: none;\n",
              "  }\n",
              "\n",
              "  .colab-df-spinner {\n",
              "    border: 2px solid var(--fill-color);\n",
              "    border-color: transparent;\n",
              "    border-bottom-color: var(--fill-color);\n",
              "    animation:\n",
              "      spin 1s steps(1) infinite;\n",
              "  }\n",
              "\n",
              "  @keyframes spin {\n",
              "    0% {\n",
              "      border-color: transparent;\n",
              "      border-bottom-color: var(--fill-color);\n",
              "      border-left-color: var(--fill-color);\n",
              "    }\n",
              "    20% {\n",
              "      border-color: transparent;\n",
              "      border-left-color: var(--fill-color);\n",
              "      border-top-color: var(--fill-color);\n",
              "    }\n",
              "    30% {\n",
              "      border-color: transparent;\n",
              "      border-left-color: var(--fill-color);\n",
              "      border-top-color: var(--fill-color);\n",
              "      border-right-color: var(--fill-color);\n",
              "    }\n",
              "    40% {\n",
              "      border-color: transparent;\n",
              "      border-right-color: var(--fill-color);\n",
              "      border-top-color: var(--fill-color);\n",
              "    }\n",
              "    60% {\n",
              "      border-color: transparent;\n",
              "      border-right-color: var(--fill-color);\n",
              "    }\n",
              "    80% {\n",
              "      border-color: transparent;\n",
              "      border-right-color: var(--fill-color);\n",
              "      border-bottom-color: var(--fill-color);\n",
              "    }\n",
              "    90% {\n",
              "      border-color: transparent;\n",
              "      border-bottom-color: var(--fill-color);\n",
              "    }\n",
              "  }\n",
              "</style>\n",
              "\n",
              "  <script>\n",
              "    async function quickchart(key) {\n",
              "      const quickchartButtonEl =\n",
              "        document.querySelector('#' + key + ' button');\n",
              "      quickchartButtonEl.disabled = true;  // To prevent multiple clicks.\n",
              "      quickchartButtonEl.classList.add('colab-df-spinner');\n",
              "      try {\n",
              "        const charts = await google.colab.kernel.invokeFunction(\n",
              "            'suggestCharts', [key], {});\n",
              "      } catch (error) {\n",
              "        console.error('Error during call to suggestCharts:', error);\n",
              "      }\n",
              "      quickchartButtonEl.classList.remove('colab-df-spinner');\n",
              "      quickchartButtonEl.classList.add('colab-df-quickchart-complete');\n",
              "    }\n",
              "    (() => {\n",
              "      let quickchartButtonEl =\n",
              "        document.querySelector('#df-d76d926e-fce4-4131-b106-d0c054c8780f button');\n",
              "      quickchartButtonEl.style.display =\n",
              "        google.colab.kernel.accessAllowed ? 'block' : 'none';\n",
              "    })();\n",
              "  </script>\n",
              "</div>\n",
              "\n",
              "  <div id=\"id_169a3a0f-2a4f-4e2f-98f7-188d7a76fc9a\">\n",
              "    <style>\n",
              "      .colab-df-generate {\n",
              "        background-color: #E8F0FE;\n",
              "        border: none;\n",
              "        border-radius: 50%;\n",
              "        cursor: pointer;\n",
              "        display: none;\n",
              "        fill: #1967D2;\n",
              "        height: 32px;\n",
              "        padding: 0 0 0 0;\n",
              "        width: 32px;\n",
              "      }\n",
              "\n",
              "      .colab-df-generate:hover {\n",
              "        background-color: #E2EBFA;\n",
              "        box-shadow: 0px 1px 2px rgba(60, 64, 67, 0.3), 0px 1px 3px 1px rgba(60, 64, 67, 0.15);\n",
              "        fill: #174EA6;\n",
              "      }\n",
              "\n",
              "      [theme=dark] .colab-df-generate {\n",
              "        background-color: #3B4455;\n",
              "        fill: #D2E3FC;\n",
              "      }\n",
              "\n",
              "      [theme=dark] .colab-df-generate:hover {\n",
              "        background-color: #434B5C;\n",
              "        box-shadow: 0px 1px 3px 1px rgba(0, 0, 0, 0.15);\n",
              "        filter: drop-shadow(0px 1px 2px rgba(0, 0, 0, 0.3));\n",
              "        fill: #FFFFFF;\n",
              "      }\n",
              "    </style>\n",
              "    <button class=\"colab-df-generate\" onclick=\"generateWithVariable('cred_df')\"\n",
              "            title=\"Generate code using this dataframe.\"\n",
              "            style=\"display:none;\">\n",
              "\n",
              "  <svg xmlns=\"http://www.w3.org/2000/svg\" height=\"24px\"viewBox=\"0 0 24 24\"\n",
              "       width=\"24px\">\n",
              "    <path d=\"M7,19H8.4L18.45,9,17,7.55,7,17.6ZM5,21V16.75L18.45,3.32a2,2,0,0,1,2.83,0l1.4,1.43a1.91,1.91,0,0,1,.58,1.4,1.91,1.91,0,0,1-.58,1.4L9.25,21ZM18.45,9,17,7.55Zm-12,3A5.31,5.31,0,0,0,4.9,8.1,5.31,5.31,0,0,0,1,6.5,5.31,5.31,0,0,0,4.9,4.9,5.31,5.31,0,0,0,6.5,1,5.31,5.31,0,0,0,8.1,4.9,5.31,5.31,0,0,0,12,6.5,5.46,5.46,0,0,0,6.5,12Z\"/>\n",
              "  </svg>\n",
              "    </button>\n",
              "    <script>\n",
              "      (() => {\n",
              "      const buttonEl =\n",
              "        document.querySelector('#id_169a3a0f-2a4f-4e2f-98f7-188d7a76fc9a button.colab-df-generate');\n",
              "      buttonEl.style.display =\n",
              "        google.colab.kernel.accessAllowed ? 'block' : 'none';\n",
              "\n",
              "      buttonEl.onclick = () => {\n",
              "        google.colab.notebook.generateWithVariable('cred_df');\n",
              "      }\n",
              "      })();\n",
              "    </script>\n",
              "  </div>\n",
              "\n",
              "    </div>\n",
              "  </div>\n"
            ],
            "application/vnd.google.colaboratory.intrinsic+json": {
              "type": "dataframe",
              "variable_name": "cred_df"
            }
          },
          "metadata": {},
          "execution_count": 127
        }
      ],
      "source": [
        "# we can either drop the id column,or we can set id column as the index\n",
        "cred_df.set_index('ID',inplace=True)\n",
        "cred_df"
      ]
    },
    {
      "cell_type": "markdown",
      "metadata": {
        "id": "QVk579k4A1Ja"
      },
      "source": [
        "# **Handling outlier**"
      ]
    },
    {
      "cell_type": "markdown",
      "metadata": {
        "id": "yVwyJ4bAA8Dp"
      },
      "source": [
        "In simple terms,an outliers is an extremely high or extremely low data point relative to the nearest data point and rest of the neighboring co-existing values in a data graph or dataset you are working with."
      ]
    },
    {
      "cell_type": "code",
      "execution_count": null,
      "metadata": {
        "id": "7LHSMZGWAvaX"
      },
      "outputs": [],
      "source": [
        "#lets check the distribution of dataset and the if any outliers are present.\n",
        "\n",
        "#plotting a violin plot for all numerical features\n",
        "feat_num = cred_df.select_dtypes(include =['int64', 'float64'])\n",
        "\n",
        "plt.figure(figsize=(25,25))\n",
        "n=1\n",
        "\n",
        "for column in feat_num:\n",
        "  plt.subplot(6,4,n)\n",
        "  n = n+1\n",
        "  sns.boxplot(x=column, data=cred_df, color='skyblue')\n",
        "  sns.violinplot(x=column, data=cred_df)\n",
        "\n",
        "plt.tight_layout()\n",
        "plt.show()\n",
        "\n"
      ]
    },
    {
      "cell_type": "markdown",
      "metadata": {
        "id": "wEhOjpkZG0GS"
      },
      "source": [
        "As we can see,the distribution is close to normal distribution,but we do have many outliers present,which needs to get needed to get treated."
      ]
    },
    {
      "cell_type": "markdown",
      "metadata": {
        "id": "lxoUvHSyHx4M"
      },
      "source": [
        "# **Treating Outlier**"
      ]
    },
    {
      "cell_type": "markdown",
      "metadata": {
        "id": "IFpTw_27MD-J"
      },
      "source": [
        "Here,as the dataset does not follow exact normalisation.Hence we will use IQR method to detect the outlier and remove them."
      ]
    },
    {
      "cell_type": "code",
      "execution_count": null,
      "metadata": {
        "id": "R098_p_JGjKN"
      },
      "outputs": [],
      "source": [
        "#creating a for loop to iterate over  and capp all the outliers on entire numerical features\n",
        "for i in feat_num:\n",
        "  p25 = feat_num[i].quantile(0.25) #creating a variabel for 25th percentile\n",
        "  p75 = feat_num[i].quantile(0.75) #creating a variabel for 75th percentile\n",
        "  iqr = p75-p25 #calculating the  interquartile range\n",
        "  upper_limit = p75 + 1.5 * iqr # caculating the upper bound limit, above which the data will be considered outlier\n",
        "  lower_limit = p75 - 1.5 * iqr # # caculating the lower bound limit, below  which the data will be considered outlier\n",
        "\n",
        "  print(f'For {i} Upper limit is {upper_limit}, and lower limit is {lower_limit}') # printing the upper and lower limit of each feature\n",
        "\n",
        "  feat_num[cred_df[i] > upper_limit] #to check the outlier record\n",
        "  feat_num[cred_df[i] < lower_limit] #to check the outlier record\n",
        "  new_df_cap = feat_num.copy() #definig new dataframe to store the oulier capped dataset\n",
        "  new_df_cap[i] = np.where(new_df_cap[i] > upper_limit, upper_limit,\n",
        "    np.where(new_df_cap[i] < lower_limit, lower_limit,new_df_cap[i])) # replacing the outliers with the  specifed limits\n",
        "\n",
        "#ploting a figure to compare the difference in distribution of data\n",
        "  plt.figure(figsize = (16,15))\n",
        "  plt.subplot(2,2,1)\n",
        "  sns.distplot(cred_df[i])\n",
        "  plt.title(f'Distplot of {i}')\n",
        "  plt.subplot(2,2,2)\n",
        "  sns.boxplot(data=new_df_cap,x=i)\n",
        "  plt.title(f'Boxplot  of {i}')\n",
        "  plt.subplot(2,2,3)\n",
        "  sns.distplot(new_df_cap[i])\n",
        "  plt.title(f'Distplot of outlier capping on {i}')\n",
        "  plt.subplot(2,2,4)\n",
        "  sns.boxplot(data=new_df_cap,x=i)\n",
        "  plt.title(f'Boxplot of outlier capping on  {i}')\n",
        "\n"
      ]
    },
    {
      "cell_type": "markdown",
      "metadata": {
        "id": "-Z-eY2wfSzwl"
      },
      "source": [
        "# **Exploratory Data Analysis:**"
      ]
    },
    {
      "cell_type": "markdown",
      "metadata": {
        "id": "0gHqb82DTCsh"
      },
      "source": [
        "Why do we perform EDA?\n",
        "\n",
        "An EDA  is a through examination meant to uncover the underlying struture of a dataset and is important for a company because it exposes trends,patterns,and relationships that are not readily apparent."
      ]
    },
    {
      "cell_type": "markdown",
      "metadata": {
        "id": "iFHK0ylNT3mm"
      },
      "source": [
        "# **Univariable analysis**"
      ]
    },
    {
      "cell_type": "markdown",
      "metadata": {
        "id": "B0HdGBLeWUxl"
      },
      "source": [
        "Why do you do univariate analysis?\n",
        "\n",
        "The key objective of univariate analysis is to simply describe the data and visulise various features to find patterns within the data."
      ]
    },
    {
      "cell_type": "markdown",
      "metadata": {
        "id": "jMlbZAeHUBZZ"
      },
      "source": [
        "# **Analysis of Dependent Variable:**"
      ]
    },
    {
      "cell_type": "code",
      "execution_count": null,
      "metadata": {
        "id": "u5dsVD1GQNTq"
      },
      "outputs": [],
      "source": [
        "#plotting the count plot to visualise the data distributions\n",
        "def_cnt=(cred_df.IsDefault.value_counts(normalize=True)*100) # calculate percentage of a datapoints.Normalise is used to divide the total into each of the category present in the dataset\n",
        "def_cnt.plot.bar(figsize=(10,6),color=['brown','mediumaquamarine'])#ploting a bar\n",
        "plt.xticks(fontsize=12,rotation=0)#adjusting size and adding x ticks ,rotations = 0 means the x labels will be same.\n",
        "plt.yticks(fontsize=12)\n",
        "plt.title(\"Probability of Default payment Next Month\",fontsize=15) #title of plot\n",
        "for x,y in zip([0,1],def_cnt):\n",
        "  plt.text(x,y,y,fontsize=12)\n",
        "plt.show()"
      ]
    },
    {
      "cell_type": "code",
      "execution_count": null,
      "metadata": {
        "id": "oJWIGWtvclfI"
      },
      "outputs": [],
      "source": [
        "#checking the balance of the dependent variable by counting the variable of each unique set.\n",
        "cred_df['IsDefault'].value_counts()"
      ]
    },
    {
      "cell_type": "markdown",
      "metadata": {
        "id": "-7lQO3Xeefz0"
      },
      "source": [
        "# **Observations:**"
      ]
    },
    {
      "cell_type": "markdown",
      "metadata": {
        "id": "OgU8Lrqdfk9j"
      },
      "source": [
        "0 - Not Default\n",
        "\n",
        "1 - Default\n",
        "\n",
        "1. There is a huge difference between both classes so we have to work on this class imbalance.\n",
        "\n",
        "2. About 22% people are expected to default next month and 77.8% are not expected to default."
      ]
    },
    {
      "cell_type": "markdown",
      "metadata": {
        "id": "rVkxfQB4gJto"
      },
      "source": [
        "# **Independent Variables:**"
      ]
    },
    {
      "cell_type": "markdown",
      "metadata": {
        "id": "n7QveHaWgUNx"
      },
      "source": [
        "Categorical Features:\n",
        "\n",
        "Categorical variables are qualitative data in which the values are assigned to a set of distinct groups or categories.These groups may consist of alphabetic\n",
        "(e.g,male ,  female) or numeric labels  (eg,male=0,female=1) that do not contain mathematical information beyond the frequency counts related to group membership.\n",
        "\n",
        "lets check how they are related with our target .We have few categorical features in our dataset.\n",
        "lets check how they are related  with out target class.\n",
        "\n",
        "gender:1-Male,2-Female"
      ]
    },
    {
      "cell_type": "code",
      "execution_count": null,
      "metadata": {
        "id": "7xJ1ugKAgDA4"
      },
      "outputs": [],
      "source": [
        "#change gender code to \"F\" and \"M\" and use category as datatype to get better readability\n",
        "cred_df['gender']=cred_df['gender'].map({1:'M',2:'F'}).astype('category')\n",
        "cred_df['gender'].dtypes\n"
      ]
    },
    {
      "cell_type": "code",
      "execution_count": null,
      "metadata": {
        "id": "O-P87T5E0iWH"
      },
      "outputs": [],
      "source": [
        "#understanding the distribution of male and female in the dataset\n",
        "cred_df['gender'].value_counts(normalize=True)"
      ]
    },
    {
      "cell_type": "markdown",
      "metadata": {
        "id": "6yK4v-X0068b"
      },
      "source": [
        "# **Observation:**"
      ]
    },
    {
      "cell_type": "markdown",
      "metadata": {
        "id": "cTHXcCyL1CNq"
      },
      "source": [
        "Most of the credit card users are female which counts to 60% of total data.\n",
        "\n",
        "Education\n",
        "\n",
        "1=gradute school;2=university;3=high school;4= others"
      ]
    },
    {
      "cell_type": "code",
      "execution_count": null,
      "metadata": {
        "id": "uupTEXUN034f"
      },
      "outputs": [],
      "source": [
        "#counting the fraction of educational diversity\n",
        "cred_df['education'].value_counts()"
      ]
    },
    {
      "cell_type": "markdown",
      "metadata": {
        "id": "VcNbTmZV5C_Y"
      },
      "source": [
        "As we can see in dataset we have values like 5,6,0 as well for which we are not having description so we can add up them in 4,which is others."
      ]
    },
    {
      "cell_type": "code",
      "execution_count": null,
      "metadata": {
        "id": "Qswc209j49nm"
      },
      "outputs": [],
      "source": [
        "combine_df=(cred_df['education']==5) |(cred_df['education']==6)|(cred_df['education']==0)\n",
        "cred_df.loc[combine_df,'education']=4\n",
        "cred_df['education'].value_counts(normalize=True)"
      ]
    },
    {
      "cell_type": "markdown",
      "metadata": {
        "id": "Yau9bYII9F3m"
      },
      "source": [
        "# **Observation:**"
      ]
    },
    {
      "cell_type": "markdown",
      "metadata": {
        "id": "IckbePeD9TNC"
      },
      "source": [
        "Majority of the users are university students counting to around 47% of total counts.\n",
        "\n",
        "\n",
        "Marriage\n",
        "\n",
        "1=married,2=single,3=others"
      ]
    },
    {
      "cell_type": "code",
      "execution_count": null,
      "metadata": {
        "id": "zt0an-d56lGR"
      },
      "outputs": [],
      "source": [
        "#checking marital status\n",
        "cred_df['marital_status'].value_counts()"
      ]
    },
    {
      "cell_type": "markdown",
      "metadata": {
        "id": "oKqBqpQk-FhD"
      },
      "source": [
        "Only few values are there for class 0,which is not determined also.so i am adding them in others category."
      ]
    },
    {
      "cell_type": "code",
      "execution_count": null,
      "metadata": {
        "id": "HzWcYSLn9_-p"
      },
      "outputs": [],
      "source": [
        "m_comb = cred_df['marital_status']==0\n",
        "cred_df.loc[m_comb,'marital_status']=3\n",
        "cred_df['marital_status'].value_counts(normalize=True)"
      ]
    },
    {
      "cell_type": "markdown",
      "metadata": {
        "id": "ChrT7BYKEbZz"
      },
      "source": [
        "# **Observation:**"
      ]
    },
    {
      "cell_type": "markdown",
      "metadata": {
        "id": "iVP0soYOEhob"
      },
      "source": [
        "Majority,around 53% of credit card were owned by married customer.\n",
        "\n",
        "**payment_status_sept**"
      ]
    },
    {
      "cell_type": "markdown",
      "metadata": {
        "id": "Zm3pvJ9QE7QK"
      },
      "source": [
        "-1=pay duly;1 = payment delay for one month;2 = payment delay for two months;.....;8 = payment delay for 8 months;9=payment delay for nine months and above."
      ]
    },
    {
      "cell_type": "code",
      "execution_count": null,
      "metadata": {
        "id": "_mbnnj6mEZCr"
      },
      "outputs": [],
      "source": [
        "# checking previous month payment status\n",
        "cred_df['payment_status_sept'].value_counts()"
      ]
    },
    {
      "cell_type": "markdown",
      "metadata": {
        "id": "yPOadAUzGp3c"
      },
      "source": [
        "since,there are 0,-2,02 are also present,but as per our stated description,we know that -1 is paid on time.So we will merge all these columns to -1."
      ]
    },
    {
      "cell_type": "code",
      "execution_count": null,
      "metadata": {
        "id": "tV6VThUOGmYW"
      },
      "outputs": [],
      "source": [
        "pay_comb=(cred_df['payment_status_sept']==0)|(cred_df['payment_status_sept']==-2)#getting the set of values containing -2,0 by creating condition\n",
        "cred_df.loc[pay_comb,'payment_status_sept'] = -1 # mapping the condition to replace -1\n",
        "cred_df['payment_status_sept'].value_counts(normalize=True)*100 #checking the percentage of data\n"
      ]
    },
    {
      "cell_type": "markdown",
      "metadata": {
        "id": "TLHwin2MI8Ug"
      },
      "source": [
        "# **Observation:**"
      ]
    },
    {
      "cell_type": "markdown",
      "metadata": {
        "id": "DmVIYFR6JED9"
      },
      "source": [
        "around 77% customers paid the september bill on time"
      ]
    },
    {
      "cell_type": "markdown",
      "metadata": {
        "id": "6i7rfm2CJP4U"
      },
      "source": [
        "# **payment_status_aug**"
      ]
    },
    {
      "cell_type": "code",
      "execution_count": null,
      "metadata": {
        "id": "4hHpTWZnIpXY"
      },
      "outputs": [],
      "source": [
        "#checking previous month payment status\n",
        "cred_df['payment_status_aug'].value_counts()\n",
        "#Since ,there are 0.-2,02 are also present,but as per our stated description,\n",
        "#we know that -1 is paid on time,so we will merge all these columns to -1.\n",
        "pay_comb_aug=(cred_df['payment_status_aug']==0)|(cred_df['payment_status_aug']== -2)#getting the set containing -2,0 by creating condition\n",
        "cred_df.loc[pay_comb_aug,'payment_status_aug']= -1 #mapping the condition  to replace those with -1\n",
        "cred_df['payment_status_aug'].value_counts(normalize=True) #checking the count of data"
      ]
    },
    {
      "cell_type": "markdown",
      "metadata": {
        "id": "pSncARpbOYkm"
      },
      "source": [
        "# **Observation:**"
      ]
    },
    {
      "cell_type": "markdown",
      "metadata": {
        "id": "FAptnEtBOegc"
      },
      "source": [
        "Around 85% customers has paid the bill of august on time"
      ]
    },
    {
      "cell_type": "markdown",
      "metadata": {
        "id": "hI__XM5FOuT2"
      },
      "source": [
        "# **Payment_status_jul:**"
      ]
    },
    {
      "cell_type": "code",
      "execution_count": null,
      "metadata": {
        "id": "8k_drMSZJsn7"
      },
      "outputs": [],
      "source": [
        "#checking previous month payment status\n",
        "cred_df['payment_status_jul'].value_counts()\n",
        "#Since ,there are 0.-2,02 are also present,but as per our stated description,\n",
        "#we know that -1 is paid on time,so we will merge all these columns to -1.\n",
        "pay_comb_aug=(cred_df['payment_status_jul']==0)|(cred_df['payment_status_jul']== -2)#getting the set containing -2,0 by creating condition\n",
        "cred_df.loc[pay_comb_aug,'payment_status_jul']= -1 #mapping the condition  to replace those with -1\n",
        "cred_df['payment_status_jul'].value_counts(normalize=True) #checking the count of data"
      ]
    },
    {
      "cell_type": "markdown",
      "metadata": {
        "id": "7un6w10rMU6Q"
      },
      "source": [
        "# **Observation:**"
      ]
    },
    {
      "cell_type": "markdown",
      "metadata": {
        "id": "YK0CPuBcMZef"
      },
      "source": [
        "Around 86% customers had paid july bill on time"
      ]
    },
    {
      "cell_type": "markdown",
      "metadata": {
        "id": "BGBQJcBtMlX1"
      },
      "source": [
        "# **payment_status_jun:**"
      ]
    },
    {
      "cell_type": "code",
      "execution_count": null,
      "metadata": {
        "id": "jeiy8nbqMDRM"
      },
      "outputs": [],
      "source": [
        "#checking previous month payment status\n",
        "cred_df['payment_status_jun'].value_counts()\n",
        "#Since ,there are 0.-2,02 are also present,but as per our stated description,\n",
        "#we know that -1 is paid on time,so we will merge all these columns to -1.\n",
        "pay_comb_aug=(cred_df['payment_status_jun']==0)|(cred_df['payment_status_jun']== -2)#getting the set containing -2,0 by creating condition\n",
        "cred_df.loc[pay_comb_aug,'payment_status_jun']= -1 #mapping the condition  to replace those with -1\n",
        "cred_df['payment_status_jun'].value_counts(normalize=True) #checking the count of data"
      ]
    },
    {
      "cell_type": "markdown",
      "metadata": {
        "id": "XkWDFwAeOP_R"
      },
      "source": [
        "# **Observation:**"
      ]
    },
    {
      "cell_type": "markdown",
      "metadata": {
        "id": "2JDz-SL8OXqp"
      },
      "source": [
        "Around 88% of customers had paid the june bill on time"
      ]
    },
    {
      "cell_type": "markdown",
      "metadata": {
        "id": "pTENpQ8nOnhD"
      },
      "source": [
        "# **payment_status_may**\n"
      ]
    },
    {
      "cell_type": "code",
      "execution_count": null,
      "metadata": {
        "id": "5Hvc64G7OLIj"
      },
      "outputs": [],
      "source": [
        "#checking previous month payment status\n",
        "cred_df['payment_status_may'].value_counts()\n",
        "#Since ,there are 0.-2,02 are also present,but as per our stated description,\n",
        "#we know that -1 is paid on time,so we will merge all these columns to -1.\n",
        "pay_comb_aug=(cred_df['payment_status_may']==0)|(cred_df['payment_status_may']== -2)#getting the set containing -2,0 by creating condition\n",
        "cred_df.loc[pay_comb_aug,'payment_status_may']= -1 #mapping the condition  to replace those with -1\n",
        "cred_df['payment_status_may'].value_counts(normalize=True) #checking the count of data"
      ]
    },
    {
      "cell_type": "markdown",
      "metadata": {
        "id": "fqknnYsEPByB"
      },
      "source": [
        "# **Observation**"
      ]
    },
    {
      "cell_type": "markdown",
      "metadata": {
        "id": "fUola8nTPG9C"
      },
      "source": [
        "Around 90% of the customer has the paid the may bill on time."
      ]
    },
    {
      "cell_type": "markdown",
      "metadata": {
        "id": "Sf95z5COP3ll"
      },
      "source": [
        "# **Payment_status_Apr**"
      ]
    },
    {
      "cell_type": "code",
      "execution_count": null,
      "metadata": {
        "id": "SZA6Qr5EO-ai"
      },
      "outputs": [],
      "source": [
        "#checking previous month payment status\n",
        "cred_df['payment_status_apr'].value_counts()\n",
        "#Since ,there are 0.-2,02 are also present,but as per our stated description,\n",
        "#we know that -1 is paid on time,so we will merge all these columns to -1.\n",
        "pay_comb_aug=(cred_df['payment_status_apr']==0)|(cred_df['payment_status_apr']== -2)#getting the set containing -2,0 by creating condition\n",
        "cred_df.loc[pay_comb_aug,'payment_status_apr']= -1 #mapping the condition  to replace those with -1\n",
        "cred_df['payment_status_apr'].value_counts(normalize=True) #checking the count of data"
      ]
    },
    {
      "cell_type": "markdown",
      "metadata": {
        "id": "WmkvJjqhQkai"
      },
      "source": [
        "# **Observation:**"
      ]
    },
    {
      "cell_type": "markdown",
      "metadata": {
        "id": "R2dk8mHpQt2u"
      },
      "source": [
        "Around 89% of the customer paid duly the April bill"
      ]
    },
    {
      "cell_type": "markdown",
      "metadata": {
        "id": "OO4f6dkhQ8O8"
      },
      "source": [
        "Overall,around 80% of the customers had paid the previous month bill on time,The defaulter rate was very less."
      ]
    },
    {
      "cell_type": "markdown",
      "metadata": {
        "id": "RAaArRLaRuxk"
      },
      "source": [
        "# **Plotting the categorical features:**"
      ]
    },
    {
      "cell_type": "code",
      "execution_count": null,
      "metadata": {
        "id": "JJuYEjimQN-p"
      },
      "outputs": [],
      "source": [
        "#creating a datafreme to store the categorical features\n",
        "categorical_features = ['gender','education','marital_status','payment_status_sept','payment_status_aug','payment_status_jul','payment_status_jun',\n",
        "                        'payment_status_may','payment_status_apr','age']"
      ]
    },
    {
      "cell_type": "code",
      "execution_count": null,
      "metadata": {
        "id": "O96DBhn_THAo"
      },
      "outputs": [],
      "source": [
        "# saving requried feature in a new dataframe to ease the analysis\n",
        "cat_df = cred_df[categorical_features]\n",
        "cat_df['Defaulter'] = cred_df['IsDefault']"
      ]
    },
    {
      "cell_type": "code",
      "execution_count": null,
      "metadata": {
        "id": "Y4obw-eoW2M7"
      },
      "outputs": [],
      "source": [
        "#Since the values were label encoded.We are decoding the labels for  clearer visualization\n",
        "cat_df.replace({'gender':{1:'MALE',2 :'FEMALE'},\n",
        "                'education':{1 :'graduate school',2 :'university',3 :'high school',4:'others'},\n",
        "                'marital_status':{1:'Married',2 :'Single',3 :'Others'}},inplace=True)"
      ]
    },
    {
      "cell_type": "code",
      "execution_count": null,
      "metadata": {
        "id": "5ifVIUnKYtGA"
      },
      "outputs": [],
      "source": [
        "for col in categorical_features:\n",
        "  plt.figure(figsize=(10,5))\n",
        "  fig,axes = plt.subplots(ncols=2,figsize=(13,8))\n",
        "  cred_df[col].value_counts().plot(kind='pie',ax=axes[0],subplots=True)\n",
        "  sns.countplot(x = col, hue= 'Defaulter',data=cat_df)"
      ]
    },
    {
      "cell_type": "markdown",
      "metadata": {
        "id": "UFZUnY_haRf_"
      },
      "source": [
        "# **Observaion:**"
      ]
    },
    {
      "cell_type": "markdown",
      "metadata": {
        "id": "sytHcsB-qlIV"
      },
      "source": [
        "1.Since there are more female credit card holder the no of defaulter have high proportion of females.\n",
        "\n",
        "2.No of defaulters have a higher proportion of educated people(graduate school and university)\n",
        "\n",
        "3.In case of 'Marital_status' both singles and married people are having high proportion in No of defaulters,but proportion of singles are higher by a small amount.\n",
        "\n",
        "--> Since there are more female than male in the dataset,we canot say females tends to have more delayed payments.So we will use percentage within each sex group and plot the results."
      ]
    },
    {
      "cell_type": "code",
      "execution_count": null,
      "metadata": {
        "id": "B2huqBedUMQf"
      },
      "outputs": [],
      "source": [
        "\n",
        "# Create a new column \"has_def\" to indicate customers who have at least 1 deafult payment from April to September\n",
        "# 0 : no default ; 1: has default\n",
        "\n",
        "def_condition = (cred_df.payment_status_sept >1) | (cred_df.payment_status_aug >1) | (cred_df.payment_status_jul >1) | (cred_df.payment_status_jun >1) | (cred_df.payment_status_may >1) | (cred_df.payment_status_apr >1)\n",
        "cred_df.loc[def_condition, \"has_def\"] = 1\n",
        "cred_df.loc[cred_df.has_def.isna(), \"has_def\"] = 0"
      ]
    },
    {
      "cell_type": "code",
      "execution_count": null,
      "metadata": {
        "id": "A4OKbF9CWRh8"
      },
      "outputs": [],
      "source": [
        "# Define a function to plot stacked bar chart since there will be multiple stacked bars charts to plot\n",
        "\n",
        "def create_stacked_bar(column_name):\n",
        "\n",
        "    # Get the percentage of default by each group\n",
        "    default_by_group = pd.crosstab(index=cred_df['has_def'],columns = cat_df[column_name], normalize = 'columns')\n",
        "\n",
        "    # Round up to 2 decimal\n",
        "    default_by_group = default_by_group.apply(lambda x: round(x,2))\n",
        "\n",
        "    labels = default_by_group.columns #creating label for the plot\n",
        "    list1 = default_by_group.iloc[0].to_list()\n",
        "    list2 = default_by_group.iloc[1].to_list()\n",
        "\n",
        "    list1_name = \"No default\"\n",
        "    list2_name = \"Has default\"\n",
        "    title = f\"Default by {column_name}\"\n",
        "    xlabel = column_name\n",
        "    ylabel = \"Default percentage\"\n",
        "\n",
        "    fig, ax = plt.subplots(figsize=(10, 5))\n",
        "    bar_width = 0.5\n",
        "\n",
        "    #plotting the bar chart\n",
        "    ax1 = ax.bar(labels,list1, bar_width, label = list1_name, color = 'mediumaquamarine')\n",
        "    ax2 = ax.bar(labels,list2, bar_width, bottom = list1, label = list2_name, color = 'brown')\n",
        "\n",
        "#formatting the plot\n",
        "    ax.set_title(title, fontweight = \"bold\")\n",
        "    ax.set_xlabel(xlabel, fontweight = \"bold\")\n",
        "    ax.set_ylabel(ylabel, fontweight = \"bold\")\n",
        "    ax.legend(loc=\"best\")\n",
        "\n",
        " #adding x and y ticks\n",
        "    plt.xticks(list(range(len(labels))), labels,rotation=90)\n",
        "    plt.yticks(fontsize=9)\n",
        "\n",
        "#to annotate the plot\n",
        "    for r1, r2 in zip(ax1, ax2):\n",
        "        h1 = r1.get_height()\n",
        "        h2 = r2.get_height()\n",
        "        plt.text(r1.get_x() + r1.get_width() / 2., h1 / 2., f\"{h1:.0%}\", ha=\"center\", va=\"center\", color=\"black\", fontsize=11)\n",
        "        plt.text(r2.get_x() + r2.get_width() / 2., h1 + h2 / 2., f\"{h2:.0%}\", ha=\"center\", va=\"center\", color=\"k\", fontsize=11)\n",
        "\n",
        "    plt.show()"
      ]
    },
    {
      "cell_type": "code",
      "execution_count": null,
      "metadata": {
        "id": "sMVR79aOWZda"
      },
      "outputs": [],
      "source": [
        "# Plot a stacked bar chart to visualize default percentage by female and male\n",
        "\n",
        "create_stacked_bar('gender')"
      ]
    },
    {
      "cell_type": "markdown",
      "metadata": {
        "id": "04UQ8MtL1RJa"
      },
      "source": [
        "# **Observation:**"
      ]
    },
    {
      "cell_type": "markdown",
      "metadata": {
        "id": "EZuEVfcD1Wni"
      },
      "source": [
        "Since we aware not able to comment on female defaulter being at majority by the previous data.Now,it is clear through were female defaulter but the rate of being defaulter is comparatively higher in males with 30% of total defaulers compared to 26% of females defaulter respectively."
      ]
    },
    {
      "cell_type": "code",
      "execution_count": null,
      "metadata": {
        "id": "JglFkpvBWkr0"
      },
      "outputs": [],
      "source": [
        "#Plot a stacked bar chart to show defaulter as per marital status\n",
        "create_stacked_bar('marital_status')"
      ]
    },
    {
      "cell_type": "markdown",
      "metadata": {
        "id": "CvnIkVOM21ck"
      },
      "source": [
        "# **Observation:**"
      ]
    },
    {
      "cell_type": "markdown",
      "metadata": {
        "id": "aupH9lfC27jL"
      },
      "source": [
        "As we can see in chart ,we can infer that there is quite similar distribution of defaulter in each category indicating marital status does not influence the defaulter customers.However dominant category for defaulter is others.\n",
        "\n",
        "-->since there are more educated people than people with basic high_school qualification,we can't say educated people tended to have more delayed payment.so we will use percentage within each education group and plot the results."
      ]
    },
    {
      "cell_type": "code",
      "execution_count": null,
      "metadata": {
        "id": "rs6PaP1_2qFH"
      },
      "outputs": [],
      "source": [
        "#plot a stacked bar chart to show default by education level\n",
        "create_stacked_bar('education')"
      ]
    },
    {
      "cell_type": "markdown",
      "metadata": {
        "id": "cDvYdz4-9wL-"
      },
      "source": [
        "# **Observation:**"
      ]
    },
    {
      "cell_type": "markdown",
      "metadata": {
        "id": "mpejuPBu91o6"
      },
      "source": [
        "The data indicates customers with  lower education levels default more,Customers with high school and university educational level had higher defaulter percentage than  customers with grad school education."
      ]
    },
    {
      "cell_type": "code",
      "execution_count": null,
      "metadata": {
        "id": "VJMPYW4Q7oTI"
      },
      "outputs": [],
      "source": [
        "#boxplot to visualise credit limit grouped by education level\n",
        "data = []\n",
        "for i in [1,2,3,4]:\n",
        "  temp = cred_df.loc[cred_df.education == i,\"credit_limit\"]#\n",
        "  data.append(temp)#created a list which stored the data that satisfied the above given condition\n",
        "\n",
        "fig,ax=plt.subplots()\n",
        "ax.boxplot(data)#plotting a box plot\n",
        "ax.set_xticklabels([\"grad school\",\"university\",\"high school\",\"others\"])#setting the tick labels\n",
        "plt.show()"
      ]
    },
    {
      "cell_type": "markdown",
      "metadata": {
        "id": "TP_WR5snAl3c"
      },
      "source": [
        "# **Observation:**"
      ]
    },
    {
      "cell_type": "markdown",
      "metadata": {
        "id": "b_C20EBrAqqc"
      },
      "source": [
        "From the boxplot,it is clear thatr customers with grad school education have the highest median and highest maximun number,so we can say that people with higher education levels did get higher credit limit.\n",
        "\n",
        "--> lets find out people at what age missing payment deadline most."
      ]
    },
    {
      "cell_type": "code",
      "execution_count": null,
      "metadata": {
        "id": "xl8WAwrBAeZ9"
      },
      "outputs": [],
      "source": [
        "#Checking the descriptive stat of Limit Balance feature in the dataset\n",
        "cred_df['credit_limit'].describe()\n",
        "#plotting the distribution of limit balance feature\n",
        "plt.figure(figsize=(10,5))\n",
        "sns.distplot(cred_df['credit_limit'],kde=True)\n",
        "plt.show()"
      ]
    },
    {
      "cell_type": "markdown",
      "metadata": {
        "id": "zOvCjEpVCwJK"
      },
      "source": [
        "# **Observation:**"
      ]
    },
    {
      "cell_type": "markdown",
      "metadata": {
        "id": "tWrCq74kC06f"
      },
      "source": [
        "Maximum amount of givenn credit is 50000 NT dolloar followed by 30000 and 20000"
      ]
    },
    {
      "cell_type": "code",
      "execution_count": null,
      "metadata": {
        "id": "Tq-mHP7TCaRw"
      },
      "outputs": [],
      "source": [
        "# Segment the 'AGE' column to 6 groups\n",
        "bins= [21,30,40,50,60,70,80] #creating bins\n",
        "labels = ['20-30','30-40','40-50','50-60','60-70','70-80'] #Labelling the age interval\n",
        "cat_df['age'] = pd.cut(cat_df['age'],bins=bins,labels=labels,right=False)"
      ]
    },
    {
      "cell_type": "code",
      "execution_count": null,
      "metadata": {
        "id": "OIauLkP8Jan0"
      },
      "outputs": [],
      "source": [
        "create_stacked_bar('age')"
      ]
    },
    {
      "cell_type": "markdown",
      "metadata": {
        "id": "r7pDYrnsLDia"
      },
      "source": [
        "# **Observation:**"
      ]
    },
    {
      "cell_type": "markdown",
      "metadata": {
        "id": "tEMrVOEuLKkI"
      },
      "source": [
        "Customers aged between 30-50 had the lowest delayed payment rate,While younger groups(20-30) and older groups(50-70) all had higher delayed payment rates.However ,the delayed rate dropped slightly again in customers older than 70years.\n",
        "\n",
        "-->Lets check the correlation between credit limit and default payment next month."
      ]
    },
    {
      "cell_type": "code",
      "execution_count": null,
      "metadata": {
        "id": "vS0vbEwcJqUS"
      },
      "outputs": [],
      "source": [
        "# Make a boxplot to visualize credit limit and default payment next month\n",
        "# 1: default next month; 0: no default next month\n",
        "\n",
        "def0 = cred_df.loc[cred_df['IsDefault'] == 0,'credit_limit']\n",
        "def1 = cred_df.loc[cred_df['IsDefault'] == 1,'credit_limit']\n",
        "\n",
        "#plotting the figure\n",
        "fig, ax = plt.subplots()\n",
        "ax.boxplot([def0, def1],  showfliers=False)\n",
        "\n",
        "#formattting the plot\n",
        "ax.set_xticklabels(['No_default',\"Default\"],fontweight ='bold')\n",
        "ax.set_ylabel('Credit limit',fontweight ='bold')\n",
        "ax.set_title('Credit limit & default next month',fontweight ='bold')\n",
        "\n",
        "\n",
        "plt.show()\n",
        "\n"
      ]
    },
    {
      "cell_type": "markdown",
      "metadata": {
        "id": "7QD6YW6sQ4wv"
      },
      "source": [
        "# **Observation:**"
      ]
    },
    {
      "cell_type": "markdown",
      "metadata": {
        "id": "v2p86KmlQ98h"
      },
      "source": [
        "Customer with high credit limits tend to pay the pay on time and hence are not defaulters.\n",
        "\n",
        "--->Understanding relations between bill amount and payment done in 6 months"
      ]
    },
    {
      "cell_type": "code",
      "execution_count": null,
      "metadata": {
        "id": "J3uTMtnBQgye"
      },
      "outputs": [],
      "source": [
        "cred_df.columns #show columns"
      ]
    },
    {
      "cell_type": "code",
      "execution_count": null,
      "metadata": {
        "id": "3keg-Z_ZR5Yh"
      },
      "outputs": [],
      "source": [
        "plt.subplots(figsize=(20,10))\n",
        "plt.subplot(231)\n",
        "plt.scatter(x=cred_df.payment_status_sept,y=cred_df.bill_aug,color='red',s=1)\n",
        "plt.subplot(232)\n",
        "plt.scatter(x=cred_df.payment_status_aug,y=cred_df.bill_aug,color='blue',s=1)\n",
        "plt.subplot(233)\n",
        "plt.scatter(x=cred_df.payment_status_jul,y=cred_df.bill_aug,color='green',s=1)\n",
        "\n",
        "plt.subplot(234)\n",
        "plt.scatter(x=cred_df.payment_status_jun,y=cred_df.bill_aug,color='yellow',s=1)\n",
        "plt.subplot(235)\n",
        "plt.scatter(x=cred_df.payment_status_may,y=cred_df.bill_aug,color='orange',s=1)\n",
        "plt.subplot(236)\n",
        "plt.scatter(x=cred_df.payment_status_apr,y=cred_df.bill_aug,color='pink',s=1)\n",
        "plt.suptitle('relation between bill amount and payment done in 6 months')\n",
        "plt.show()\n",
        "\n",
        "\n"
      ]
    },
    {
      "cell_type": "markdown",
      "metadata": {
        "id": "VDZU-6w0sRnK"
      },
      "source": [
        "# **Observation:**"
      ]
    },
    {
      "cell_type": "markdown",
      "metadata": {
        "id": "YPxxAYZwsW3G"
      },
      "source": [
        "Above plot indicates that there is higher proportion of clients for whom the bill amount is high but payment done against the same is very low.\n",
        "\n",
        "This we can infer since maximum of data points are closely packed along the y-axis near to 0 on X-axis.\n",
        "\n",
        "--->Total bill amount"
      ]
    },
    {
      "cell_type": "code",
      "execution_count": null,
      "metadata": {
        "id": "il5zL-y0qV47"
      },
      "outputs": [],
      "source": [
        "#assign the bill amount variable to a single variable\n",
        "\n",
        "total_bill_amt_df=cred_df[['bill_sept','bill_aug','bill_jul','bill_jun','bill_may',\"bill_apr\",'IsDefault']]\n",
        "#plotting pair plot for bill amount for better  visualisation\n",
        "sns.pairplot(data=total_bill_amt_df,hue =\"IsDefault\",palette = 'hls');"
      ]
    },
    {
      "cell_type": "markdown",
      "metadata": {
        "id": "_6CKA5-YxNDA"
      },
      "source": [
        "# **Observation:**"
      ]
    },
    {
      "cell_type": "markdown",
      "metadata": {
        "id": "atcZwQMUxSr5"
      },
      "source": [
        "The above pairplot indicates that defaulter have less bill compared to non defaulers.\n",
        "\n",
        "---->Why are there negative bills?"
      ]
    },
    {
      "cell_type": "code",
      "execution_count": null,
      "metadata": {
        "id": "M-r1ILq4uvp-"
      },
      "outputs": [],
      "source": [
        "#get statistic summary of bill statement columns\n",
        "bill = cred_df[['bill_apr',\"bill_may\",\"bill_jun\",\"bill_jul\",\"bill_aug\",\"bill_sept\"]]\n",
        "bill.describe()"
      ]
    },
    {
      "cell_type": "markdown",
      "metadata": {
        "id": "lEZJu25Syi44"
      },
      "source": [
        "We do have negative bill value as well in the dataset.Lets understand more the possible reason for negative bill."
      ]
    },
    {
      "cell_type": "code",
      "execution_count": null,
      "metadata": {
        "id": "DtE_HnTOyZpU"
      },
      "outputs": [],
      "source": [
        "#How many bills have negative amount?\n",
        "bill_melt = pd.melt(bill,var_name=\"bills\",value_name=\"count\")#to change the dataframe format\n",
        "neg_bill = bill_melt[bill_melt['count']<0]\n",
        "neg_bill.groupby('bills').count() #counting the negative bill"
      ]
    },
    {
      "cell_type": "markdown",
      "metadata": {
        "id": "eX1l-i263sI0"
      },
      "source": [
        "There are 3932 bills with negative amounts ,each month has 590-688 records"
      ]
    },
    {
      "cell_type": "code",
      "execution_count": null,
      "metadata": {
        "id": "qTvTtk5h3WZU"
      },
      "outputs": [],
      "source": [
        "#get the average amount of negative bill each month\n",
        "neg_bill_mean_ndt=neg_bill.groupby('bills')['count'].mean()\n",
        "print('Average negative amount are :\\n')\n",
        "print(neg_bill_mean_ndt)"
      ]
    },
    {
      "cell_type": "code",
      "execution_count": null,
      "metadata": {
        "id": "C2h9h-Yy4s_b"
      },
      "outputs": [],
      "source": [
        "neg_bill_mean_ndt.describe()"
      ]
    },
    {
      "cell_type": "markdown",
      "metadata": {
        "id": "oJP3Vr7r67hp"
      },
      "source": [
        "# **Observation:**"
      ]
    },
    {
      "cell_type": "markdown",
      "metadata": {
        "id": "IeaiVrON7Bv9"
      },
      "source": [
        "The average negative amount is 1698 NDT which is very less when comparing with total bill amount of each months so we can guess that this would be refunds from the last billing cycles.\n",
        "\n",
        "---> Why are some bill statement amounts greater than credit limit?"
      ]
    },
    {
      "cell_type": "code",
      "execution_count": null,
      "metadata": {
        "id": "1vPu4-n442ru"
      },
      "outputs": [],
      "source": [
        "from threading import Condition\n",
        "# Is there any bill amount that is greater than credit limit?\n",
        "#checking for such bill amount in a dataset\n",
        "condition1 = cred_df['bill_apr'] > cred_df['credit_limit']\n",
        "condition2 = cred_df['bill_may'] > cred_df['credit_limit']\n",
        "condition3 = cred_df['bill_jun'] > cred_df['credit_limit']\n",
        "condition4 = cred_df['bill_jul'] > cred_df['credit_limit']\n",
        "condition5 = cred_df['bill_aug'] > cred_df['credit_limit']\n",
        "condition6 = cred_df['bill_sept'] > cred_df['credit_limit']\n",
        "\n",
        "Large_bill=cred_df[condition1|condition2|condition3|condition4|condition5|condition6]\n",
        "Large_bill.shape"
      ]
    },
    {
      "cell_type": "markdown",
      "metadata": {
        "id": "eW9ac6-u-1DD"
      },
      "source": [
        "# **Observation:**"
      ]
    },
    {
      "cell_type": "markdown",
      "metadata": {
        "id": "FVPVOCoW-5zq"
      },
      "source": [
        "The bill statement amount should not exceed credit limit,however there are 3931 customers whose bill amounts greater than credit limit.May be the difference is due to late payment interest,assuming these customers had delayed payment.\n",
        "\n",
        "--->Lets check is there any customer who never had any transaction,meaning bill amount in 6 months remained as 0."
      ]
    },
    {
      "cell_type": "code",
      "execution_count": null,
      "metadata": {
        "id": "WXWdr1B5-raN"
      },
      "outputs": [],
      "source": [
        "#checking the customer who has bill amount as 0 in last 6 month\n",
        "bill_amt = cred_df[['bill_apr','bill_may',\"bill_jun\",\"bill_jul\",\"bill_aug\",\"bill_sept\"]]\n",
        "no_transaction = bill_amt[bill_amt.sum(axis=1)==0]\n",
        "no_transaction"
      ]
    },
    {
      "cell_type": "code",
      "execution_count": null,
      "metadata": {
        "id": "vD3JXQ70E2H-"
      },
      "outputs": [],
      "source": [
        "no_transaction.shape"
      ]
    },
    {
      "cell_type": "markdown",
      "metadata": {
        "id": "-WMJeoi6FDZE"
      },
      "source": [
        "There are 870 customers whose bill amount was 0 in last 6 months.\n",
        "\n",
        "---> Now,lets check if those 870 customers defaulted in the month(oct 2005)"
      ]
    },
    {
      "cell_type": "code",
      "execution_count": null,
      "metadata": {
        "id": "b546Q-2kFBeL"
      },
      "outputs": [],
      "source": [
        "# checking whether those 870 customer with bill amount of 0 are defaulted in next month or not\n",
        "no_transaction_de = cred_df.loc[no_transaction.index,['IsDefault']]\n",
        "no_transaction_de.value_counts()"
      ]
    },
    {
      "cell_type": "markdown",
      "metadata": {
        "id": "Mrf9oG2VKCma"
      },
      "source": [
        "# **Observations:**"
      ]
    },
    {
      "cell_type": "markdown",
      "metadata": {
        "id": "T7nELc_zKI4I"
      },
      "source": [
        "317 customers whose bill amount was 0 in last 6 months had default payment which is against common sense.Lets assume these were happened due to some errors and we will convert it into class \"0\" while doing feature engineering."
      ]
    },
    {
      "cell_type": "markdown",
      "metadata": {
        "id": "vKnmDjY7LEAV"
      },
      "source": [
        "# **Correlations:**"
      ]
    },
    {
      "cell_type": "markdown",
      "metadata": {
        "id": "6LJvjGigLMnZ"
      },
      "source": [
        "Now that we have dealt with categorical variables and the outliers,lets continue with the EDA.One way to try and understood the data is by looking for coorelations between the features and the target.We can calculate the pearson coefficient  is not the greatest method to represent \"relevence\"of a feature.but it does give us an idea of possible relationship within the data.Some general interpretations of the absolute value of the coorelations coeffient are:"
      ]
    },
    {
      "cell_type": "markdown",
      "metadata": {
        "id": "1sXNWKC6llpV"
      },
      "source": [
        "1.00-19 \"very weak\"\n",
        "\n",
        "2.20-.39 \"weak\"\n",
        "\n",
        "3.40-.59 \"moderate\"\n",
        "\n",
        "4.60-.79 \"strong\"\n",
        "\n",
        "5.80-1.0 \"very strong\""
      ]
    },
    {
      "cell_type": "code",
      "execution_count": null,
      "metadata": {
        "id": "KRg-Vq_QrCWu"
      },
      "outputs": [],
      "source": [
        "cred_df.columns"
      ]
    },
    {
      "cell_type": "code",
      "execution_count": null,
      "metadata": {
        "id": "6NzMB3s5rayc"
      },
      "outputs": [],
      "source": [
        "cred_df.info()"
      ]
    },
    {
      "cell_type": "code",
      "execution_count": null,
      "metadata": {
        "id": "ZiRgiNHRxXnk"
      },
      "outputs": [],
      "source": [
        "cred_df1 = cred_df.astype({\n",
        "    'education': 'int64',\n",
        "    'marital_status': 'int64',\n",
        "    'payment_status_sept': 'int64',\n",
        "    'payment_status_aug': 'int64',\n",
        "    'payment_status_jul': 'int64',\n",
        "    'payment_status_jun': 'int64',\n",
        "    'payment_status_may': 'int64',\n",
        "    'payment_status_apr': 'int64'\n",
        "})\n"
      ]
    },
    {
      "cell_type": "code",
      "execution_count": null,
      "metadata": {
        "id": "ke7GnnvLx94I"
      },
      "outputs": [],
      "source": [
        "cred_df1.info()"
      ]
    },
    {
      "cell_type": "code",
      "execution_count": null,
      "metadata": {
        "id": "uSLzLVtFyHBT"
      },
      "outputs": [],
      "source": [
        "cred_df1.drop(columns=['gender'], inplace=True)\n"
      ]
    },
    {
      "cell_type": "code",
      "execution_count": null,
      "metadata": {
        "id": "_mVHPCQ3y26r"
      },
      "outputs": [],
      "source": [
        "#plotting a heat  map to understand correlations between features\n",
        "fig,ax=plt.subplots(figsize=(15,10))\n",
        "sns.heatmap(cred_df1.corr(),annot=True,cmap='YlGnBu', ax=ax);"
      ]
    },
    {
      "cell_type": "markdown",
      "metadata": {
        "id": "8GfdjJ8C_p64"
      },
      "source": [
        "Since most of the features are categorical a heatmap doesnot give much insights about the coorelations so lets some statistical method."
      ]
    },
    {
      "cell_type": "code",
      "execution_count": null,
      "metadata": {
        "id": "kFjOmatFEKEo"
      },
      "outputs": [],
      "source": [
        "cred_df2=cred_df1.drop(columns=['education','marital_status','payment_status_sept','payment_status_aug','payment_status_jul','payment_status_jun','payment_status_may','payment_status_apr'])"
      ]
    },
    {
      "cell_type": "code",
      "execution_count": null,
      "metadata": {
        "id": "uwh603mI0M2N"
      },
      "outputs": [],
      "source": [
        "# plotting the features importance as per pearson correlation\n",
        "X = cred_df2.drop(['IsDefault','has_def'],axis=1)#dropping column which are not required at present\n",
        "X.corrwith(cred_df2['IsDefault']).plot.bar(figsize=(15,5),title='Correlation with Default',fontsize=10,rot=90,grid=True)#creating a bar plot of correlation of featuires"
      ]
    },
    {
      "cell_type": "markdown",
      "metadata": {
        "id": "uPXWIPs3F6Hr"
      },
      "source": [
        "# **Observation:**\n"
      ]
    },
    {
      "cell_type": "markdown",
      "metadata": {
        "id": "O04nvuoVF_eL"
      },
      "source": [
        "it seems from the above graph is that most negatively correlated feature is credit_limit,but we cannot blindly remove this feature because it is a very importance feature for prediction .ID is not important and it has no role in prediction so we will remove it while doing feature engineering."
      ]
    },
    {
      "cell_type": "markdown",
      "metadata": {
        "id": "ZpsDI0oz-fQS"
      },
      "source": [
        "# **Statistical Analysis for Correlation**"
      ]
    },
    {
      "cell_type": "markdown",
      "metadata": {
        "id": "aG5WGu_4-rtc"
      },
      "source": [
        "1.Correlation between credit_limit and bill_amount:pearson R\n",
        "\n",
        "2.Correlation between credit_limit and payment_default:t-test\n",
        "\n",
        "3.Correlation between education and payment default:chi-squared test\n",
        "\n",
        "4.Correlation between age and payment default:chi-squared test\n",
        "\n",
        "5.Correlation between sex and payment default:permutation test\n",
        "\n",
        "6.Correlation between sex and credit limit :t test\n",
        "\n"
      ]
    },
    {
      "cell_type": "markdown",
      "metadata": {
        "id": "Rbp4lP5nAxkY"
      },
      "source": [
        "**Correlation between credit limit and bill amount.**"
      ]
    },
    {
      "cell_type": "markdown",
      "metadata": {
        "id": "hcJyaV6xA99-"
      },
      "source": [
        "we assure that customers who have a high credit limit will have a higher bill amount."
      ]
    },
    {
      "cell_type": "code",
      "execution_count": null,
      "metadata": {
        "id": "1AP4f3JBB1M9"
      },
      "outputs": [],
      "source": [
        "#finding whether the customer with high credit limit has high bill amount as well\n",
        "cred_df['bill_sum']=cred_df[['bill_apr','bill_may','bill_jun','bill_jul','bill_aug','bill_sept']].sum(axis=1)\n",
        "credit_bill = cred_df[['credit_limit','bill_sum']]\n",
        "credit_bill.corr()"
      ]
    },
    {
      "cell_type": "code",
      "execution_count": null,
      "metadata": {
        "id": "nwl8T_TwCPZk"
      },
      "outputs": [],
      "source": [
        "#calculating person correlation between the credit limit and bill amount\n",
        "credit_limit = cred_df['credit_limit']\n",
        "bill_amount = cred_df[['bill_apr','bill_may','bill_jun','bill_jul','bill_aug','bill_sept']].sum(axis=1)\n",
        "stats.pearsonr(credit_limit,bill_amount)"
      ]
    },
    {
      "cell_type": "markdown",
      "metadata": {
        "id": "EJElMXQcDZeg"
      },
      "source": [
        "The pearson R shows there is a slight positive correlation of 0.3 between these 2 variables."
      ]
    },
    {
      "cell_type": "markdown",
      "metadata": {
        "id": "myeQlpgTDwqL"
      },
      "source": [
        "# **Correlation between credit limit and payment default:**"
      ]
    },
    {
      "cell_type": "markdown",
      "metadata": {
        "id": "GfjoT_RMEQKp"
      },
      "source": [
        "ideally,we should have customers income data,but since this data is not available,we can assume higher income customer have higher credit limits.Therefore ,we will verify if there is correlation between credit limit and default payment using t-test"
      ]
    },
    {
      "cell_type": "markdown",
      "metadata": {
        "id": "x4Tl9z8_F-Oq"
      },
      "source": [
        "1. Null hypothesis:credit limit does not affect default likelihood\n",
        "\n",
        "2. Alternative hypothesis : credit limit impact default likelihood\n",
        "\n",
        "3. Set significance level to 0.05"
      ]
    },
    {
      "cell_type": "code",
      "execution_count": null,
      "metadata": {
        "id": "L2vH9gMaDV_h"
      },
      "outputs": [],
      "source": [
        "#storing the required variables\n",
        "no_def_limit = cred_df2.loc[cred_df2['has_def']==0,'credit_limit']\n",
        "def_limit = cred_df2.loc[cred_df2['has_def']==1,'credit_limit']"
      ]
    },
    {
      "cell_type": "code",
      "execution_count": null,
      "metadata": {
        "id": "u1a2hVjcHtap"
      },
      "outputs": [],
      "source": [
        "#performing t test to find the coorelation by importing ttest\n",
        "ttest_ind_from_stats(mean1=np.mean(no_def_limit),std1=np.std(no_def_limit),nobs1=len(no_def_limit),\n",
        "                     mean2=np.mean(def_limit),std2=np.std(def_limit),nobs2=len(def_limit))"
      ]
    },
    {
      "cell_type": "markdown",
      "metadata": {
        "id": "L4HO_qagKMEY"
      },
      "source": [
        "# **Observation:**"
      ]
    },
    {
      "cell_type": "markdown",
      "metadata": {
        "id": "ZI1tt7nQKgx1"
      },
      "source": [
        "We get p value as 0,therefore we need to reject the null hypothesis and accept the alternative hypothesis.Credit limit has an impact on payment default."
      ]
    },
    {
      "cell_type": "markdown",
      "metadata": {
        "id": "V7B2ZwmYLC3Y"
      },
      "source": [
        "**Correlation between education and payment default**"
      ]
    },
    {
      "cell_type": "markdown",
      "metadata": {
        "id": "JgAxCMcILOuV"
      },
      "source": [
        "Previous visulisation indicates education impact default likelihood.We will use a Chi squared test to verify this findings"
      ]
    },
    {
      "cell_type": "markdown",
      "metadata": {
        "id": "HO0n2apmLmQb"
      },
      "source": [
        "1.Null hypothesis:education does not affect default likelihood.\n",
        "\n",
        "2.Alternative hypothesis:education impacts default likelihood\n",
        "\n",
        "3.Set significance level to 0.05\n",
        "\n"
      ]
    },
    {
      "cell_type": "code",
      "execution_count": null,
      "metadata": {
        "id": "CRGeUnz6KCNp"
      },
      "outputs": [],
      "source": [
        "#Get the contigence table of education and default data\n",
        "edu_def_contigence = pd.crosstab(cred_df['has_def'],cred_df['education'],margins=False)"
      ]
    },
    {
      "cell_type": "code",
      "execution_count": null,
      "metadata": {
        "id": "9E7XuzVIcalT"
      },
      "outputs": [],
      "source": [
        "#Use chi-squared test to test if education affects default likelihood\n",
        "stat,p,dof,expected = chi2_contingency(edu_def_contigence)\n",
        "p"
      ]
    },
    {
      "cell_type": "markdown",
      "metadata": {
        "id": "HluXaLkfdGij"
      },
      "source": [
        "Since the p value is close to 1,we will accept the Null hypothesis.This feature doesnot any impact on our target variable.\n",
        "\n",
        "**Correlation between age and payment default:**\n",
        "\n",
        "Previous visualization indicates education impact default likelihood.we will use a chi squared test to verify this finding.\n",
        "\n"
      ]
    },
    {
      "cell_type": "markdown",
      "metadata": {
        "id": "yH6mfGGveG4x"
      },
      "source": [
        "1.Null hypothesis:education does not affect default likelihood\n",
        "\n",
        "2.Alternative hypothesis: education impact default liklihood.\n",
        "\n",
        "3.Set significance to 0.05"
      ]
    },
    {
      "cell_type": "code",
      "execution_count": null,
      "metadata": {
        "id": "mcYEVz1ec-1X"
      },
      "outputs": [],
      "source": [
        "#get the contingence table of age and default data\n",
        "age_def_contingence = pd.crosstab(cred_df['has_def'],cred_df['age'],margins=False)"
      ]
    },
    {
      "cell_type": "code",
      "execution_count": null,
      "metadata": {
        "id": "3J6pHvxjfOoi"
      },
      "outputs": [],
      "source": [
        "age_def_contingence"
      ]
    },
    {
      "cell_type": "code",
      "execution_count": null,
      "metadata": {
        "id": "1fyNUpWefWSU"
      },
      "outputs": [],
      "source": [
        "#Use chi-squared test to test if age affects default likelihood\n",
        "stat,p,dof,expected = chi2_contingency(age_def_contingence)\n",
        "p"
      ]
    },
    {
      "cell_type": "markdown",
      "metadata": {
        "id": "nFfTDgM9gBFq"
      },
      "source": [
        "The p value is larger than signifance level,we will accept the Null hypothesis and Conclude that age does not has impact on default probability.\n",
        "\n",
        "**Correlation between sex and payment default:**"
      ]
    },
    {
      "cell_type": "markdown",
      "metadata": {
        "id": "y0RSqso1g4IB"
      },
      "source": [
        "Previous visualization it appears males tend to default more than females .Does sex have any correlations with default or was  this observation due to chance event? lets find out with permutation test on each group default proportions and mean respectively.\n",
        "\n",
        "1.Null hypothesis:education does not affect default likelihood\n",
        "\n",
        "2.Alternative hypothesis: education impact default liklihood.\n",
        "\n",
        "3.Set significance to 0.05"
      ]
    },
    {
      "cell_type": "code",
      "execution_count": null,
      "metadata": {
        "id": "Db1TaImsfzsZ"
      },
      "outputs": [],
      "source": [
        "#get the true difference of 'HAS_DEF' proportions of two groups\n",
        "male = cred_df.loc[cred_df['gender']=='M','has_def']\n",
        "female = cred_df.loc[cred_df['gender']=='F','has_def']\n",
        "true_diff_prop = male.sum()/len(male) - female.sum()/len(female)#calculating proportion\n",
        "true_diff_prop"
      ]
    },
    {
      "cell_type": "code",
      "execution_count": null,
      "metadata": {
        "id": "O9VxCmcHkEAx"
      },
      "outputs": [],
      "source": [
        "#define functions to do permulation test\n",
        "def permutation_sample(data1,data2):\n",
        "  data = np.concatenate((data1,data2))\n",
        "  permuted_data = np.random.permutation(data)\n",
        "  perm_sample_1 = permuted_data[:len(data1)]\n",
        "  perm_sample_2 = permuted_data[len(data1):]\n",
        "  return perm_sample_1,perm_sample_2\n",
        "def diff_of_prop(data1,data2):#calculating the proportion\n",
        "  diff=data1.sum()/len(data1)-data2.sum()/len(data2)\n",
        "  return diff\n",
        "\n",
        "def draw_perm_reps(data1,data2,func,size=1):\n",
        "  perm_replicates = np.empty(size)\n",
        "  for i in range(size):\n",
        "    perm_sample_1,perm_sample_2 = permutation_sample(data1,data2)\n",
        "    perm_replicates[i] = func(perm_sample_1,perm_sample_2)\n",
        "\n",
        "  return perm_replicates\n"
      ]
    },
    {
      "cell_type": "code",
      "execution_count": null,
      "metadata": {
        "id": "KbBmj9olEYVy"
      },
      "outputs": [],
      "source": [
        "#Draw 10000 permutation tests\n",
        "perm_replicates = draw_perm_reps(male,female,diff_of_prop,size=10000)"
      ]
    },
    {
      "cell_type": "code",
      "execution_count": null,
      "metadata": {
        "id": "N4dzRz_FFH4E"
      },
      "outputs": [],
      "source": [
        "#Calculate p value - the probability of getting a mean difference equal or greater than the observed mean difference\n",
        "p = np.sum(perm_replicates >= true_diff_prop)/len(perm_replicates)\n",
        "p"
      ]
    },
    {
      "cell_type": "markdown",
      "metadata": {
        "id": "2YA1fTQgJM16"
      },
      "source": [
        "# **Test conclusions**"
      ]
    },
    {
      "cell_type": "markdown",
      "metadata": {
        "id": "RoWahInKJb05"
      },
      "source": [
        "since the p value is 0,we should reject the null hypothesis and accept the alternative hypothesis,which is Sex has impact on default liklihood.To be more concrete in this case,male customers tend to default more.\n",
        "\n",
        "**Correlations between credit limit and sex.**"
      ]
    },
    {
      "cell_type": "markdown",
      "metadata": {
        "id": "L-MZZdTbKePj"
      },
      "source": [
        "Since we know the credit limit is strongly correlated with default probability.\n",
        "lets see if sex plays any role in credit limit and default likelihood.\n",
        "\n",
        "1.Null hypothesis : Sex has no impact on credit limit\n",
        "\n",
        "2.Alternate hypothesis:sex has impact on credit limit.\n",
        "\n",
        "3.Set significance level to 0.05"
      ]
    },
    {
      "cell_type": "code",
      "execution_count": null,
      "metadata": {
        "id": "Dc0ZAV6CJJn6"
      },
      "outputs": [],
      "source": [
        "# calculate the true mean difference of credit limit\n",
        "\n",
        "male_limit = cred_df.loc[cred_df['gender']=='M','credit_limit']\n",
        "female_limit = cred_df.loc[cred_df['gender']=='F','credit_limit']\n",
        "print(np.mean(male_limit),np.mean(female_limit))"
      ]
    },
    {
      "cell_type": "code",
      "execution_count": null,
      "metadata": {
        "id": "D4L_GzncQfeB"
      },
      "outputs": [],
      "source": [
        "#Use t-test to verify if different sex groups have the same mean of credit limit\n",
        "ttest_ind_from_stats(mean1=np.mean(male_limit),std1=np.std(male_limit),nobs1=len(male_limit),\n",
        "                     mean2=np.mean(female_limit),std2=np.std(female_limit),nobs2=len(female_limit))"
      ]
    },
    {
      "cell_type": "markdown",
      "metadata": {
        "id": "0yjNZ8c3SLHM"
      },
      "source": [
        "The p-value is much higher than sigma,so we will accept null hypothesis and accept alternative hypothesis.We have verifed that sex plays a role in credit limit and it is not due to chance.\n",
        "\n",
        "**Feature Engineering**"
      ]
    },
    {
      "cell_type": "markdown",
      "metadata": {
        "id": "qkk2ES1WTEcy"
      },
      "source": [
        "Lets a take a look at all columns corresponding to customers whose bill amount was 0 in last 6 months."
      ]
    },
    {
      "cell_type": "code",
      "execution_count": null,
      "metadata": {
        "id": "Rqa2k7O7SDjY"
      },
      "outputs": [],
      "source": [
        "#customer with no consumption for the past 6 months\n",
        "\n",
        "fil = ((cred_df.bill_apr == 0)&(cred_df.bill_may == 0)&(cred_df.bill_jun == 0)&(cred_df.bill_jun == 0)&(cred_df.bill_jul == 0)&(cred_df.bill_aug == 0)&(cred_df.bill_sept == 0))\n",
        "cred_df[fil][['payment_amount_apr','payment_amount_may','payment_amount_jun','payment_amount_jul','payment_amount_aug',\n",
        "              'payment_amount_sept','bill_apr','bill_may','bill_jun','bill_jul','bill_aug','bill_sept','payment_status_apr',\n",
        "              'payment_status_may','payment_status_aug','payment_status_sept']].head(10)"
      ]
    },
    {
      "cell_type": "markdown",
      "metadata": {
        "id": "ZPUYDo9acd8k"
      },
      "source": [
        "I was just confirming whether any payment status given as wrong for this 316 people .Thankfully the dataset seems correct."
      ]
    },
    {
      "cell_type": "markdown",
      "metadata": {
        "id": "XP0xg_iFc9At"
      },
      "source": [
        "# **One Hot encoding:**"
      ]
    },
    {
      "cell_type": "markdown",
      "metadata": {
        "id": "rEnqMz74dGaA"
      },
      "source": [
        "Lets create a copy of our dataset for further processing"
      ]
    },
    {
      "cell_type": "code",
      "execution_count": null,
      "metadata": {
        "id": "5PdPp_x4cbCv"
      },
      "outputs": [],
      "source": [
        "cred_df_copy = cred_df[['credit_limit','gender','education','marital_status','age','payment_status_sept',\n",
        "                        'payment_status_aug','payment_status_jul','payment_status_jun','payment_status_may','payment_status_apr',\n",
        "                        'bill_sept','bill_aug','bill_jul','bill_jun','bill_may','bill_apr','payment_amount_sept',\n",
        "                        'payment_amount_jul','payment_amount_aug','payment_amount_may','payment_amount_jun','payment_amount_apr','IsDefault','bill_sum']]"
      ]
    },
    {
      "cell_type": "code",
      "execution_count": null,
      "metadata": {
        "id": "uvSZmJowjXkM"
      },
      "outputs": [],
      "source": [
        "#One hot encode all the categorical features\n",
        "#Lets convert categorical features into object dtype first\n",
        "cred_df_copy[['gender','marital_status','education','payment_status_sept','payment_status_aug','payment_status_jul','payment_status_jun','payment_status_may','payment_status_apr']] = cred_df_copy[['gender','marital_status','education','payment_status_sept','payment_status_aug','payment_status_jul',\n",
        "             'payment_status_jun','payment_status_may','payment_status_apr']].astype('object')\n",
        "#One hot encoding\n",
        "cred_df_copy = pd.get_dummies(cred_df_copy)\n",
        "cred_df_copy"
      ]
    },
    {
      "cell_type": "code",
      "execution_count": null,
      "metadata": {
        "id": "k6EUPBJDnr44"
      },
      "outputs": [],
      "source": [
        "cred_df_copy.head()"
      ]
    },
    {
      "cell_type": "markdown",
      "metadata": {
        "id": "7aBiftLkpjHF"
      },
      "source": [
        "# **Feature Selection:**"
      ]
    },
    {
      "cell_type": "markdown",
      "metadata": {
        "id": "_dfhThJIwklX"
      },
      "source": [
        "Three benifits of performing feature selections before modeling your data are:\n",
        "\n",
        "1.Reduces Overfitting :Less redundants data means less opporttunity to make decisions based on noise.\n",
        "\n",
        "2.Improve Accurarcy : Less misleading data means modelling accuracy improves.\n",
        "\n",
        "3.Reduces Training Time:Less data means tha algorithm train faster."
      ]
    },
    {
      "cell_type": "markdown",
      "metadata": {
        "id": "AR6_tGYlxujw"
      },
      "source": [
        "**Feature importance:**"
      ]
    },
    {
      "cell_type": "markdown",
      "metadata": {
        "id": "MbS-hBWHx0-d"
      },
      "source": [
        "Feature importance gives us a score for each feature of our data.the higher the\n",
        "score more important or relevant is the feature towards our output variable.\n",
        "\n",
        "Feature importance is an bulit classs that comes with Tree Based Classified ,we\n",
        "will be using Extra Tree Classifier for Extracting the top 20 features for our\n",
        "datasets"
      ]
    },
    {
      "cell_type": "code",
      "execution_count": null,
      "metadata": {
        "id": "f1lZYSsDpf9z"
      },
      "outputs": [],
      "source": [
        "#Split the cred_df_copy into train and test sets\n",
        "X_d = cred_df_copy.drop(columns=['IsDefault'],axis=1)\n",
        "y_d=cred_df_copy['IsDefault']\n"
      ]
    },
    {
      "cell_type": "code",
      "execution_count": null,
      "metadata": {
        "id": "iBqkG6JlyDt0"
      },
      "outputs": [],
      "source": [
        "model = ExtraTreesClassifier()\n",
        "model.fit(X_d,y_d)\n",
        "plt.figure(figsize=(15,10))\n",
        "print('feature_importances of Tree based classifiers:\\n',model.feature_importances_)#use inbulit class feature_importance of tree based classifier\n",
        "#plot graph of feature importances for better visualisation\n",
        "feat_importances = pd.Series(model.feature_importances_,index=X_d.columns)\n",
        "feat_importances.nlargest(23).plot(kind='barh',color = 'green')"
      ]
    },
    {
      "cell_type": "markdown",
      "metadata": {
        "id": "iOsbOcfPz_32"
      },
      "source": [
        "**Feature Selection using ANOVA F-test:**"
      ]
    },
    {
      "cell_type": "code",
      "execution_count": null,
      "metadata": {
        "id": "uawJPJ6_zuw4"
      },
      "outputs": [],
      "source": [
        "num_feats = 23\n",
        "embeded_rf_selector = SelectFromModel(RandomForestClassifier(n_estimators=100),max_features=num_feats)\n",
        "embeded_rf_selector.fit(X_d,y_d)\n",
        "embeded_rf_support = embeded_rf_selector.get_support()\n",
        "embeded_rf_feature = X_d.loc[:,embeded_rf_support].columns.tolist()\n",
        "print(str(len(embeded_rf_feature)),'selected features')"
      ]
    },
    {
      "cell_type": "code",
      "execution_count": null,
      "metadata": {
        "id": "NhTc2shZ2MSP"
      },
      "outputs": [],
      "source": [
        "print('selected features:\\n',embeded_rf_feature)"
      ]
    },
    {
      "cell_type": "code",
      "execution_count": null,
      "metadata": {
        "id": "CvTDpoqy31p7"
      },
      "outputs": [],
      "source": [
        "#selected_features in new dataframe\n",
        "df_new = cred_df_copy[['IsDefault','credit_limit','age','bill_sept','bill_aug','bill_jul','bill_jun','bill_may','bill_apr','payment_amount_sept','payment_amount_aug','payment_amount_jul',\n",
        "                       'payment_amount_jun','payment_amount_may','payment_amount_apr','bill_sum','payment_status_sept_-1','payment_status_sept_2','payment_status_aug_-1','payment_status_aug_2','payment_status_jul_-1']]"
      ]
    },
    {
      "cell_type": "markdown",
      "metadata": {
        "id": "VdWYYHGE606s"
      },
      "source": [
        "**Train-test Split & Sampling:**"
      ]
    },
    {
      "cell_type": "markdown",
      "metadata": {
        "id": "uUTyW12U6_7M"
      },
      "source": [
        "we have already seen in EDA that there is a class imbalance for our target variable.we can apply some method to deal it.3 ways for doing imbalanced classification problems.\n",
        "\n",
        "1. Random Oversampling:Randomly duplicate examples in the minority class,which\n",
        "has the disadvantage of incresing the likilihood of overfitting since it replicates the minority class event.\n",
        "\n",
        "2. Random undersampling:Randomly delete examples in this mojority class,which has discard potentially useful information and the sample can be biased.\n",
        "\n",
        "3. SMOTE:synthetic minority oversampling technique.\n",
        "\n",
        "We will be using SMOTE for class balancing."
      ]
    },
    {
      "cell_type": "code",
      "execution_count": null,
      "metadata": {
        "id": "HndnOPcq6vHF"
      },
      "outputs": [],
      "source": [
        "#split the df_new into train and test sets\n",
        "X = df_new.drop(columns=['IsDefault'],axis=1)\n",
        "y = df_new['IsDefault']\n",
        "X_train,X_test,y_train,y_test = train_test_split(X,y,test_size=0.3,random_state=42)"
      ]
    },
    {
      "cell_type": "code",
      "execution_count": null,
      "metadata": {
        "id": "wKMekUjMG-6L"
      },
      "outputs": [],
      "source": [
        "#create the training df by remerging X_train and y_train\n",
        "df_train = X_train.join(y_train)"
      ]
    },
    {
      "cell_type": "code",
      "execution_count": null,
      "metadata": {
        "id": "keL3r7TlHabS"
      },
      "outputs": [],
      "source": [
        "#checking the distribution of the samples in the train dataset\n",
        "#separate majority and minority classes\n",
        "df_majority = df_train[df_train.IsDefault==0]\n",
        "df_minority = df_train[df_train.IsDefault==1]\n",
        "\n",
        "major_percent=df_majority.IsDefault.count()/df_train.shape[0]*100\n",
        "minor_percent=df_minority.IsDefault.count()/df_train.shape[0]*100\n",
        "\n",
        "print('Customer with no default payment next month:')\n",
        "print(f'{df_majority.IsDefault.count()}({round(major_percent,2)}%)')\n",
        "print(\"----------\")\n",
        "print('customers with Default payment next month:')\n",
        "print(f'{df_minority.IsDefault.count()}({round(minor_percent,2)}%)')\n",
        "print(\"----------\")\n",
        "#the imbalanced train dataset"
      ]
    },
    {
      "cell_type": "code",
      "execution_count": null,
      "metadata": {
        "id": "-mYvW_Ikt0La"
      },
      "outputs": [],
      "source": [
        "#SMOTE:Synthesis minority oversampling Technique\n",
        "\n",
        "sm = SMOTE(random_state=42)\n",
        "X_SMOTE,y_SMOTE = sm.fit_resample(X_train,y_train)\n",
        "print(len(y_SMOTE))\n",
        "print(y_SMOTE.sum())"
      ]
    },
    {
      "cell_type": "markdown",
      "metadata": {
        "id": "1dLy2rx6usW7"
      },
      "source": [
        "So we have 1 sets of training data:Train data with SMOTE algorithm"
      ]
    },
    {
      "cell_type": "code",
      "execution_count": null,
      "metadata": {
        "id": "lLqVAi9YJuUa"
      },
      "outputs": [],
      "source": [
        "##original Dataset\n",
        "xtrain_data = [X_SMOTE]\n",
        "ytrain_data = [y_SMOTE]\n",
        "name =['SMOTE']"
      ]
    },
    {
      "cell_type": "markdown",
      "metadata": {
        "id": "7eiT-l94v5H2"
      },
      "source": [
        "# **Predictive Models:**"
      ]
    },
    {
      "cell_type": "markdown",
      "metadata": {
        "id": "Wnlx5ysCwAED"
      },
      "source": [
        "# **Metrics**"
      ]
    },
    {
      "cell_type": "markdown",
      "metadata": {
        "id": "vS3EGMx0wIts"
      },
      "source": [
        "for evalution,we choose recall as the metric as we would like to predict which\n",
        "customers are likely to have default payment next month based on prudence--we rather overestimate the pothential loss/short of income flow than underestimate\n",
        "it in the perspective of cash flow control and risk management.we want to identify as many default customer as possible even though some of them are not actually defaulted.Recall is the ratio of true positive over the sum of True positive and false negative which is the probability that we predict correctly."
      ]
    },
    {
      "cell_type": "code",
      "execution_count": null,
      "metadata": {
        "id": "jQBF3zOeuo_i"
      },
      "outputs": [],
      "source": [
        "# Define a function which evaluates the model with train and test score\n",
        "# And also performs a K-fold cross validation on the train dataset\n",
        "\n",
        "\n",
        "def model_eval(algo, Xtrain,ytrain,Xtest,ytest):\n",
        "    from sklearn.metrics import confusion_matrix,accuracy_score,roc_auc_score,roc_curve,classification_report\n",
        "\n",
        "    algo.fit(Xtrain,ytrain)\n",
        "    y_pred = algo.predict(Xtrain)\n",
        "    y_train_prob = algo.predict_proba(Xtrain)[:,1]\n",
        "\n",
        "    #print('confusion matrix-train\\n',confusion_matrix(ytrain,y_pred))\n",
        "    print('Overall Train Accuracy',accuracy_score(ytrain,y_pred))\n",
        "    print('Train AUC Score',roc_auc_score(ytrain,y_train_prob))\n",
        "    print('Overall Train recall',recall_score(ytrain,y_pred))\n",
        "\n",
        "    y_test_pred = algo.predict(Xtest)\n",
        "    y_test_prob = algo.predict_proba(Xtest)[:,1]\n",
        "\n",
        "    #print('confusion matrix-test\\n',confusion_matrix(ytest,y_test_pred))\n",
        "    print('Overall Test Accuracy\\n',accuracy_score(ytest,y_test_pred))\n",
        "    print('Test AUC Score\\n',roc_auc_score(ytest,y_test_prob))\n",
        "    print('Classification Report of Test\\n',  classification_report(ytest, y_test_pred))\n",
        "\n",
        "\n",
        "    # kf = KFold(n_splits = 5,shuffle = True,random_state = 42)\n",
        "    # score=[]\n",
        "    # for train_idx,test_idx in kf.split(Xtrain,ytrain):\n",
        "    #     xtrain_k,xtest_k = Xtrain.iloc[train_idx,:],Xtrain.iloc[test_idx,:]\n",
        "    #     ytrain_k,ytest_k = ytrain.iloc[train_idx],ytrain.iloc[test_idx]\n",
        "    #     algo.fit(xtrain_k,ytrain_k)\n",
        "    #     y_pred_k = algo.predict(xtest_k)\n",
        "    #     roc = roc_auc_score(ytest_k,y_pred_k)\n",
        "    #     score.append(roc)\n",
        "\n",
        "    # print('K-Fold scores: %0.03f (+/- %0.5f)' % (np.mean(score),np.var(score,ddof=1)))\n",
        "\n",
        "    f,ax =  plt.subplots(1,2,figsize=(14,6))\n",
        "    #plt.figure(figsize=(6,4))\n",
        "    ConfMatrix = confusion_matrix(ytest,y_test_pred)\n",
        "    sns.heatmap(ConfMatrix,annot=True, cmap='YlGnBu', fmt=\"d\",\n",
        "            xticklabels = ['Non-default', 'Default'],\n",
        "            yticklabels = ['Non-default', 'Default'],linewidths=.5,ax = ax[0])\n",
        "    ax[0].set_ylabel('True label')\n",
        "    ax[0].set_xlabel('Predicted label')\n",
        "    ax[0].set_title('Confusion Matrix')\n",
        "\n",
        "    global fpr,tpr,thresholds\n",
        "    fpr,tpr,thresholds = roc_curve(ytest,y_test_prob)\n",
        "    ax[1].plot(fpr,tpr,color = 'r')\n",
        "    ax[1].plot(fpr,fpr,color = 'green')\n",
        "    ax[1].set_ylabel('TPR')\n",
        "    ax[1].set_xlabel('FPR')\n",
        "    ax[1].set_title('ROC Curve')\n",
        "    plt.show()\n",
        "\n"
      ]
    },
    {
      "cell_type": "markdown",
      "metadata": {
        "id": "LjLKqspLjs64"
      },
      "source": [
        "# **1.Logistic Regression:**"
      ]
    },
    {
      "cell_type": "code",
      "execution_count": null,
      "metadata": {
        "id": "BpMZHDd3dQ75"
      },
      "outputs": [],
      "source": [
        "for Xtrain,ytrain,sampleName in zip(xtrain_data,ytrain_data,name):\n",
        "    global best_log\n",
        "    print('Data is ',sampleName)\n",
        "    best_log = []\n",
        "    # Setup the hyperparameter grid, (not scaled data)\n",
        "    param_grid = {'C': np.logspace(-5, 8, num = 15)}\n",
        "    ss = StandardScaler()\n",
        "    standardized_Xtrain = ss.fit_transform(Xtrain)\n",
        "    standardized_Xtrain_df = pd.DataFrame(standardized_Xtrain,columns = Xtrain.columns)\n",
        "\n",
        "    # Instantiate a logistic regression classifier\n",
        "    logreg = LogisticRegression()\n",
        "    # Instantiate the RandomizedSearchCV object\n",
        "    logreg_cv = RandomizedSearchCV(logreg, param_grid ,scoring = 'recall', cv=5, random_state=0)\n",
        "    # Fit it to the data\n",
        "    logreg_cv.fit(standardized_Xtrain_df,ytrain)\n",
        "    best_log.append(logreg_cv.best_params_)\n",
        "    # Print the tuned parameters and score\n",
        "    print(\"Tuned Logistic Regression Parameters: {}\".format(logreg_cv.best_params_))\n",
        "    print(\"_\" * 100)"
      ]
    },
    {
      "cell_type": "code",
      "execution_count": null,
      "metadata": {
        "id": "9TR-40nCrLzY"
      },
      "outputs": [],
      "source": [
        "#best parameter of each Sampling Method\n",
        "param_log = [{'C':0.0007196856730011522}]"
      ]
    },
    {
      "cell_type": "code",
      "execution_count": null,
      "metadata": {
        "id": "zV6Zz3uoLcjr"
      },
      "outputs": [],
      "source": [
        "# Result of each Sampling Method\n",
        "\n",
        "index = [0]\n",
        "\n",
        "for Xtrain,ytrain,sampleName,index in zip(xtrain_data,ytrain_data,name,index):\n",
        "    print('Data is ',sampleName ,' And with hyper parameter ', param_log[index])\n",
        "    ss = StandardScaler()\n",
        "    standardized_Xtrain = ss.fit_transform(Xtrain)\n",
        "    standardized_Xtrain_df = pd.DataFrame(standardized_Xtrain,columns = Xtrain.columns)\n",
        "    standardized_Xtest = ss.transform(X_test)\n",
        "    model_eval(LogisticRegression(**param_log[index],random_state= 42), standardized_Xtrain_df ,ytrain,standardized_Xtest,y_test)\n",
        "    print(\"_\" * 60)\n"
      ]
    },
    {
      "cell_type": "code",
      "execution_count": null,
      "metadata": {
        "id": "ML4c82M7OBmP"
      },
      "outputs": [],
      "source": [
        "#Find out the best parameters for all the datasets\n",
        "for Xtrain,ytrain,sampleName in zip(xtrain_data,ytrain_data,name):\n",
        "  print('Data is ',sampleName)\n",
        "  #instantiate a Decision tree classifier:tree\n",
        "  dtc = DecisionTreeClassifier(random_state=42)\n",
        "  #Setup the parameter and distributions to sample from :param_dist\n",
        "  params = {'max_depth':sp_randint(2,20),\n",
        "            'min_samples_leaf':sp_randint(1,20),\n",
        "            'min_samples_split':sp_randint(2,40),\n",
        "            'criterion':['gini','entropy']}\n",
        "  #instantiate  the randomizedsearchcv object :tree_cv\n",
        "  rsearch_dt = RandomizedSearchCV(dtc,param_distributions=params,cv =5,scoring='recall',n_iter = 100,n_jobs=-1)\n",
        "  #fit it to the data\n",
        "  rsearch_dt.fit(Xtrain,ytrain)\n",
        "  print(\"Tuned Decision Tree parameters:{}\".format(rsearch_dt.best_params_),\"For\",sampleName)\n",
        "  print(\"_\"*100)"
      ]
    },
    {
      "cell_type": "code",
      "execution_count": null,
      "metadata": {
        "id": "qq3MbJpZdqC4"
      },
      "outputs": [],
      "source": [
        "#best parameter of each Sampling Method:\n",
        "param_dt = [{'criterion': 'gini', 'max_depth': 18, 'min_samples_leaf': 2, 'min_samples_split': 13}]"
      ]
    },
    {
      "cell_type": "code",
      "execution_count": null,
      "metadata": {
        "id": "1LLlm5o4f9KF"
      },
      "outputs": [],
      "source": [
        "#Result of each Sampling Method\n",
        "\n",
        "index = [0]\n",
        "for Xtrain,ytrain,sampleName,index in zip(xtrain_data,ytrain_data,name,index):\n",
        "  print('Data is ',sampleName,'And with hyper parameter',param_dt[index])\n",
        "  model_eval(DecisionTreeClassifier(**param_dt[index],random_state=42),Xtrain,ytrain,X_test,y_test)\n",
        "  print(\"_\"*60)"
      ]
    },
    {
      "cell_type": "code",
      "execution_count": null,
      "metadata": {
        "id": "vhYFQ2-nk9va"
      },
      "outputs": [],
      "source": [
        "#Plotting feature importance based on Decision Tree:\n",
        "features = X_train.columns\n",
        "importances = rsearch_dt.best_estimator_.feature_importances_\n",
        "indices = np.argsort(importances)\n",
        "plt.figure(figsize=(15,10))\n",
        "plt.title('Feature Importance based on Decision Tree')\n",
        "plt.barh(range(len(indices)),importances[indices],color='g',align='center')\n",
        "plt.yticks(range(len(indices)),[features[i] for i in indices])\n",
        "plt.xlabel('Relative Importance')\n",
        "plt.show()"
      ]
    },
    {
      "cell_type": "markdown",
      "metadata": {
        "id": "G8eILYNJpGv2"
      },
      "source": [
        "# **2.Random Forest**"
      ]
    },
    {
      "cell_type": "markdown",
      "metadata": {
        "id": "ANKhjiNKpe3E"
      },
      "source": [
        "A random forest clssifier:A random forest is meta estimator that fits a number of decision tree classifiers on various sub_samples of the dataset and uses averaging to improve the predictive accuracy and control over_fitting."
      ]
    },
    {
      "cell_type": "code",
      "execution_count": null,
      "metadata": {
        "id": "tyU3xx76oq9t"
      },
      "outputs": [],
      "source": [
        "for Xtrain,ytrain,sampleName in zip(xtrain_data,ytrain_data,name):\n",
        "    global best_rf\n",
        "    best_rf =[]\n",
        "    print('Data is ',sampleName)\n",
        "    # Instantiate a Random forest classifier: tree\n",
        "    rfc = RandomForestClassifier(random_state = 42)\n",
        "\n",
        "    # Setup the parameters and distributions to sample from: param_dist\n",
        "    params = {'n_estimators' : sp_randint(50,200),\n",
        "              'max_features' : sp_randint(1,24),'max_depth': sp_randint(2,10),\n",
        "             'min_samples_leaf':sp_randint(1,20),\n",
        "             'min_samples_split':sp_randint(2,20),\n",
        "             'criterion':['gini','entropy']}\n",
        "\n",
        "    # Instantiate the RandomizedSearchCV object\n",
        "    rsearch_rfc = RandomizedSearchCV(rfc, param_distributions= params, cv = 3, scoring = 'recall',n_iter = 50,random_state = 42,n_jobs = -1,pre_dispatch  = \"2*n_jobs\",return_train_score = True)\n",
        "\n",
        "    # Fit it to the data\n",
        "    rsearch_rfc.fit(Xtrain, ytrain)\n",
        "    best_rf.append(rsearch_rfc.best_params_)\n",
        "    print(\"Tuned Random Tree Parameters: {}\".format(rsearch_rfc.best_params_), \"for\",sampleName)\n",
        "    print(\"_\" * 100)\n",
        "\n"
      ]
    },
    {
      "cell_type": "code",
      "execution_count": null,
      "metadata": {
        "id": "k_ScaWwX3pjd"
      },
      "outputs": [],
      "source": [
        "#Best Parameter of each Sampling Method\n",
        "param_rf = [{'criterion': 'gini', 'max_depth': 7, 'max_features': 2, 'min_samples_leaf': 12, 'min_samples_split': 7, 'n_estimators': 90}]"
      ]
    },
    {
      "cell_type": "code",
      "execution_count": null,
      "metadata": {
        "id": "69xXzr0H9RBT"
      },
      "outputs": [],
      "source": [
        "#Result of each Sampling Method\n",
        "index =[0]\n",
        "for Xtrain,ytrain,sampleName,index in zip(xtrain_data,ytrain_data,name,index):\n",
        "  print('Data is',sampleName,'And with hyper parameter',param_rf[index])\n",
        "  model_eval(RandomForestClassifier(**param_rf[index],random_state = 42),Xtrain,ytrain,X_test,y_test)\n",
        "  print('_'* 60)"
      ]
    },
    {
      "cell_type": "code",
      "execution_count": null,
      "metadata": {
        "id": "9WB3VOh4DsMt"
      },
      "outputs": [],
      "source": [
        "#plotting feature importance based on Random Forest\n",
        "features = X_train.columns\n",
        "importances = rsearch_rfc.best_estimator_.feature_importances_\n",
        "indices = np.argsort(importances)\n",
        "plt.figure(figsize=(10,5))\n",
        "plt.title('Feature Importance based on Random Forest')\n",
        "plt.barh(range(len(indices)),importances[indices],color='green',align='center')\n",
        "plt.yticks(range(len(indices)),[features[i] for i in indices])\n",
        "plt.xlabel('Relative Importance')\n",
        "plt.show()"
      ]
    },
    {
      "cell_type": "markdown",
      "metadata": {
        "id": "YY60bAMvFce9"
      },
      "source": [
        "# **4. K Nearest Neighbour Classifier**"
      ]
    },
    {
      "cell_type": "code",
      "execution_count": null,
      "metadata": {
        "colab": {
          "background_save": true
        },
        "id": "hitE1hRuFWyd"
      },
      "outputs": [],
      "source": [
        "#find out the best parameters for all the datasets\n",
        "for Xtrain,ytrain in zip(xtrain_data,ytrain_data):\n",
        "  global best_knn\n",
        "  best_knn = []\n",
        "  print('Data is ',sampleName)\n",
        "  #Set the hyperparameter grid, (not scaled data)\n",
        "  param_grid = {\n",
        "      \"n_neighbors\":[500,800,1000,1500,2000],\n",
        "      'leaf_size':[5,10,20,30,50],\n",
        "  }\n",
        "  #Instantiate a support vector classifier\n",
        "  knn_clf = KNeighborsClassifier()\n",
        "  #Instantiate the RandomizedSearchCV object\n",
        "  randomknn_clf = RandomizedSearchCV(knn_clf,param_grid,refit =True,verbose=3,scoring='recall',cv=3,random_state=0)\n",
        "  #fit it to the data\n",
        "  randomknn_clf.fit(Xtrain,ytrain)\n",
        "  best_knn.append(randomknn_clf.best_params_)\n",
        "  #print the tuned parameter and score\n",
        "  print(\"Tuned KNN parameters:{}\".format(randomknn_clf.best_params_))\n",
        "  print(\"_\" * 100)"
      ]
    },
    {
      "cell_type": "code",
      "execution_count": null,
      "metadata": {
        "colab": {
          "background_save": true
        },
        "id": "p8DuXG06JLu9"
      },
      "outputs": [],
      "source": [
        "#Best Parameter of each Sampling Method\n",
        "param_knn=[randomknn_clf.best_params_]"
      ]
    },
    {
      "cell_type": "code",
      "execution_count": null,
      "metadata": {
        "colab": {
          "background_save": true
        },
        "id": "EluigB2aLIRh"
      },
      "outputs": [],
      "source": [
        "# Result of each Sampling Method\n",
        "index =[0]\n",
        "for Xtrain,ytrain,sampleName,index in zip(xtrain_data,ytrain_data,name,index):\n",
        "  print('Data is',sampleName,'And with hyper parameter ',param_knn[index])\n",
        "  model_eval(KNeighborsClassifier(**param_knn[index]),Xtrain,ytrain,X_test,y_test)\n",
        "  print('_'*60)"
      ]
    },
    {
      "cell_type": "markdown",
      "metadata": {
        "id": "E6HtRJP9MjTH"
      },
      "source": [
        "# **Conclusion**"
      ]
    },
    {
      "cell_type": "markdown",
      "metadata": {
        "id": "T2nboUbjMp6f"
      },
      "source": [
        "1. there was an imbalance in the target variable which was balanced using SMOTE(Synthetic Minority OverSampling Technique)\n",
        "\n",
        "2. Logistic Regression,Decision Trees,Random Forest algorithm were implemented .\n",
        "The important metric to compare all the algorithm in this case is \"RECALL\".As the company can not afford to predict False negative.ie predict defaulter as a non defaulter . since ,company is one,who will give a to money to the customers.\n",
        "if,for any reason giving to money to defaulter is gaining more risk to getting\n",
        "the investment back.Hence,here identifying false negative is important.\n",
        "\n",
        "3. Logistic Regression had an imbalance in the recall score of about 83% for class 0 and 56% for class 1.\n",
        "\n",
        "4. performance on Decision tree and Random Forest is comparatively better.Decision Trees and Random Forest have recall scores of 75% (class0),49% (class1) and 65%(class0),66%(class1)respectively.\n",
        "\n",
        "5. KNN classifier could be good model but it needs further hypertuning.\n",
        "\n",
        "6. The features like credit limit,payment amount and bill amount are importance\n",
        "features as per Random Forest and Decision tree algorithm.\n"
      ]
    },
    {
      "cell_type": "code",
      "execution_count": null,
      "metadata": {
        "colab": {
          "background_save": true
        },
        "id": "m7iSiwN3MNRo"
      },
      "outputs": [],
      "source": []
    },
    {
      "cell_type": "code",
      "execution_count": null,
      "metadata": {
        "id": "uwif8EFKky23"
      },
      "outputs": [],
      "source": [
        "from google.colab import drive\n",
        "drive.mount('/content/drive')"
      ]
    },
    {
      "cell_type": "code",
      "execution_count": null,
      "metadata": {
        "id": "I1rgVHCsFmgy"
      },
      "outputs": [],
      "source": []
    }
  ],
  "metadata": {
    "colab": {
      "provenance": [],
      "mount_file_id": "1_WqmqLxHabNEsAzMfs3SuR1G5-eeHD0e",
      "authorship_tag": "ABX9TyPDJRwoZcEo10fvRl1DMXfY",
      "include_colab_link": true
    },
    "kernelspec": {
      "display_name": "Python 3",
      "name": "python3"
    },
    "language_info": {
      "name": "python"
    }
  },
  "nbformat": 4,
  "nbformat_minor": 0
}